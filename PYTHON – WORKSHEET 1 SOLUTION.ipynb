{
 "cells": [
  {
   "cell_type": "markdown",
   "metadata": {},
   "source": [
    "Q11 to Q15 are programming questions."
   ]
  },
  {
   "cell_type": "markdown",
   "metadata": {},
   "source": [
    " Question 11. Write a python program to find the factorial of a number."
   ]
  },
  {
   "cell_type": "raw",
   "metadata": {},
   "source": [
    "Example of factorial \n",
    "\n",
    "factorial of 5= 5!\n",
    "    = 5*4*3*2*1\n",
    "    =120"
   ]
  },
  {
   "cell_type": "code",
   "execution_count": 1,
   "metadata": {},
   "outputs": [
    {
     "name": "stdout",
     "output_type": "stream",
     "text": [
      "enter the factorial number = 5\n",
      "The factorial of  5 is 120\n"
     ]
    }
   ],
   "source": [
    "num=int(input('enter the factorial number = '))\n",
    "factorial =1\n",
    "\n",
    "if num<0:\n",
    "    print('factorial does not exist for negative number')\n",
    "    \n",
    "elif num==0:\n",
    "    print('factorial of 0 is = 1')\n",
    "    \n",
    "else:\n",
    "    for i in range(1,num+1):\n",
    "        factorial=factorial*i\n",
    "    print('The factorial of ',num,'is',factorial)"
   ]
  },
  {
   "cell_type": "code",
   "execution_count": null,
   "metadata": {},
   "outputs": [],
   "source": []
  },
  {
   "cell_type": "markdown",
   "metadata": {},
   "source": [
    "Question 12:- Write a python program to find whether a number is prime or composite. "
   ]
  },
  {
   "cell_type": "code",
   "execution_count": 51,
   "metadata": {},
   "outputs": [
    {
     "name": "stdout",
     "output_type": "stream",
     "text": [
      "Enter the number = 8\n",
      "8 number is not a prime\n",
      "2 times 4 is 8\n"
     ]
    }
   ],
   "source": [
    "num=int(input('Enter the number = '))\n",
    "\n",
    "if num>1:\n",
    "    for i in range(2,num):\n",
    "        if (num%i)==0:\n",
    "            print(num,'number is not a prime')\n",
    "            print(i,'times',num//i,'is',num)\n",
    "            break\n",
    "    else: \n",
    "        print(num,'number is prime')\n",
    "    \n",
    "else:\n",
    "    print(num,'number is not prime')"
   ]
  },
  {
   "cell_type": "code",
   "execution_count": null,
   "metadata": {},
   "outputs": [],
   "source": []
  },
  {
   "cell_type": "markdown",
   "metadata": {},
   "source": [
    "Question 13:- Write a python program to check whether a given string is palindrome or not. "
   ]
  },
  {
   "cell_type": "code",
   "execution_count": 77,
   "metadata": {},
   "outputs": [],
   "source": [
    "\n",
    "def paldm():\n",
    "    string=input((\"Enter a string:\"))\n",
    "    if(string==string[::-1]):\n",
    "        print(\"The string is a palindrome\")\n",
    "    else:\n",
    "        print(\"Not a palindrome\")"
   ]
  },
  {
   "cell_type": "code",
   "execution_count": 78,
   "metadata": {},
   "outputs": [
    {
     "name": "stdout",
     "output_type": "stream",
     "text": [
      "Enter a string:kamak\n",
      "The string is a palindrome\n"
     ]
    }
   ],
   "source": [
    "paldm()"
   ]
  },
  {
   "cell_type": "code",
   "execution_count": 79,
   "metadata": {},
   "outputs": [
    {
     "name": "stdout",
     "output_type": "stream",
     "text": [
      "Enter a string:monsoon\n",
      "Not a palindrome\n"
     ]
    }
   ],
   "source": [
    "paldm()"
   ]
  },
  {
   "cell_type": "code",
   "execution_count": 80,
   "metadata": {},
   "outputs": [
    {
     "name": "stdout",
     "output_type": "stream",
     "text": [
      "Enter a string:RACECAR\n",
      "The string is a palindrome\n"
     ]
    }
   ],
   "source": [
    "paldm()"
   ]
  },
  {
   "cell_type": "code",
   "execution_count": null,
   "metadata": {},
   "outputs": [],
   "source": []
  },
  {
   "cell_type": "markdown",
   "metadata": {},
   "source": [
    "Question 14:- Write a Python program to get the third side of right-angled triangle from two given sides. "
   ]
  },
  {
   "cell_type": "code",
   "execution_count": 68,
   "metadata": {},
   "outputs": [],
   "source": [
    "def pythagoras(opposite_side,adjecent_side,hypotenuse):\n",
    "    \n",
    "    if opposite_side == str('x'):\n",
    "        return (\"opposite = \" + str(((hypotenuse**2)-(adjecent_side**2))**0.5))\n",
    "    elif adjecent_side == str('x'):\n",
    "        return (\"adjecent_side = \" + str(((hypotenuse**2)-(opposite_side**2))**0.5))\n",
    "    elif hypotenuse == str('x'):\n",
    "        return (\"hypotenuse = \" + str(((adjecent_side**2)+(opposite_side**2))**0.5))\n",
    "    \n",
    "    else:\n",
    "        \n",
    "        print('All sides are given')\n",
    "    \n",
    "\n",
    "        \n",
    "    "
   ]
  },
  {
   "cell_type": "code",
   "execution_count": 72,
   "metadata": {},
   "outputs": [
    {
     "name": "stdout",
     "output_type": "stream",
     "text": [
      "hypotenuse = 11.180339887498949\n"
     ]
    }
   ],
   "source": [
    "print(pythagoras(5,10,'x'))"
   ]
  },
  {
   "cell_type": "code",
   "execution_count": 74,
   "metadata": {},
   "outputs": [
    {
     "name": "stdout",
     "output_type": "stream",
     "text": [
      "opposite = 0.0\n"
     ]
    }
   ],
   "source": [
    "print(pythagoras('x',4,4)) # as hypotensue can not be equal to other two sides\n"
   ]
  },
  {
   "cell_type": "code",
   "execution_count": 75,
   "metadata": {},
   "outputs": [
    {
     "name": "stdout",
     "output_type": "stream",
     "text": [
      "opposite = (1.6200554372175822e-16+2.6457513110645907j)\n"
     ]
    }
   ],
   "source": [
    "print(pythagoras('x',4,3))  # as hypotensue can not be less than to other two sides"
   ]
  },
  {
   "cell_type": "code",
   "execution_count": 76,
   "metadata": {},
   "outputs": [
    {
     "name": "stdout",
     "output_type": "stream",
     "text": [
      "opposite = 10.908712114635714\n",
      "adjecent_side = 12.68857754044952\n",
      "hypotenuse = 19.209372712298546\n"
     ]
    }
   ],
   "source": [
    "print(pythagoras('x',5,12))\n",
    "print(pythagoras(8,'x',15))\n",
    "print(pythagoras(12,15,'x'))"
   ]
  },
  {
   "cell_type": "code",
   "execution_count": null,
   "metadata": {},
   "outputs": [],
   "source": []
  },
  {
   "cell_type": "markdown",
   "metadata": {},
   "source": [
    "Question 15:- Write a python program to print the frequency of each of the characters present in a given\n",
    "string\n"
   ]
  },
  {
   "cell_type": "code",
   "execution_count": 6,
   "metadata": {},
   "outputs": [],
   "source": [
    "def char_frequency(str1):\n",
    "    dict = {}\n",
    "    for n in str1:\n",
    "        keys=dict.keys()\n",
    "        if n in keys:\n",
    "            dict[n] = dict[n]+1\n",
    "            \n",
    "        else:\n",
    "            dict[n] =1\n",
    "    return dict\n"
   ]
  },
  {
   "cell_type": "code",
   "execution_count": 7,
   "metadata": {},
   "outputs": [
    {
     "data": {
      "text/plain": [
       "{'k': 1, 'a': 1, 'p': 1, 'i': 1, 'l': 1}"
      ]
     },
     "execution_count": 7,
     "metadata": {},
     "output_type": "execute_result"
    }
   ],
   "source": [
    "char_frequency('kapil')"
   ]
  },
  {
   "cell_type": "code",
   "execution_count": 9,
   "metadata": {},
   "outputs": [
    {
     "data": {
      "text/plain": [
       "{'a': 2, 's': 5, 'f': 1, 't': 2, 'w': 2, 'b': 1, 'e': 1, ';': 1}"
      ]
     },
     "execution_count": 9,
     "metadata": {},
     "output_type": "execute_result"
    }
   ],
   "source": [
    "char_frequency('asfttwsasbew;ss')"
   ]
  },
  {
   "cell_type": "code",
   "execution_count": 10,
   "metadata": {},
   "outputs": [
    {
     "data": {
      "text/plain": [
       "{'f': 1, 'r': 1, 'e': 2, 'q': 1, 'u': 1, 'n': 1, 'c': 1, 'y': 1, ' ': 1}"
      ]
     },
     "execution_count": 10,
     "metadata": {},
     "output_type": "execute_result"
    }
   ],
   "source": [
    "char_frequency('frequency ')  # here it will count the space also as a character"
   ]
  },
  {
   "cell_type": "code",
   "execution_count": 11,
   "metadata": {},
   "outputs": [
    {
     "data": {
      "text/plain": [
       "{'H': 1, 'e': 1, 'l': 3, 'o': 2, '_': 1, 'W': 1, 'r': 1, 'd': 1}"
      ]
     },
     "execution_count": 11,
     "metadata": {},
     "output_type": "execute_result"
    }
   ],
   "source": [
    "char_frequency('Hello_World')\n"
   ]
  },
  {
   "cell_type": "code",
   "execution_count": null,
   "metadata": {},
   "outputs": [],
   "source": []
  },
  {
   "cell_type": "code",
   "execution_count": null,
   "metadata": {},
   "outputs": [],
   "source": []
  },
  {
   "cell_type": "code",
   "execution_count": null,
   "metadata": {},
   "outputs": [],
   "source": []
  }
 ],
 "metadata": {
  "kernelspec": {
   "display_name": "Python 3",
   "language": "python",
   "name": "python3"
  },
  "language_info": {
   "codemirror_mode": {
    "name": "ipython",
    "version": 3
   },
   "file_extension": ".py",
   "mimetype": "text/x-python",
   "name": "python",
   "nbconvert_exporter": "python",
   "pygments_lexer": "ipython3",
   "version": "3.8.5"
  }
 },
 "nbformat": 4,
 "nbformat_minor": 4
}
