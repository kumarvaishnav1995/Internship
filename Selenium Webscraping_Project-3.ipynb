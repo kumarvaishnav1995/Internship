{
 "cells": [
  {
   "cell_type": "markdown",
   "metadata": {},
   "source": [
    "Q1: Write a python program to scrape data for “Data Analyst” Job position in \n",
    "“Bangalore” location. You have to scrape the job-title, job-location, company_name,\n",
    "experience_required. You have to scrape first 10 jobs data.\n"
   ]
  },
  {
   "cell_type": "code",
   "execution_count": 76,
   "metadata": {},
   "outputs": [
    {
     "name": "stdout",
     "output_type": "stream",
     "text": [
      "Requirement already satisfied: selenium in c:\\users\\user\\anaconda3\\lib\\site-packages (3.141.0)\n",
      "Requirement already satisfied: urllib3 in c:\\users\\user\\anaconda3\\lib\\site-packages (from selenium) (1.25.11)\n"
     ]
    }
   ],
   "source": [
    "# Lets install the Selenium Library \n",
    "!pip install selenium"
   ]
  },
  {
   "cell_type": "code",
   "execution_count": 1,
   "metadata": {},
   "outputs": [],
   "source": [
    "#Lets import all required Libraries\n",
    "import selenium\n",
    "import pandas as pd\n",
    "from selenium import webdriver"
   ]
  },
  {
   "cell_type": "code",
   "execution_count": 81,
   "metadata": {
    "scrolled": true
   },
   "outputs": [],
   "source": [
    "# now lets connect to the webdriver\n",
    "\n",
    "driver = webdriver.Chrome(r\"D:\\chromedriver_win32\\chromedriver.exe\")"
   ]
  },
  {
   "cell_type": "raw",
   "metadata": {},
   "source": [
    "# now lets connect to the webdriver\n",
    "\n",
    "driver = webdriver.Chrome(\"chromedriver.exe\")"
   ]
  },
  {
   "cell_type": "code",
   "execution_count": 82,
   "metadata": {},
   "outputs": [],
   "source": [
    "url = 'https://www.naukri.com/'\n",
    "driver.get(url)"
   ]
  },
  {
   "cell_type": "code",
   "execution_count": 83,
   "metadata": {},
   "outputs": [
    {
     "data": {
      "text/plain": [
       "<selenium.webdriver.remote.webelement.WebElement (session=\"b6dd5b57e75356e96264b38e05172f25\", element=\"32eda05b-8ded-473c-b5e4-156f74cecd92\")>"
      ]
     },
     "execution_count": 83,
     "metadata": {},
     "output_type": "execute_result"
    }
   ],
   "source": [
    "search_job = driver.find_element_by_id('qsb-keyword-sugg')\n",
    "search_job"
   ]
  },
  {
   "cell_type": "code",
   "execution_count": 84,
   "metadata": {},
   "outputs": [],
   "source": [
    "# lets enter types of jobs in search tab\n",
    "\n",
    "search_job.send_keys('Data Analyst')"
   ]
  },
  {
   "cell_type": "raw",
   "metadata": {},
   "source": [
    "# we also can use xpath to search jobs\n",
    "\n",
    "search_job = driver.find_elements_by_xpath('//input[@class=\"sugInp\"]')\n",
    "search_job"
   ]
  },
  {
   "cell_type": "raw",
   "metadata": {},
   "source": [
    "search_job.send_keys('Data Analyst')"
   ]
  },
  {
   "cell_type": "code",
   "execution_count": 85,
   "metadata": {},
   "outputs": [
    {
     "data": {
      "text/plain": [
       "<selenium.webdriver.remote.webelement.WebElement (session=\"b6dd5b57e75356e96264b38e05172f25\", element=\"6661517d-5417-44dd-8905-56d77d0b4ab9\")>"
      ]
     },
     "execution_count": 85,
     "metadata": {},
     "output_type": "execute_result"
    }
   ],
   "source": [
    "# let search the job location\n",
    "\n",
    "search_loc = driver.find_element_by_id('qsb-location-sugg')\n",
    "search_loc"
   ]
  },
  {
   "cell_type": "code",
   "execution_count": 86,
   "metadata": {},
   "outputs": [],
   "source": [
    "search_loc.send_keys('Bangalore')"
   ]
  },
  {
   "cell_type": "code",
   "execution_count": 87,
   "metadata": {},
   "outputs": [
    {
     "data": {
      "text/plain": [
       "<selenium.webdriver.remote.webelement.WebElement (session=\"b6dd5b57e75356e96264b38e05172f25\", element=\"95c8d4cd-1dc1-42bf-a344-4d8ced1d0b29\")>"
      ]
     },
     "execution_count": 87,
     "metadata": {},
     "output_type": "execute_result"
    }
   ],
   "source": [
    "# do click on search button\n",
    "\n",
    "search_btn = driver.find_element_by_xpath('//button[@class =\"btn\"]')\n",
    "search_btn"
   ]
  },
  {
   "cell_type": "code",
   "execution_count": 88,
   "metadata": {},
   "outputs": [],
   "source": [
    "search_btn.click()"
   ]
  },
  {
   "cell_type": "code",
   "execution_count": null,
   "metadata": {},
   "outputs": [],
   "source": []
  },
  {
   "cell_type": "markdown",
   "metadata": {},
   "source": [
    "Now extract all the job titles"
   ]
  },
  {
   "cell_type": "code",
   "execution_count": 101,
   "metadata": {},
   "outputs": [
    {
     "data": {
      "text/plain": [
       "[<selenium.webdriver.remote.webelement.WebElement (session=\"b6dd5b57e75356e96264b38e05172f25\", element=\"96a5ef6d-9ccd-4b82-bd4e-e425f5f0c021\")>,\n",
       " <selenium.webdriver.remote.webelement.WebElement (session=\"b6dd5b57e75356e96264b38e05172f25\", element=\"6b91d277-1246-437d-be2b-0f4ba6a4927d\")>,\n",
       " <selenium.webdriver.remote.webelement.WebElement (session=\"b6dd5b57e75356e96264b38e05172f25\", element=\"f2c75ebe-07bc-4803-bd5c-af05e96917e8\")>,\n",
       " <selenium.webdriver.remote.webelement.WebElement (session=\"b6dd5b57e75356e96264b38e05172f25\", element=\"6a66bdd2-6a81-407a-a7aa-fe460791b407\")>,\n",
       " <selenium.webdriver.remote.webelement.WebElement (session=\"b6dd5b57e75356e96264b38e05172f25\", element=\"9808e752-1090-459d-b652-e6e57d6802a3\")>,\n",
       " <selenium.webdriver.remote.webelement.WebElement (session=\"b6dd5b57e75356e96264b38e05172f25\", element=\"ce1a2321-4df0-4f55-87a9-cc8c3bcb5d61\")>,\n",
       " <selenium.webdriver.remote.webelement.WebElement (session=\"b6dd5b57e75356e96264b38e05172f25\", element=\"063e18b4-d486-4960-b226-35fb7b5ab1e0\")>,\n",
       " <selenium.webdriver.remote.webelement.WebElement (session=\"b6dd5b57e75356e96264b38e05172f25\", element=\"c3ff470c-a4e9-4c05-ab82-77bdfb6a13b2\")>,\n",
       " <selenium.webdriver.remote.webelement.WebElement (session=\"b6dd5b57e75356e96264b38e05172f25\", element=\"7a5858d3-11c3-4d92-bfd5-d5846b28031a\")>,\n",
       " <selenium.webdriver.remote.webelement.WebElement (session=\"b6dd5b57e75356e96264b38e05172f25\", element=\"bb58a19c-223a-4754-b213-33e324dfa102\")>,\n",
       " <selenium.webdriver.remote.webelement.WebElement (session=\"b6dd5b57e75356e96264b38e05172f25\", element=\"bd41c440-50f9-4d13-b4e2-a102718a47d9\")>,\n",
       " <selenium.webdriver.remote.webelement.WebElement (session=\"b6dd5b57e75356e96264b38e05172f25\", element=\"9c2650a0-8dbc-4841-899f-b0c4697da6cb\")>,\n",
       " <selenium.webdriver.remote.webelement.WebElement (session=\"b6dd5b57e75356e96264b38e05172f25\", element=\"a42b4698-9726-4940-be21-98f3439eb9c2\")>,\n",
       " <selenium.webdriver.remote.webelement.WebElement (session=\"b6dd5b57e75356e96264b38e05172f25\", element=\"96d7bcdb-275e-43c2-a87e-ea99e24e2fba\")>,\n",
       " <selenium.webdriver.remote.webelement.WebElement (session=\"b6dd5b57e75356e96264b38e05172f25\", element=\"cedcec40-3e35-4b70-8c2f-121e7a788d6a\")>,\n",
       " <selenium.webdriver.remote.webelement.WebElement (session=\"b6dd5b57e75356e96264b38e05172f25\", element=\"b7325a42-9b9d-49b5-892d-2200c0c8033e\")>,\n",
       " <selenium.webdriver.remote.webelement.WebElement (session=\"b6dd5b57e75356e96264b38e05172f25\", element=\"52f6b82d-a1cd-42f5-b89d-29d945f282a9\")>,\n",
       " <selenium.webdriver.remote.webelement.WebElement (session=\"b6dd5b57e75356e96264b38e05172f25\", element=\"48de3a0d-7cc8-49a0-9d5e-5dd66f0940af\")>,\n",
       " <selenium.webdriver.remote.webelement.WebElement (session=\"b6dd5b57e75356e96264b38e05172f25\", element=\"84eef9d4-9861-4a2a-95ed-b7f63a8f9051\")>,\n",
       " <selenium.webdriver.remote.webelement.WebElement (session=\"b6dd5b57e75356e96264b38e05172f25\", element=\"4b3c5224-ae17-4780-9192-a2e39d8a1389\")>]"
      ]
     },
     "execution_count": 101,
     "metadata": {},
     "output_type": "execute_result"
    }
   ],
   "source": [
    "title = driver.find_elements_by_xpath('//a[@class=\"title fw500 ellipsis\"]')\n",
    "title"
   ]
  },
  {
   "cell_type": "code",
   "execution_count": 102,
   "metadata": {},
   "outputs": [
    {
     "data": {
      "text/plain": [
       "['Business Data Analyst - Google Data Studio & SQL',\n",
       " 'Executive Data Analyst',\n",
       " 'Senior Data Analyst',\n",
       " 'Data Analyst - I/II',\n",
       " 'Data Analyst',\n",
       " 'Hiring For the role - DATA Analyst (Flipkart)',\n",
       " 'Hiring For the role - DATA Analyst (Flipkart)',\n",
       " 'Business Data Analyst - MIS & Reporting',\n",
       " 'Senior Data Analyst',\n",
       " 'Senior Data Analyst',\n",
       " 'Senior Associate, Data Hierarchy Analyst( MDM)',\n",
       " 'Lead , Data Analyst',\n",
       " 'Product Data Analyst',\n",
       " 'Data Analyst/Sr.Analyst - Bangalore',\n",
       " 'SENIOR MARKETING DATA ANALYST',\n",
       " 'Data Analyst - Quantitative Support Team',\n",
       " 'MIS / Data Analyst',\n",
       " 'Data Analyst with SAS & Python',\n",
       " 'Data Analyst',\n",
       " 'Data Analyst']"
      ]
     },
     "execution_count": 102,
     "metadata": {},
     "output_type": "execute_result"
    }
   ],
   "source": [
    "# now extract all the data from the above list \n",
    "\n",
    "job_title = []\n",
    "\n",
    "for i in title:\n",
    "    job_title.append(i.text)\n",
    "    \n",
    "job_title"
   ]
  },
  {
   "cell_type": "code",
   "execution_count": 103,
   "metadata": {},
   "outputs": [
    {
     "data": {
      "text/plain": [
       "20"
      ]
     },
     "execution_count": 103,
     "metadata": {},
     "output_type": "execute_result"
    }
   ],
   "source": [
    "len(job_title)"
   ]
  },
  {
   "cell_type": "code",
   "execution_count": null,
   "metadata": {},
   "outputs": [],
   "source": []
  },
  {
   "cell_type": "code",
   "execution_count": 104,
   "metadata": {},
   "outputs": [
    {
     "data": {
      "text/plain": [
       "[<selenium.webdriver.remote.webelement.WebElement (session=\"b6dd5b57e75356e96264b38e05172f25\", element=\"019dbafd-94b7-43fb-9f36-6961513de233\")>,\n",
       " <selenium.webdriver.remote.webelement.WebElement (session=\"b6dd5b57e75356e96264b38e05172f25\", element=\"68b4adfe-3cd0-4602-835e-d0c9b1059b01\")>,\n",
       " <selenium.webdriver.remote.webelement.WebElement (session=\"b6dd5b57e75356e96264b38e05172f25\", element=\"24ef4d5f-3aeb-491c-9e52-5a755a02c7c9\")>,\n",
       " <selenium.webdriver.remote.webelement.WebElement (session=\"b6dd5b57e75356e96264b38e05172f25\", element=\"f5094b27-f576-45bf-82a3-1ed654a7da22\")>,\n",
       " <selenium.webdriver.remote.webelement.WebElement (session=\"b6dd5b57e75356e96264b38e05172f25\", element=\"05b4b456-2c26-492a-891a-32e4f2b358a6\")>,\n",
       " <selenium.webdriver.remote.webelement.WebElement (session=\"b6dd5b57e75356e96264b38e05172f25\", element=\"1af1861d-6cf8-47ca-9c07-8cfb8c982852\")>,\n",
       " <selenium.webdriver.remote.webelement.WebElement (session=\"b6dd5b57e75356e96264b38e05172f25\", element=\"a9a991e2-7919-499d-b2f3-5034a7677cbb\")>,\n",
       " <selenium.webdriver.remote.webelement.WebElement (session=\"b6dd5b57e75356e96264b38e05172f25\", element=\"ecf60e74-de75-425f-923e-df15e4cb01ef\")>,\n",
       " <selenium.webdriver.remote.webelement.WebElement (session=\"b6dd5b57e75356e96264b38e05172f25\", element=\"d44e6ede-04f9-4442-912a-aa89c325b550\")>,\n",
       " <selenium.webdriver.remote.webelement.WebElement (session=\"b6dd5b57e75356e96264b38e05172f25\", element=\"975f99e8-a1c9-4c52-b9f7-69c847dfc6f5\")>,\n",
       " <selenium.webdriver.remote.webelement.WebElement (session=\"b6dd5b57e75356e96264b38e05172f25\", element=\"9fe47be0-5972-4faf-aaf0-63b4785c1f88\")>,\n",
       " <selenium.webdriver.remote.webelement.WebElement (session=\"b6dd5b57e75356e96264b38e05172f25\", element=\"4e0480ed-b8f3-4464-8840-e79908eb9634\")>,\n",
       " <selenium.webdriver.remote.webelement.WebElement (session=\"b6dd5b57e75356e96264b38e05172f25\", element=\"eaaaf0c0-8f27-4864-ab6e-0f9a9da25a51\")>,\n",
       " <selenium.webdriver.remote.webelement.WebElement (session=\"b6dd5b57e75356e96264b38e05172f25\", element=\"e9c21952-4dc5-4281-be6a-a238edde6698\")>,\n",
       " <selenium.webdriver.remote.webelement.WebElement (session=\"b6dd5b57e75356e96264b38e05172f25\", element=\"f81163a5-3f7e-4cb5-ac35-a9bcf1632724\")>,\n",
       " <selenium.webdriver.remote.webelement.WebElement (session=\"b6dd5b57e75356e96264b38e05172f25\", element=\"f8237611-458c-45f9-990f-3bfc926c95d2\")>,\n",
       " <selenium.webdriver.remote.webelement.WebElement (session=\"b6dd5b57e75356e96264b38e05172f25\", element=\"c60d47de-927a-4e00-aad1-f6892a3a69d2\")>,\n",
       " <selenium.webdriver.remote.webelement.WebElement (session=\"b6dd5b57e75356e96264b38e05172f25\", element=\"e9348cec-cd66-47a8-b4c2-ca76dff31e54\")>,\n",
       " <selenium.webdriver.remote.webelement.WebElement (session=\"b6dd5b57e75356e96264b38e05172f25\", element=\"c457bbe3-a1a1-4dc0-9fd3-6c26d94b2bd9\")>,\n",
       " <selenium.webdriver.remote.webelement.WebElement (session=\"b6dd5b57e75356e96264b38e05172f25\", element=\"91d036df-80fd-4ec1-af18-e362f8f42ec9\")>]"
      ]
     },
     "execution_count": 104,
     "metadata": {},
     "output_type": "execute_result"
    }
   ],
   "source": [
    "company = driver.find_elements_by_xpath('//a[@class = \"subTitle ellipsis fleft\"]')\n",
    "company"
   ]
  },
  {
   "cell_type": "code",
   "execution_count": 105,
   "metadata": {},
   "outputs": [
    {
     "data": {
      "text/plain": [
       "['AVE-Promagne',\n",
       " 'Gokaldas Exports Ltd',\n",
       " 'Virtusa Consulting Services Pvt Ltd',\n",
       " 'Philips India Limited',\n",
       " 'IBM India Pvt. Limited',\n",
       " 'Allegis Services India Pvt. Ltd.',\n",
       " 'Allegis Services India Pvt. Ltd.',\n",
       " 'INTERTRUST GROUP',\n",
       " 'Flipkart',\n",
       " 'Flipkart',\n",
       " 'GENPACT India Private Limited',\n",
       " 'Near Pte. Ltd.',\n",
       " 'Trifacta',\n",
       " 'Cocentrus',\n",
       " 'McAfee Software (India) Pvt. Ltd',\n",
       " 'TresVista Financial',\n",
       " 'MediBuddy',\n",
       " 'Podium Systems',\n",
       " 'Coda Payments',\n",
       " 'FedEx Express']"
      ]
     },
     "execution_count": 105,
     "metadata": {},
     "output_type": "execute_result"
    }
   ],
   "source": [
    "company_name = []\n",
    "\n",
    "for i in company:\n",
    "    company_name.append(i.text)\n",
    "\n",
    "company_name"
   ]
  },
  {
   "cell_type": "code",
   "execution_count": 106,
   "metadata": {},
   "outputs": [
    {
     "data": {
      "text/plain": [
       "20"
      ]
     },
     "execution_count": 106,
     "metadata": {},
     "output_type": "execute_result"
    }
   ],
   "source": [
    "len(company_name)"
   ]
  },
  {
   "cell_type": "code",
   "execution_count": 110,
   "metadata": {},
   "outputs": [
    {
     "data": {
      "text/plain": [
       "[<selenium.webdriver.remote.webelement.WebElement (session=\"b6dd5b57e75356e96264b38e05172f25\", element=\"5ea88805-8ec1-4303-9af7-982190a0df40\")>,\n",
       " <selenium.webdriver.remote.webelement.WebElement (session=\"b6dd5b57e75356e96264b38e05172f25\", element=\"11ff6f0a-b59b-46f5-9d07-5b4546699eaf\")>,\n",
       " <selenium.webdriver.remote.webelement.WebElement (session=\"b6dd5b57e75356e96264b38e05172f25\", element=\"9721b682-6a64-4d63-aeed-55aab490d99e\")>,\n",
       " <selenium.webdriver.remote.webelement.WebElement (session=\"b6dd5b57e75356e96264b38e05172f25\", element=\"57bf828f-16c2-4f06-a4d7-ec2fd7a16028\")>,\n",
       " <selenium.webdriver.remote.webelement.WebElement (session=\"b6dd5b57e75356e96264b38e05172f25\", element=\"2f69da03-89cb-4846-9f17-94c57a793b2e\")>,\n",
       " <selenium.webdriver.remote.webelement.WebElement (session=\"b6dd5b57e75356e96264b38e05172f25\", element=\"685e20ca-26fb-4ac8-9fa6-84280368588c\")>,\n",
       " <selenium.webdriver.remote.webelement.WebElement (session=\"b6dd5b57e75356e96264b38e05172f25\", element=\"ba2a8a6d-b3ea-4541-947b-ca0637e97b4b\")>,\n",
       " <selenium.webdriver.remote.webelement.WebElement (session=\"b6dd5b57e75356e96264b38e05172f25\", element=\"4084bb7a-d5a6-4705-a38f-bb12efd385ea\")>,\n",
       " <selenium.webdriver.remote.webelement.WebElement (session=\"b6dd5b57e75356e96264b38e05172f25\", element=\"15990216-959c-4648-bd0b-3d4683c07d49\")>,\n",
       " <selenium.webdriver.remote.webelement.WebElement (session=\"b6dd5b57e75356e96264b38e05172f25\", element=\"0eb44b10-d11e-442c-a853-128ba6b1e468\")>,\n",
       " <selenium.webdriver.remote.webelement.WebElement (session=\"b6dd5b57e75356e96264b38e05172f25\", element=\"8e1588b7-6dc7-49e6-8fd9-483460f7a311\")>,\n",
       " <selenium.webdriver.remote.webelement.WebElement (session=\"b6dd5b57e75356e96264b38e05172f25\", element=\"ed67d88b-9a1e-41df-8e66-47f1d02cf565\")>,\n",
       " <selenium.webdriver.remote.webelement.WebElement (session=\"b6dd5b57e75356e96264b38e05172f25\", element=\"83f02d37-fcde-4deb-bd68-cb82acbae711\")>,\n",
       " <selenium.webdriver.remote.webelement.WebElement (session=\"b6dd5b57e75356e96264b38e05172f25\", element=\"f11ddc5e-5223-4c09-9594-df11c06ce468\")>,\n",
       " <selenium.webdriver.remote.webelement.WebElement (session=\"b6dd5b57e75356e96264b38e05172f25\", element=\"ed5166b4-0279-41d7-9b49-d6145d511c1f\")>,\n",
       " <selenium.webdriver.remote.webelement.WebElement (session=\"b6dd5b57e75356e96264b38e05172f25\", element=\"740918e7-36e1-4c18-8134-a1325e959f96\")>,\n",
       " <selenium.webdriver.remote.webelement.WebElement (session=\"b6dd5b57e75356e96264b38e05172f25\", element=\"9c0121d3-2681-4547-b20b-1de6800d142c\")>,\n",
       " <selenium.webdriver.remote.webelement.WebElement (session=\"b6dd5b57e75356e96264b38e05172f25\", element=\"364343f7-b5d4-4f3d-886c-eef80f65cf99\")>,\n",
       " <selenium.webdriver.remote.webelement.WebElement (session=\"b6dd5b57e75356e96264b38e05172f25\", element=\"569d0620-c558-43b2-8987-60cf559e488b\")>,\n",
       " <selenium.webdriver.remote.webelement.WebElement (session=\"b6dd5b57e75356e96264b38e05172f25\", element=\"846d62b3-bea0-49b2-82ac-b83035ff3d5a\")>]"
      ]
     },
     "execution_count": 110,
     "metadata": {},
     "output_type": "execute_result"
    }
   ],
   "source": [
    "location = driver.find_elements_by_xpath('//li[@class = \"fleft grey-text br2 placeHolderLi location\"]//span[1]')\n",
    "location"
   ]
  },
  {
   "cell_type": "code",
   "execution_count": 111,
   "metadata": {},
   "outputs": [
    {
     "data": {
      "text/plain": [
       "['Bangalore/Bengaluru',\n",
       " 'Bangalore/Bengaluru',\n",
       " 'Hyderabad/Secunderabad, Pune, Gurgaon/Gurugram, Chennai, Bangalore/Bengaluru, Mumbai (All Areas)',\n",
       " 'Bangalore/Bengaluru',\n",
       " 'Bengaluru/Bangalore',\n",
       " 'Bangalore/Bengaluru(Bellandur)',\n",
       " 'Bangalore/Bengaluru(Bellandur)',\n",
       " 'Mumbai, Bangalore/Bengaluru',\n",
       " 'Bangalore/Bengaluru',\n",
       " 'Bangalore/Bengaluru',\n",
       " 'Bangalore/Bengaluru',\n",
       " 'Bangalore/Bengaluru',\n",
       " 'Bangalore/Bengaluru',\n",
       " 'Bangalore/Bengaluru',\n",
       " 'Bangalore/Bengaluru',\n",
       " 'Mumbai, Pune, Bangalore/Bengaluru',\n",
       " 'Bangalore/Bengaluru',\n",
       " 'Gurgaon/Gurugram, Chennai, Bangalore',\n",
       " 'Bangalore/Bengaluru',\n",
       " 'Gurgaon/Gurugram, Bangalore/Bengaluru, Mumbai (All Areas)']"
      ]
     },
     "execution_count": 111,
     "metadata": {},
     "output_type": "execute_result"
    }
   ],
   "source": [
    "Job_Location =[]\n",
    "\n",
    "for i in location:\n",
    "    Job_Location.append(i.text)\n",
    "    \n",
    "Job_Location"
   ]
  },
  {
   "cell_type": "code",
   "execution_count": 112,
   "metadata": {},
   "outputs": [
    {
     "data": {
      "text/plain": [
       "20"
      ]
     },
     "execution_count": 112,
     "metadata": {},
     "output_type": "execute_result"
    }
   ],
   "source": [
    "len(Job_Location)"
   ]
  },
  {
   "cell_type": "code",
   "execution_count": null,
   "metadata": {},
   "outputs": [],
   "source": []
  },
  {
   "cell_type": "code",
   "execution_count": 113,
   "metadata": {},
   "outputs": [
    {
     "data": {
      "text/plain": [
       "[<selenium.webdriver.remote.webelement.WebElement (session=\"b6dd5b57e75356e96264b38e05172f25\", element=\"4a61b78e-adf1-4d6a-8b90-1dca04fbb2cc\")>,\n",
       " <selenium.webdriver.remote.webelement.WebElement (session=\"b6dd5b57e75356e96264b38e05172f25\", element=\"7e80c152-1b3c-4913-9dbe-678b6780abf5\")>,\n",
       " <selenium.webdriver.remote.webelement.WebElement (session=\"b6dd5b57e75356e96264b38e05172f25\", element=\"90424aeb-9916-4656-afe1-56b7eccedb90\")>,\n",
       " <selenium.webdriver.remote.webelement.WebElement (session=\"b6dd5b57e75356e96264b38e05172f25\", element=\"341f2ef4-621e-443d-81a3-c86ab75a5a31\")>,\n",
       " <selenium.webdriver.remote.webelement.WebElement (session=\"b6dd5b57e75356e96264b38e05172f25\", element=\"3fc6198b-ba02-430c-a1dc-7384003bf94b\")>,\n",
       " <selenium.webdriver.remote.webelement.WebElement (session=\"b6dd5b57e75356e96264b38e05172f25\", element=\"a5969e4c-7770-4f64-84fd-32c914b72a56\")>,\n",
       " <selenium.webdriver.remote.webelement.WebElement (session=\"b6dd5b57e75356e96264b38e05172f25\", element=\"851bc012-f250-44dc-968a-c92eab3b0c5e\")>,\n",
       " <selenium.webdriver.remote.webelement.WebElement (session=\"b6dd5b57e75356e96264b38e05172f25\", element=\"9b7b2994-5ac0-4d91-aa1e-ade03d7ce8ea\")>,\n",
       " <selenium.webdriver.remote.webelement.WebElement (session=\"b6dd5b57e75356e96264b38e05172f25\", element=\"9ab213cd-32ef-48eb-bb4d-7ab9c91ec662\")>,\n",
       " <selenium.webdriver.remote.webelement.WebElement (session=\"b6dd5b57e75356e96264b38e05172f25\", element=\"2db97a2c-e52e-4d80-ac4e-2d44f743be2d\")>,\n",
       " <selenium.webdriver.remote.webelement.WebElement (session=\"b6dd5b57e75356e96264b38e05172f25\", element=\"a0d1d0aa-0a07-46ee-9e62-1f2337ce4007\")>,\n",
       " <selenium.webdriver.remote.webelement.WebElement (session=\"b6dd5b57e75356e96264b38e05172f25\", element=\"67cbf87b-6d58-42ae-b529-d1f0e963fd5c\")>,\n",
       " <selenium.webdriver.remote.webelement.WebElement (session=\"b6dd5b57e75356e96264b38e05172f25\", element=\"62b071ac-1bac-4aa6-8bdd-05bfbdc7ae25\")>,\n",
       " <selenium.webdriver.remote.webelement.WebElement (session=\"b6dd5b57e75356e96264b38e05172f25\", element=\"5698254c-1356-477e-b865-6f88c4589ffd\")>,\n",
       " <selenium.webdriver.remote.webelement.WebElement (session=\"b6dd5b57e75356e96264b38e05172f25\", element=\"120b11ba-60d6-4b1c-9d9b-b7a941803ce3\")>,\n",
       " <selenium.webdriver.remote.webelement.WebElement (session=\"b6dd5b57e75356e96264b38e05172f25\", element=\"76dc4dbe-e6cd-48d6-aacd-0fb73974ae33\")>,\n",
       " <selenium.webdriver.remote.webelement.WebElement (session=\"b6dd5b57e75356e96264b38e05172f25\", element=\"93fbf285-02f6-4671-b2d8-b0c4402660aa\")>,\n",
       " <selenium.webdriver.remote.webelement.WebElement (session=\"b6dd5b57e75356e96264b38e05172f25\", element=\"b342abc1-a390-4b61-ab46-1c10f3e90e5f\")>,\n",
       " <selenium.webdriver.remote.webelement.WebElement (session=\"b6dd5b57e75356e96264b38e05172f25\", element=\"36420d53-fcb7-4111-971c-bde9d4b5b3e9\")>,\n",
       " <selenium.webdriver.remote.webelement.WebElement (session=\"b6dd5b57e75356e96264b38e05172f25\", element=\"332bbaf2-7d2c-4c00-b874-fd667d594a9b\")>]"
      ]
     },
     "execution_count": 113,
     "metadata": {},
     "output_type": "execute_result"
    }
   ],
   "source": [
    "experience = driver.find_elements_by_xpath('//li[@class = \"fleft grey-text br2 placeHolderLi experience\"]/span')\n",
    "experience"
   ]
  },
  {
   "cell_type": "code",
   "execution_count": 114,
   "metadata": {},
   "outputs": [
    {
     "data": {
      "text/plain": [
       "['3-8 Yrs',\n",
       " '0-3 Yrs',\n",
       " '8-12 Yrs',\n",
       " '3-6 Yrs',\n",
       " '1-4 Yrs',\n",
       " '1-6 Yrs',\n",
       " '1-6 Yrs',\n",
       " '3-8 Yrs',\n",
       " '2-3 Yrs',\n",
       " '3-8 Yrs',\n",
       " '1-3 Yrs',\n",
       " '6-11 Yrs',\n",
       " '2-5 Yrs',\n",
       " '5-10 Yrs',\n",
       " '3-7 Yrs',\n",
       " '0-1 Yrs',\n",
       " '1-3 Yrs',\n",
       " '4-7 Yrs',\n",
       " '3-4 Yrs',\n",
       " '2-6 Yrs']"
      ]
     },
     "execution_count": 114,
     "metadata": {},
     "output_type": "execute_result"
    }
   ],
   "source": [
    "Experience = []\n",
    "\n",
    "for i in experience:\n",
    "    Experience.append(i.text)\n",
    "    \n",
    "Experience"
   ]
  },
  {
   "cell_type": "code",
   "execution_count": 115,
   "metadata": {},
   "outputs": [
    {
     "data": {
      "text/plain": [
       "20"
      ]
     },
     "execution_count": 115,
     "metadata": {},
     "output_type": "execute_result"
    }
   ],
   "source": [
    "len(Experience)"
   ]
  },
  {
   "cell_type": "code",
   "execution_count": 116,
   "metadata": {},
   "outputs": [
    {
     "data": {
      "text/html": [
       "<div>\n",
       "<style scoped>\n",
       "    .dataframe tbody tr th:only-of-type {\n",
       "        vertical-align: middle;\n",
       "    }\n",
       "\n",
       "    .dataframe tbody tr th {\n",
       "        vertical-align: top;\n",
       "    }\n",
       "\n",
       "    .dataframe thead th {\n",
       "        text-align: right;\n",
       "    }\n",
       "</style>\n",
       "<table border=\"1\" class=\"dataframe\">\n",
       "  <thead>\n",
       "    <tr style=\"text-align: right;\">\n",
       "      <th></th>\n",
       "      <th>Job_Title</th>\n",
       "      <th>Company</th>\n",
       "      <th>Job_Location</th>\n",
       "      <th>Eperience_Require</th>\n",
       "    </tr>\n",
       "  </thead>\n",
       "  <tbody>\n",
       "    <tr>\n",
       "      <th>0</th>\n",
       "      <td>Business Data Analyst - Google Data Studio &amp; SQL</td>\n",
       "      <td>AVE-Promagne</td>\n",
       "      <td>Bangalore/Bengaluru</td>\n",
       "      <td>3-8 Yrs</td>\n",
       "    </tr>\n",
       "    <tr>\n",
       "      <th>1</th>\n",
       "      <td>Executive Data Analyst</td>\n",
       "      <td>Gokaldas Exports Ltd</td>\n",
       "      <td>Bangalore/Bengaluru</td>\n",
       "      <td>0-3 Yrs</td>\n",
       "    </tr>\n",
       "    <tr>\n",
       "      <th>2</th>\n",
       "      <td>Senior Data Analyst</td>\n",
       "      <td>Virtusa Consulting Services Pvt Ltd</td>\n",
       "      <td>Hyderabad/Secunderabad, Pune, Gurgaon/Gurugram...</td>\n",
       "      <td>8-12 Yrs</td>\n",
       "    </tr>\n",
       "    <tr>\n",
       "      <th>3</th>\n",
       "      <td>Data Analyst - I/II</td>\n",
       "      <td>Philips India Limited</td>\n",
       "      <td>Bangalore/Bengaluru</td>\n",
       "      <td>3-6 Yrs</td>\n",
       "    </tr>\n",
       "    <tr>\n",
       "      <th>4</th>\n",
       "      <td>Data Analyst</td>\n",
       "      <td>IBM India Pvt. Limited</td>\n",
       "      <td>Bengaluru/Bangalore</td>\n",
       "      <td>1-4 Yrs</td>\n",
       "    </tr>\n",
       "    <tr>\n",
       "      <th>5</th>\n",
       "      <td>Hiring For the role - DATA Analyst (Flipkart)</td>\n",
       "      <td>Allegis Services India Pvt. Ltd.</td>\n",
       "      <td>Bangalore/Bengaluru(Bellandur)</td>\n",
       "      <td>1-6 Yrs</td>\n",
       "    </tr>\n",
       "    <tr>\n",
       "      <th>6</th>\n",
       "      <td>Hiring For the role - DATA Analyst (Flipkart)</td>\n",
       "      <td>Allegis Services India Pvt. Ltd.</td>\n",
       "      <td>Bangalore/Bengaluru(Bellandur)</td>\n",
       "      <td>1-6 Yrs</td>\n",
       "    </tr>\n",
       "    <tr>\n",
       "      <th>7</th>\n",
       "      <td>Business Data Analyst - MIS &amp; Reporting</td>\n",
       "      <td>INTERTRUST GROUP</td>\n",
       "      <td>Mumbai, Bangalore/Bengaluru</td>\n",
       "      <td>3-8 Yrs</td>\n",
       "    </tr>\n",
       "    <tr>\n",
       "      <th>8</th>\n",
       "      <td>Senior Data Analyst</td>\n",
       "      <td>Flipkart</td>\n",
       "      <td>Bangalore/Bengaluru</td>\n",
       "      <td>2-3 Yrs</td>\n",
       "    </tr>\n",
       "    <tr>\n",
       "      <th>9</th>\n",
       "      <td>Senior Data Analyst</td>\n",
       "      <td>Flipkart</td>\n",
       "      <td>Bangalore/Bengaluru</td>\n",
       "      <td>3-8 Yrs</td>\n",
       "    </tr>\n",
       "  </tbody>\n",
       "</table>\n",
       "</div>"
      ],
      "text/plain": [
       "                                          Job_Title  \\\n",
       "0  Business Data Analyst - Google Data Studio & SQL   \n",
       "1                            Executive Data Analyst   \n",
       "2                               Senior Data Analyst   \n",
       "3                               Data Analyst - I/II   \n",
       "4                                      Data Analyst   \n",
       "5     Hiring For the role - DATA Analyst (Flipkart)   \n",
       "6     Hiring For the role - DATA Analyst (Flipkart)   \n",
       "7           Business Data Analyst - MIS & Reporting   \n",
       "8                               Senior Data Analyst   \n",
       "9                               Senior Data Analyst   \n",
       "\n",
       "                               Company  \\\n",
       "0                         AVE-Promagne   \n",
       "1                 Gokaldas Exports Ltd   \n",
       "2  Virtusa Consulting Services Pvt Ltd   \n",
       "3                Philips India Limited   \n",
       "4               IBM India Pvt. Limited   \n",
       "5     Allegis Services India Pvt. Ltd.   \n",
       "6     Allegis Services India Pvt. Ltd.   \n",
       "7                     INTERTRUST GROUP   \n",
       "8                             Flipkart   \n",
       "9                             Flipkart   \n",
       "\n",
       "                                        Job_Location Eperience_Require  \n",
       "0                                Bangalore/Bengaluru           3-8 Yrs  \n",
       "1                                Bangalore/Bengaluru           0-3 Yrs  \n",
       "2  Hyderabad/Secunderabad, Pune, Gurgaon/Gurugram...          8-12 Yrs  \n",
       "3                                Bangalore/Bengaluru           3-6 Yrs  \n",
       "4                                Bengaluru/Bangalore           1-4 Yrs  \n",
       "5                     Bangalore/Bengaluru(Bellandur)           1-6 Yrs  \n",
       "6                     Bangalore/Bengaluru(Bellandur)           1-6 Yrs  \n",
       "7                        Mumbai, Bangalore/Bengaluru           3-8 Yrs  \n",
       "8                                Bangalore/Bengaluru           2-3 Yrs  \n",
       "9                                Bangalore/Bengaluru           3-8 Yrs  "
      ]
     },
     "execution_count": 116,
     "metadata": {},
     "output_type": "execute_result"
    }
   ],
   "source": [
    "Data_Analyst_jobs = pd.DataFrame({})\n",
    "\n",
    "Data_Analyst_jobs['Job_Title'] = job_title[:10]\n",
    "Data_Analyst_jobs['Company'] = company_name[:10]\n",
    "Data_Analyst_jobs['Job_Location'] = Job_Location[:10]\n",
    "Data_Analyst_jobs['Eperience_Require']=Experience[:10]\n",
    "\n",
    "Data_Analyst_jobs"
   ]
  },
  {
   "cell_type": "code",
   "execution_count": null,
   "metadata": {},
   "outputs": [],
   "source": []
  },
  {
   "cell_type": "markdown",
   "metadata": {},
   "source": [
    "Q2: Write a python program to scrape data for “Data Scientist” Job position in \n",
    "“Bangalore” location. You have to scrape the job-title, job-location,\n",
    "company_name, full job-description. You have to scrape first 10 jobs data."
   ]
  },
  {
   "cell_type": "code",
   "execution_count": 147,
   "metadata": {},
   "outputs": [],
   "source": [
    "\n",
    "url = 'https://www.naukri.com/'"
   ]
  },
  {
   "cell_type": "code",
   "execution_count": 148,
   "metadata": {},
   "outputs": [],
   "source": [
    "driver = webdriver.Chrome('chromedriver.exe')"
   ]
  },
  {
   "cell_type": "code",
   "execution_count": 149,
   "metadata": {},
   "outputs": [],
   "source": [
    "driver.get(url)"
   ]
  },
  {
   "cell_type": "code",
   "execution_count": 150,
   "metadata": {},
   "outputs": [],
   "source": [
    "search_job = driver.find_element_by_id('qsb-keyword-sugg')"
   ]
  },
  {
   "cell_type": "code",
   "execution_count": 151,
   "metadata": {},
   "outputs": [],
   "source": [
    "search_loc = driver.find_element_by_id('qsb-location-sugg')"
   ]
  },
  {
   "cell_type": "code",
   "execution_count": 152,
   "metadata": {},
   "outputs": [],
   "source": [
    "search_btn = driver.find_element_by_xpath('//button[@class =\"btn\"]')"
   ]
  },
  {
   "cell_type": "code",
   "execution_count": 153,
   "metadata": {},
   "outputs": [],
   "source": [
    "search_job.send_keys('Data Scientist')\n",
    "search_loc.send_keys('Bangalore')\n",
    "search_btn.click()"
   ]
  },
  {
   "cell_type": "code",
   "execution_count": 154,
   "metadata": {},
   "outputs": [],
   "source": [
    "title = driver.find_elements_by_xpath('//a[@class=\"title fw500 ellipsis\"]')\n",
    "company = driver.find_elements_by_xpath('//a[@class=\"subTitle ellipsis fleft\"]')\n",
    "location = driver.find_elements_by_xpath('//li[@class = \"fleft grey-text br2 placeHolderLi location\"]/span')"
   ]
  },
  {
   "cell_type": "code",
   "execution_count": 156,
   "metadata": {},
   "outputs": [
    {
     "data": {
      "text/plain": [
       "['Lead Data Scientist BFSI',\n",
       " 'Associate Data Scientist',\n",
       " 'Data Scientist: Advanced Analytics',\n",
       " 'SENIOR DATA SCIENTIST',\n",
       " 'Data Scientist (Python & SQL)',\n",
       " 'Sr Data Scientist',\n",
       " 'Sr Data Scientist',\n",
       " 'Freelance Data Scientist Project Based',\n",
       " 'Data Scientist',\n",
       " 'Data Scientist',\n",
       " 'Data Scientist',\n",
       " 'Senior Data Scientist - ML',\n",
       " 'Data Scientist',\n",
       " 'Data Scientist',\n",
       " 'Cognitive Data Scientist',\n",
       " 'Data Scientist + Python + Big DATA',\n",
       " 'Senior Data Scientist, Payments compliance',\n",
       " 'Senior Data Scientist',\n",
       " 'Senior Data Scientist',\n",
       " 'Senior Data Scientist']"
      ]
     },
     "execution_count": 156,
     "metadata": {},
     "output_type": "execute_result"
    }
   ],
   "source": [
    "job_title = []\n",
    "\n",
    "for i in title:\n",
    "    job_title.append(i.text)\n",
    "    \n",
    "job_title"
   ]
  },
  {
   "cell_type": "code",
   "execution_count": 157,
   "metadata": {},
   "outputs": [
    {
     "data": {
      "text/plain": [
       "['IBM India Pvt. Limited',\n",
       " 'Philips India Limited',\n",
       " 'IBM India Pvt. Limited',\n",
       " 'Happiest Minds Technologies Pvt.Ltd',\n",
       " 'AVE-Promagne',\n",
       " 'IBM India Pvt. Limited',\n",
       " 'IBM India Pvt. Limited',\n",
       " 'Shikvix',\n",
       " 'VRIZE',\n",
       " 'ELPIS IT SOLUTIONS PVT LTD',\n",
       " 'ELPIS IT SOLUTIONS PVT LTD',\n",
       " 'SP Staffing Services Private Limited',\n",
       " 'Oracle India Pvt. Ltd.',\n",
       " 'IBM India Pvt. Limited',\n",
       " 'IBM India Pvt. Limited',\n",
       " 'Capgemini Technology Services India Limited',\n",
       " 'AIRBNB GLOBAL CAPABILITY CENTER PRIVATE LIMITED',\n",
       " 'Kwalee India Pvt Ltd.',\n",
       " 'ANT work',\n",
       " 'Philips India Limited']"
      ]
     },
     "execution_count": 157,
     "metadata": {},
     "output_type": "execute_result"
    }
   ],
   "source": [
    "Company = []\n",
    "\n",
    "for i in company:\n",
    "    Company.append(i.text)\n",
    "    \n",
    "Company"
   ]
  },
  {
   "cell_type": "code",
   "execution_count": 158,
   "metadata": {},
   "outputs": [
    {
     "data": {
      "text/plain": [
       "['Bengaluru/Bangalore',\n",
       " 'Bangalore/Bengaluru',\n",
       " 'Bengaluru/Bangalore',\n",
       " 'Bangalore/Bengaluru',\n",
       " 'Hyderabad/Secunderabad, Chennai, Bangalore/Bengaluru',\n",
       " 'Bengaluru/Bangalore',\n",
       " 'Bangalore/Bengaluru',\n",
       " 'Remote',\n",
       " 'Bangalore/Bengaluru',\n",
       " '(WFH during Covid)',\n",
       " 'Bangalore/Bengaluru',\n",
       " 'Bangalore/Bengaluru',\n",
       " 'Pune, Chennai, Bangalore/Bengaluru',\n",
       " 'Noida, Bangalore/Bengaluru',\n",
       " 'Bengaluru/Bangalore',\n",
       " 'Bengaluru/Bangalore',\n",
       " 'Hyderabad/Secunderabad, Chennai, Bangalore/Bengaluru',\n",
       " 'Bangalore/Bengaluru',\n",
       " 'Bangalore/Bengaluru',\n",
       " 'Bangalore/Bengaluru',\n",
       " 'Bangalore/Bengaluru']"
      ]
     },
     "execution_count": 158,
     "metadata": {},
     "output_type": "execute_result"
    }
   ],
   "source": [
    "job_location =[]\n",
    "for i in location:\n",
    "    job_location.append(i.text)\n",
    "    \n",
    "job_location"
   ]
  },
  {
   "cell_type": "code",
   "execution_count": 159,
   "metadata": {},
   "outputs": [],
   "source": [
    "job_detail_url = driver.find_elements_by_xpath('//a[@class=\"title fw500 ellipsis\"]')"
   ]
  },
  {
   "cell_type": "code",
   "execution_count": 160,
   "metadata": {},
   "outputs": [
    {
     "data": {
      "text/plain": [
       "['https://www.naukri.com/job-listings-lead-data-scientist-bfsi-ibm-india-pvt-limited-bengaluru-bangalore-5-to-9-years-070921901691?src=jobsearchDesk&sid=16310563975426018&xp=1&px=1',\n",
       " 'https://www.naukri.com/job-listings-associate-data-scientist-philips-india-limited-bangalore-bengaluru-3-to-5-years-060921501985?src=jobsearchDesk&sid=16310563975426018&xp=2&px=1',\n",
       " 'https://www.naukri.com/job-listings-data-scientist-advanced-analytics-ibm-india-pvt-limited-bengaluru-bangalore-3-to-7-years-070921901677?src=jobsearchDesk&sid=16310563975426018&xp=3&px=1',\n",
       " 'https://www.naukri.com/job-listings-senior-data-scientist-happiest-minds-technologies-pvt-ltd-bangalore-bengaluru-5-to-10-years-070921501517?src=jobsearchDesk&sid=16310563975426018&xp=4&px=1',\n",
       " 'https://www.naukri.com/job-listings-data-scientist-python-sql-ave-promagne-hyderabad-secunderabad-chennai-bangalore-bengaluru-6-to-8-years-060921904967?src=jobsearchDesk&sid=16310563975426018&xp=5&px=1',\n",
       " 'https://www.naukri.com/job-listings-sr-data-scientist-ibm-india-pvt-limited-bengaluru-bangalore-6-to-8-years-010921906637?src=jobsearchDesk&sid=16310563975426018&xp=6&px=1',\n",
       " 'https://www.naukri.com/job-listings-sr-data-scientist-ibm-india-pvt-limited-bangalore-bengaluru-6-to-8-years-010921906105?src=jobsearchDesk&sid=16310563975426018&xp=7&px=1',\n",
       " 'https://www.naukri.com/job-listings-freelance-data-scientist-project-based-shikvix-bangalore-bengaluru-3-to-8-years-060921008814?src=jobsearchDesk&sid=16310563975426018&xp=8&px=1',\n",
       " 'https://www.naukri.com/job-listings-data-scientist-vrize-bangalore-bengaluru-2-to-5-years-070921001651?src=jobsearchDesk&sid=16310563975426018&xp=9&px=1',\n",
       " 'https://www.naukri.com/job-listings-data-scientist-elpis-it-solutions-pvt-ltd-bangalore-bengaluru-3-to-8-years-070921602158?src=jobsearchDesk&sid=16310563975426018&xp=10&px=1',\n",
       " 'https://www.naukri.com/job-listings-data-scientist-elpis-it-solutions-pvt-ltd-bangalore-bengaluru-3-to-8-years-070921002157?src=jobsearchDesk&sid=16310563975426018&xp=11&px=1',\n",
       " 'https://www.naukri.com/job-listings-senior-data-scientist-ml-sp-staffing-services-private-limited-pune-chennai-bangalore-bengaluru-10-to-15-years-100621006203?src=jobsearchDesk&sid=16310563975426018&xp=12&px=1',\n",
       " 'https://www.naukri.com/job-listings-data-scientist-oracle-india-pvt-ltd-noida-bangalore-bengaluru-5-to-9-years-010621004567?src=jobsearchDesk&sid=16310563975426018&xp=13&px=1',\n",
       " 'https://www.naukri.com/job-listings-data-scientist-ibm-india-pvt-limited-bengaluru-bangalore-2-to-4-years-010921906678?src=jobsearchDesk&sid=16310563975426018&xp=14&px=1',\n",
       " 'https://www.naukri.com/job-listings-cognitive-data-scientist-ibm-india-pvt-limited-bengaluru-bangalore-3-to-7-years-030921904668?src=jobsearchDesk&sid=16310563975426018&xp=15&px=1',\n",
       " 'https://www.naukri.com/job-listings-data-scientist-python-big-data-capgemini-technology-services-india-limited-hyderabad-secunderabad-chennai-bangalore-bengaluru-6-to-11-years-030921008208?src=jobsearchDesk&sid=16310563975426018&xp=16&px=1',\n",
       " 'https://www.naukri.com/job-listings-senior-data-scientist-payments-compliance-airbnb-global-capability-center-private-limited-bangalore-bengaluru-4-to-9-years-020921903258?src=jobsearchDesk&sid=16310563975426018&xp=17&px=1',\n",
       " 'https://www.naukri.com/job-listings-senior-data-scientist-kwalee-india-pvt-ltd-bangalore-bengaluru-5-to-10-years-260321000780?src=jobsearchDesk&sid=16310563975426018&xp=18&px=1',\n",
       " 'https://www.naukri.com/job-listings-senior-data-scientist-ant-work-bangalore-bengaluru-9-to-14-years-020921501606?src=jobsearchDesk&sid=16310563975426018&xp=19&px=1',\n",
       " 'https://www.naukri.com/job-listings-senior-data-scientist-philips-india-limited-bangalore-bengaluru-8-to-10-years-250821500891?src=jobsearchDesk&sid=16310563975426018&xp=20&px=1']"
      ]
     },
     "execution_count": 160,
     "metadata": {},
     "output_type": "execute_result"
    }
   ],
   "source": [
    "job_url = []\n",
    "\n",
    "for i in job_detail_url:\n",
    "    job_url.append(i.get_attribute('href'))\n",
    "    \n",
    "job_url"
   ]
  },
  {
   "cell_type": "code",
   "execution_count": 170,
   "metadata": {},
   "outputs": [
    {
     "data": {
      "text/plain": [
       "['----',\n",
       " 'Job description\\nUse predictive modeling to increase and optimize customer experiences, revenue generation, campaign optimization and other business outcomes\\nWork with product management to develop data use cases and embed predictive models in workflows on resource constrained platforms and cloud enabled.\\nSelecting features, building and optimizing classifiers using machine learning and deep learning techniques\\nCollaborates with Data Engineers to enhance data collection and ingestion/curation techniques to include information that is relevant for building analytic systems\\nProcessing, cleansing, and verifying the integrity of data used for analysis\\nDevelop processes and tools to monitor and analyze model performance and data accuracy. Life cycle management of predictive models.\\nAdherence to compliance procedures in accordance with regulatory standards, requirements, and policies. Managing and designing the reporting environment, including data sources security, and metadata.\\nJob Qualifications:\\nMaster s degree or PhD in Computer Science, Information management, Statistics or related field, with 3 to 5 years of experience in the Consumer or Healthcare industry manipulating data sets and building predictive models with focus on product development\\nExperience in statistical modelling, machine learning, data mining, unstructured data analytics and natural language processing. Sound understanding of - Bayesian Modelling, Classification Models, Cluster Analysis, Neural Network, Nonparametric Methods, Multivariate Statistics, etc.\\nStrong hands on knowledge of ML techniques like regression algorithms, K-NN, Na ve Bayes, SVM and ensemble techniques like Random forest, AdaBoost etc\\nHaving strong knowledge in unsupervised learning algorithms using Neural networks and Deep-Learning\\nStrong knowledge in Data Wrangling and Exploration techniques to identify the patterns, trends and outliners.\\nDeep knowledge and practical experience with data science toolkits, such as NumPy, Pandas, scikit-learn or equivalent\\nExperience with data visualization tools, such as QlikView, Matplotlib, seaborn or equivalent tools.\\nProficiency in using query languages, such as SQL, PL/SQL\\nHands on experience in the one or more databases like Hadoop, AWS Redshift, Snowflake etc.\\nGood applied statistics skills, such as distributions, statistical testing, regression, etc.\\nGood ETL scripting and programming skills, such as Python, R or Scala to integrate developed solution into the proposition.\\nA team player capable of working and integrating across cross-functional team for implementing project requirements. Experience in technical requirements gathering and documentation.\\nAbility to work effectively and independently in a fast-paced global collaborative agile team environment with tight deadlines\\nA flexible, pragmatic and collaborative team player with innate ability to engage with stakeholders at all levels in the organization.\\nA self-starter with high levels of drive, energy, resilience and a desire for professional excellence with a passion for data and data science\\nRoleClinical Research Associate/Scientist\\nIndustry TypeMedical Services / Hospital\\nFunctional AreaMedical, Healthcare, R&D, Pharmaceuticals, Biotechnology\\nEmployment TypeFull Time, Permanent\\nRole CategoryR&D\\nEducation\\nUG :Any Graduate\\nPG :Post Graduation Not Required\\nKey Skills\\nProduct managementComputer sciencemetadataMachine learningAgilePLSQLHealthcareQlikViewData miningPython',\n",
       " '----',\n",
       " 'Job description\\n  Skills\\nRequired Skills: Data Science, Machine Learning, Deep Learning, Python, NLP\\nDesired Skills: Computer Vision\\nRoles and responsibilities\\nExperience in Data Modelling, R, Python, SQL, Data Science, Machine Learning, Deep Learning, NLP, Statistics\\nHave ability to solve Business problems using Data\\nShould possess extensive knowledge of and experience in applying data mining and machine learning techniques on large amount of datasets\\nHigh level of proficiency in statistical tools like R, Python\\nCandidate will be expected to communicate analytical results in a way that is meaningful for business stakeholders and provides actionable insights.\\nHave the ability to discover new opportunities where advanced analytical techniques can be leveraged for solving business problems\\nGood to Have\\nExpertise in programming languages like Java/C/C /Python\\nExperience with relational databases and SQL is good to have\\nExperience in audio and video analytics\\nRelevant experience in Big Data platforms like Hadoop eco-system\\nCome up with innovative algorithms and solutions\\nStaffing Type:Permanent\\nRoleClinical Research Associate/Scientist\\nIndustry TypeIT Services & Consulting\\nFunctional AreaMedical, Healthcare, R&D, Pharmaceuticals, Biotechnology\\nEmployment TypeFull Time, Permanent\\nRole CategoryR&D\\nEducation\\nUG :Any Graduate\\nPG :Any Postgraduate\\nKey Skills\\nHospitalityNSEStaffingBfsiAnalyticalAgileData miningAnalyticsAutomotiveSQL',\n",
       " 'Job description\\nRequired Technical and Professional Expertise\\n• 6+ years of industry work experience in data scientist projects\\n• Master’s degree or higher in Statistics/Math/Computer Science or related field\\n• Background in applied statistical modeling on large experimental or observational data sets\\n• Experience extracting data from a variety of sources, and a desire to expand those skills (working knowledge SQL is required, Spark is a plus)\\n• Experience with one or more statistical or machine learning software such as R, Python, etc.\\n• Must showcase past work through published articles/GitHub/social media\\n\\nPreferred Technical and Professional Expertise\\n• Knowledge of distributed computing systems, e.g. Cosmos, Spark, Hadoop, and relational database management system\\n• PhD. in Statistics is preferred\\n• You love collaborative environments that use agile methodologies to encourage creative design thinking and find innovative ways to develop with cutting edge technologies\\n• Ambitious individual who can work under their own direction towards agreed targets/goals and with creative approach to work\\n• Intuitive individual with an ability to manage change and proven time management\\n• Proven interpersonal skills while contributing to team effort by accomplishing related results as needed\\nRoleData Analyst\\nIndustry TypeIT Services & Consulting\\nFunctional AreaAnalytics & Business Intelligence\\nEmployment TypeFull Time, Permanent\\nRole CategoryAnalytics & BI\\nEducation\\nUG :B.Sc in Maths, Statistics\\nPG :MS/M.Sc(Science) in Maths, Statistics\\nDoctorate :Doctorate Not Required\\nKey Skills\\nRData scienceData analyticsSQLPython',\n",
       " '----',\n",
       " '----',\n",
       " \"Job description\\n\\nJob description:\\n\\nSeeking senior data scientists for project-based roles that involve working on various projects.\\n\\nThe candidate must have experience in Python coding language and machine learning. The candidate will be working on a part-time basis and hours will be flexible based on the candidate's availability.\\nOpportunity to grow in a startup setting.\\nWhat you'll need:\\nB.Tech in CS or Statistics with demonstrable experience of over 5 years through publications/deployed solutions/projects.\\nM.Tech or Ph.D. in CS or Statistics with demonstrable experience of over 3 years through publications/deployed solutions/projects.\\nA deep understanding of applied statistical analysis and predictive modeling is desired.\\nThe candidate must have a thorough grasp of the theory and application of broad ML algorithms namely, but not limited to regression, SVM, Tree, Random Forests, Boosting, Neural Network, clustering, forecasting, deep learning, text analysis, etc.\\nIt is not expected that the candidate has actually worked on all these modules.\\nStrong proficiency in Python or R is necessary\\n\\nRoleData Analyst\\nIndustry TypeIT Services & Consulting\\nFunctional AreaAnalytics & Business Intelligence\\nEmployment TypePart Time, Freelance/Homebased\\nRole CategoryAnalytics & BI\\nEducation\\nUG :Any Graduate\\nKey Skills\\nPredictive ModelingRAlgorithmsSVMClusteringMachine LearningStatistical AnalysisStatisticsDeep LearningPython\",\n",
       " 'Job description\\nProfile Overview\\nWe are looking for a Data Scientist who can help us drive value for our clients through in a data driven approach. They will work with the Data Science team to identify and structure relevant value-adding problems for clients to solve, using various data. They will conceptualize and own the design of the solutions, work with analysts to extract, process, and prepare data on a planned as well ad hoc basis. They will leverage appropriate machine learning techniques and liaise and engage with the clients during the progress of the solution to communicate results, and ensure buy-in and closure. They will also work with Machine Learning Engineers to help deploy solutions within the appropriate technology framework, and also possibly help maintain them within a DevOps setting.\\n\\nSkills & Qualifications\\nIdeal candidate should have a problem solving bent of mind, and had have worked in the Data Science field for 3 or more years\\nCandidate should have had worked on real-life Natural Language Processing and / or Computer Vision problems; real-life experience in Regression & Classification problems and / or unsupervised learning problems would be considered a bonus\\nCandidate should be proficient in R and / or Python and / or SQL\\nCandidate should have a basic understanding of technologies needed for deployment of machine learning solutions, such as cloud infrastructure components (AWS, Microsoft Azure, GCP), containerization (Docker, Kubernetes), API development (using frameworks such as Flask, Plumber, Django, Celery etc.), code versioning tools (GitHub, GitLab, CodeCommit etc.)\\nExperience with business tools such as Tableau, and web tools such as cloud databases (Redshift, DynamoDB etc.) would be considered a bonus\\nCandidate should have excellent communication, comprehension, and critical thinking skills; collaborative nature would be considered a bonus\\nCandidate should have a deep and nuanced understanding of statistics, mathematics, computer science, and be able to sift through technical material (such as papers, open-source code repositories) to continuously improve on solutions and stay on top of the cutting-edge developments in the field\\n\\n\\nRoleTechnical Architect\\nIndustry TypeIT Services & Consulting\\nFunctional AreaIT Software - Application Programming, Maintenance\\nEmployment TypeFull Time, Permanent\\nRole CategoryProgramming & Design\\nEducation\\nUG :Any Graduate\\nKey Skills\\nNatural Language ProcessingProblem SolvingRegressionUnsupervised LearningMachine LearningStatisticsData ScienceSupervised LearningRAlgorithmsClassificationModelComputer VisionPython',\n",
       " 'Job description\\nRoles and Responsibilities\\nJob Description:\\nDevelop data powered insights deriving from distributed, real time streaming applications, and develop AI systems leveraging on such data powered insights.\\nLooking for candidates with passion and energy to work in a high energy team with entrepreneurial culture: Self starter attitude, quick learning aptitude, passion and willingness to deliver on time with quality.\\n\\nJob Skills Required:\\nExpert data science skills using supervised and unsupervised learning. Deep learning.\\nCompute: Spark/Storm/NiFi/Flink/Redis, or other.\\nVisualization: Banana UI, Kibana, or other,\\nTools: H2O, TensorFlow, Mlib, Scikit, Keras or other.\\nMessaging: Kafka, RabbitMQ, or other.\\n\\nStrong Analytical and Math/Statistics skills.\\n\\nQualification :\\nM.Tech/M.E./M.S. in Computer Science, Engineering or a related field, preferably with a concentration, major or minor in Data Science or Machine Learning. PhD would be added advantage.\\n\\nDesired Candidate Profile\\nDesirable s that would strengthen candidacy:\\n Proven track record from public competitions such as from Kagel, Analytics Vidya, etc. \\n\\nExpertise in one or more high level programming languages such as Java, Scala, Python, Go, Erlang, etc.\\n\\nExpertise in developing scalable applications in a distributed environment.\\n\\nStrong SQL or NoSQL skills with one or more open source DBMS such as MySql, MongoDB, Cassandra.\\n\\nExpertise in containerized environments on private or public clouds - Aws Azure, etc.\\n\\n\\nRoleSoftware Developer\\nIndustry TypeIT Services & Consulting\\nFunctional AreaIT Software - Application Programming, Maintenance\\nEmployment TypeFull Time, Temporary/Contractual\\nRole CategoryProgramming & Design\\nEducation\\nUG :Any Graduate\\nPG :Any Postgraduate\\nKey Skills\\ndeep learningKibanatensorflowdata scienceKafkakerasSparkMachine Learning',\n",
       " 'Job description\\nRoles and Responsibilities\\nJob Description:\\nDevelop data powered insights deriving from distributed, real time streaming applications, and develop AI systems leveraging on such data powered insights.\\nLooking for candidates with passion and energy to work in a high energy team with entrepreneurial culture: Self starter attitude, quick learning aptitude, passion and willingness to deliver on time with quality.\\n\\nJob Skills Required:\\nExpert data science skills using supervised and unsupervised learning. Deep learning.\\nCompute: Spark/Storm/NiFi/Flink/Redis, or other.\\nVisualization: Banana UI, Kibana, or other,\\nTools: H2O, TensorFlow, Mlib, Scikit, Keras or other.\\nMessaging: Kafka, RabbitMQ, or other.\\n\\nStrong Analytical and Math/Statistics skills.\\n\\nQualification :\\nM.Tech/M.E./M.S. in Computer Science, Engineering or a related field, preferably with a concentration, major or minor in Data Science or Machine Learning. PhD would be added advantage.\\n\\nDesired Candidate Profile\\nDesirable s that would strengthen candidacy:\\n Proven track record from public competitions such as from Kagel, Analytics Vidya, etc. \\n\\nExpertise in one or more high level programming languages such as Java, Scala, Python, Go, Erlang, etc.\\n\\nExpertise in developing scalable applications in a distributed environment.\\n\\nStrong SQL or NoSQL skills with one or more open source DBMS such as MySql, MongoDB, Cassandra.\\n\\nExpertise in containerized environments on private or public clouds - Aws Azure, etc.\\n\\n\\nRoleSoftware Developer\\nIndustry TypeIT Services & Consulting\\nFunctional AreaIT Software - Application Programming, Maintenance\\nEmployment TypeFull Time, Temporary/Contractual\\nRole CategoryProgramming & Design\\nEducation\\nUG :Any Graduate\\nPG :Any Postgraduate\\nKey Skills\\ndeep learningKibanatensorflowdata scienceKafkakerasSparkMachine Learning',\n",
       " 'Job description\\nDear Candidate,\\n\\nWarm greetings from SP Staffing Services.\\n\\nWe are hiring Data Science / ML Resources for our Client.\\n\\nRole: Sr. Data Scientist - Machine Learning\\nExp: 10 to 15 yrs\\nLocation: Pune, Bangalore, Chennai\\n\\nRequisite:\\n\\nIdeal Resource should have 10+ years of experience in Data Science Machine Learning.\\n\\nResponsibilities:\\n\\nDesign and Develop ML / NLP models for the project requirement\\nDeliver ownership to setup ML / NLP models with respect to tools, data and infrastructure as required\\nWork closely with Product Owner and Product architect right from ML based solution conceptualization till implementation in response to a client requirement\\nThought leadership on building ML/NLP based solution based on client requirements\\nLead the ML / NLP dialogue during the customer visits and other partner events\\n\\nRequired Skills:\\n\\nStrong knowledge of Machine Learning / NLP algorithms Information extraction, named entity recognition, text clustering, Knowledge Graph, text summarization, intent classification, word embeddings, vector space models\\nStrong experience in NLP using Python\\nExperience in developing Microservices and web services\\nUnderstanding of data and data analysis, manage Large Data Sets\\nSound exposure on Pandas, Scikit and Numpy\\nMin 4+ years of experience implementing and deploying machine learning and deep learning frameworks (Spark, TensorFlow, Keras, Caffe, etc.)\\nApplication programming in cloud platforms including Azure, IBM, AWS and GCP\\nHands on experience Data Science / Big Data technology and architecture\\n\\n\\nRoleSoftware Developer\\nIndustry TypeIT Services & Consulting\\nFunctional AreaIT Software - Application Programming, Maintenance\\nEmployment TypeFull Time, Permanent\\nRole CategoryProgramming & Design\\nEducation\\nUG :B.Tech/B.E. in Computers\\nKey Skills\\nMachine LearningData SciencePython\\nTensorflowDeep LearningNumpyMicroservicesNLPGCPPandasInformation ExtractionData AnalysisKerasCaffeScikit\\nSkills highlighted with ‘‘ are preferred keyskills',\n",
       " '----',\n",
       " '----',\n",
       " '----',\n",
       " '----',\n",
       " 'Job description\\nThe Challenge\\nBe a thought leader, partner with your cross-functional partners to foster a data driven payments organization.\\nWith a focus on Payments compliance and keeping our platform safe, anticipate and detect new fraud trends and regulatory requirements.\\nDefine and evaluate key metrics. Build the data foundation you need, in partnership with the data engineering team.\\nDeliver actionable user-insights to build the best products and models\\nDesign experiments to measure the impact of new payments features\\nEmpower the product and engineering teams to make data-driven decisions\\nWhat you need to succeed\\n4+ years industry experience in a quantitative analysis role. Experience in Payments a strong plus\\nFluent in SQL and proficiency in analytical tools such as Python, R, etc.\\nBackground in statistics and experience with experimentation\\nSolid understanding of product analytics\\nExperience or willingness to learn tools to create data pipelines using Airflow/Minerva\\nAbility to communicate clearly and effectively to cross functional partners of varying technical levels\\nRoleData Analyst\\nIndustry TypeTravel & Tourism\\nFunctional AreaAnalytics & Business Intelligence\\nEmployment TypeFull Time, Permanent\\nRole CategoryAnalytics & BI\\nEducation\\nUG :Any Graduate\\nPG :Any Postgraduate\\nKey Skills\\nQuantitative AnalysisRData EngineeringData ScientistStatisticsAnalyticsPythonSQL',\n",
       " 'Job description\\nKwalee is one of the world\\'s leading multiplatform game publishers, with well over 600 million downloads worldwide for mobile hits such as Draw It, Teacher Simulator, Lets Be Cops 3D and Makeover Studio 3D. Alongside this, we also have a growing PC and console team of incredible pedigree that is on the hunt for great new titles to join TENS! and Eternal Hope.\\n\\nWith a team of talented people collaborating daily between our studios in Leamington Spa, Bangalore and Beijing, or on a remote basis from Turkey, Brazil, the Philippines and many more, we have a truly global team making games for a global audience. And its paying off: Kwalee games have been downloaded in every country on earth! If you think you\\'re a good fit for one of our remote vacancies, we want to hear from you wherever you are based.\\n\\nFounded in 2011 by David Darling CBE, a key architect of the UK games industry who previously co-founded and led Codemasters for many years, our team also includes legends such as Andrew Graham (creator of Micro Machines series) and Jason Falcus (programmer of classics including NBA Jam) alongside a growing and diverse team of global gaming experts. Everyone contributes creatively to Kwalees success, with all employees eligible to pitch their own game ideas on Creative Wednesdays, and we’re proud to have built our success on this inclusive principle. Could your idea be the next global hit?\\n\\nAs a Senior Data Scientist you will help utilise masses of data generated by Kwalee players all over the world to solve complex problems using cutting edge techniques.\\nYou\\'ll be part of a team that will be based in the new office that we\\'re going to open in Bangalore.\\nWhat you tell your friends you do\\n\"My models optimise the performance of Kwalee games and advertising every day!”\\n\\nWhat you will really be doing\\nBuild data solutions to solve business problems\\nUse statistical testing and predictive modelling to recommend and implement changes to marketing strategy along with in game features and design\\nLeverage the huge amount of data generated by our players and advertising campaigns everyday to build models and iterate existing services to improve and automate decision making across the company\\nWork with the marketing, publishing and development teams to understand the problems they are facing and how to solve them\\n\\nHow you will be doing this\\nYou’ll be part of an agile, multidisciplinary and creative team and work closely with them to ensure the best results.\\nYou\\'ll think creatively and be motivated by challenges and constantly striving for the best.\\nYou’ll work with cutting edge technology, if you need software or hardware to get the job done efficiently, you can get it. We even have a robot!\\n\\nTeam\\nOur talented team is our signature. We have a highly creative atmosphere with more than 150 staff where you’ll have the opportunity to contribute daily to important decisions. You’ll work within an extremely experienced, passionate and diverse team, including David Darling and the creator of the Micro Machines video games.\\n\\nSkills and requirements\\nA degree in a numerically focussed degree discipline such as, Maths, Physics, Economics, Chemistry, Engineering, Biological Sciences\\n5+Years experience using Python for data analysis and visualisation and using libraries such as Tensorflow, Keras and Scikit-Learn\\nA proven track record of solving problems with data\\nKnowledge of NoSQL or SQL databases like Couchbase, Elasticsearch and PostgreSQL\\nAn avid interest in the development, marketing and monetisation of mobile games\\n\\nDesirable\\nExperience with AWS - Redshift, EC2, Lambda\\nExperience managing data projects from prototype to production tools\\n\\nWe offer\\nWe want everyone involved in our games to share our success, that’s why we have a generous team profit sharing scheme from day 1 of employment\\nIn addition to a competitive salary we also offer private medical cover and life assurance\\nCreative Wednesdays! (Design and make your own games every Wednesday)\\n20 days of paid holidays plus bank holidays\\nGreat work-life balance with flexible working hours\\nQuarterly team building days - work hard, play hard!\\nMonthly employee awards\\nFree snacks, fruit and drinks\\n\\nOur philosophy\\nWe firmly believe in creativity and innovation and that a fundamental requirement for a successful and happy company is having the right mix of individuals. With the right people in the right environment anything and everything is possible.\\nRoleSenior Data Scientist\\nIndustry TypeAnimation & VFX\\nFunctional AreaAnalytics & Business Intelligence\\nEmployment TypeFull Time, Permanent\\nRole CategoryNot mentioned\\nEducation\\nUG :Any Graduate\\nKey Skills\\nTensorflowPredictive ModelingData ManagementScikit-LearnPhysicsSQLNoSQLAws LambdaAmazon RedshiftEc2Data AnalysisKerasPython',\n",
       " 'Job description\\n\\nPurpose of the position\\nThe position should be able to liaison seamlessly with the Product Engineering, Sales Engineering and Delivery teams to deliver quality work products within scope, time and budget focused on ensuring client satisfaction. The position should also be able to mentor junior data scientists in day-to-day tasks.\\nEssential Job Function\\nA senior data scientist who can demonstrate thought leadership and translate them into actionable work products in text/image-based artificial intelligence. The ideal candidate should possess programming experience in Python/R (C++ will be a plus) for analysing structured and unstructured data and build models using deep learning techniques. He/she should be an innovative thinker and possesses the ability to bring a varied perspective to problem-solving using data, statistical, algorithmic, deep learning and visualization techniques. He/she should possess a proven track record of leading and mentoring a team of high performing data scientists.\\nBasic Qualification\\nEducation: PhD/Master s degree in Computer Science/Data Science / Mathematics / Statistics /Allied Fields\\nEssential Qualification:\\nAt least 9 years of experience in machine learning with at least at least 4 years of hands-on experience in developing enterprise class and scalable models using deep learning/Natural Language Processing including Natural Language Understanding/Natural Language Inference\\nHands-on experience in achieving data parallelism/model parallelism using multiple GPUs\\nExposure to pre-processing techniques to enhance documents to aid accuracy of extraction\\nSolid mathematical foundations of machine learning/deep learning/computer vision\\nHands-on experience in Tensor Flow, Keras, PyTorch, NLTK\\nHands-on experience in Python/R/C programming\\nCompilers: Anaconda/ ANT\\nExcellent communication skills\\nBusiness mindset\\nDesirable Technical background\\nExposure to various opensource and proprietary OCR/ICR for extracting both Latin and non-Latin scripts\\nExposure to MLOps implementing and automating continuous integration (CI), continuous delivery (CD), and continuous training (CT) for machine learning (ML) systems\\nExperience in building NLP solutions for Japanese/Thai/Arabic/Chinese Languages\\nExperience in Natural Language Processing including Natural Language Understanding/Natural Language Inference\\nExperience in developing enterprise class scalable and self-learning NLP solutions/engines\\nFractal Structures and Distributions\\nFractal dimension for data mining\\nImage based fractal analysis\\nSelf-resonance and self-similarity\\nRoleOutside Technical Consultant\\nIndustry TypeIT Services & Consulting\\nFunctional AreaIT Software - Application Programming, Maintenance\\nEmployment TypeFull Time, Permanent\\nRole CategorySystem Design/Implementation/ERP/CRM\\nEducation\\nUG :Any Graduate\\nPG :Post Graduation Not Required\\nKey Skills\\nData ScienceNlpArtificial IntelligenceTensor FlowData ScientistNatural Language ProcessingComputer VisionMachine LearningDeep LearningPython',\n",
       " 'Job description\\nMain purpose of this role:\\nBe a part of the Enterprise IT , Information and Data Science team and drive a strategic and actionable Data Science architecture to activate the needed business capabilities. Deliver business use cases like Care Provider (Customer, Product , IB ) 360 initiative, Product bundling , Value Based pricing , Conversational AI, Indirect Trade partner classification , Data pipeline predictions etc - an ambition to better understand the needs of Healthcare Providers, the way Philips serves its customers and how and where Philips can add value to the customer decision journey.\\nYour responsibilities\\nEnsure strategic direction for data science capabilities for Philips is created and kept up to date on a regular basis\\nContinuously evaluate the latest techniques in Artificial intelligence, machine learning, robotics, statistical analysis\\nImplement advanced algorithms for business problems based on statistical analysis, coding, deep learning, advanced data mining techniques etc.\\nDevelop new algorithms if necessary, to bring predictive, advanced statistics / learning based solutions\\nDevelop algorithms to further automate processes and feed insights back into PIL for better business outcome\\nCo-create with business / market / functions or IT platforms on requirements\\nEnsure quality of data and solution developed\\nLead and drive data mining, creating algorithms, collection of data, collection of procedures during the design, build phases of a project\\nLead and drive in deploy and testing of the solutions and insights\\nSpot and evaluate emerging/cutting edge, open source, data science/machine learning libraries\\nYou are part of:\\nYou will be part of Group IT , Information and Data Management team that drives business impact through Data Science and Advanced analytics. A team that instigates collaboration across diverse teams globally to manage Data as an asset at Philips.\\nCore competencies needed to be successful:\\nA Master s Degree or PhD in Computer Science, Econometrics, Artificial Intelligence, Applied Mathematics, Statistics or equivalent;\\n8-10 years of overall experience in data science, data analytics roles\\n8+ years of experience in multiple of machine learning, data mining, deep learning, artificial intelligence, pattern recognition areas\\nExperience in driving implementation of solutions, data and algorithms on data warehouse and lakes like Azure , AWS, SQL etc\\nDemonstrable advanced programming experience in Python or another programming language such as Azure ML/R/Python etc ;\\nStrong analytical and social skills and the capability to translate data intelligence into valuable insights for the senior stakeholders in the company\\nAbility to formulate multiple complex business problems into hypothesis and proof of concepts for testing\\nManage Projects and lead a sub-portfolio of data science project teams to deliver results\\nCoach, Guide and direct teams of internal and vendor resources\\nCollaborate across IT platform teams to deploy solutions and drive continuous improvements\\nManage senior stakeholder in the company in a matrix organization i.e. Market / BG / Function leaders\\nRoleBusiness/EDP Analyst\\nIndustry TypeMedical Services / Hospital\\nFunctional AreaITES, BPO, KPO, LPO, Customer Service, Operations\\nEmployment TypeFull Time, Permanent\\nRole CategoryOperations\\nEducation\\nUG :Any Graduate\\nPG :Post Graduation Not Required\\nKey Skills\\nComputer scienceData managementCodingAnalyticalMachine learningHealthcareData miningRoboticsSQLPython']"
      ]
     },
     "execution_count": 170,
     "metadata": {},
     "output_type": "execute_result"
    }
   ],
   "source": [
    "import time\n",
    "job_description = []\n",
    "\n",
    "for i in job_url:\n",
    "    driver.get(i)\n",
    "    time.sleep(5)\n",
    "    try:\n",
    "        description = driver.find_element_by_xpath('//section[@class=\"job-desc\"]')\n",
    "        job_description.append(description.text)\n",
    "    except:\n",
    "        job_description.append('----')\n",
    "        \n",
    "job_description\n",
    "        "
   ]
  },
  {
   "cell_type": "code",
   "execution_count": 171,
   "metadata": {},
   "outputs": [
    {
     "data": {
      "text/plain": [
       "20"
      ]
     },
     "execution_count": 171,
     "metadata": {},
     "output_type": "execute_result"
    }
   ],
   "source": [
    "len(job_description)"
   ]
  },
  {
   "cell_type": "code",
   "execution_count": 172,
   "metadata": {},
   "outputs": [
    {
     "data": {
      "text/html": [
       "<div>\n",
       "<style scoped>\n",
       "    .dataframe tbody tr th:only-of-type {\n",
       "        vertical-align: middle;\n",
       "    }\n",
       "\n",
       "    .dataframe tbody tr th {\n",
       "        vertical-align: top;\n",
       "    }\n",
       "\n",
       "    .dataframe thead th {\n",
       "        text-align: right;\n",
       "    }\n",
       "</style>\n",
       "<table border=\"1\" class=\"dataframe\">\n",
       "  <thead>\n",
       "    <tr style=\"text-align: right;\">\n",
       "      <th></th>\n",
       "      <th>Job Title</th>\n",
       "      <th>Company</th>\n",
       "      <th>job Location</th>\n",
       "      <th>job Description</th>\n",
       "    </tr>\n",
       "  </thead>\n",
       "  <tbody>\n",
       "    <tr>\n",
       "      <th>0</th>\n",
       "      <td>Lead Data Scientist BFSI</td>\n",
       "      <td>IBM India Pvt. Limited</td>\n",
       "      <td>Bengaluru/Bangalore</td>\n",
       "      <td>----</td>\n",
       "    </tr>\n",
       "    <tr>\n",
       "      <th>1</th>\n",
       "      <td>Associate Data Scientist</td>\n",
       "      <td>Philips India Limited</td>\n",
       "      <td>Bangalore/Bengaluru</td>\n",
       "      <td>Job description\\nUse predictive modeling to in...</td>\n",
       "    </tr>\n",
       "    <tr>\n",
       "      <th>2</th>\n",
       "      <td>Data Scientist: Advanced Analytics</td>\n",
       "      <td>IBM India Pvt. Limited</td>\n",
       "      <td>Bengaluru/Bangalore</td>\n",
       "      <td>----</td>\n",
       "    </tr>\n",
       "    <tr>\n",
       "      <th>3</th>\n",
       "      <td>SENIOR DATA SCIENTIST</td>\n",
       "      <td>Happiest Minds Technologies Pvt.Ltd</td>\n",
       "      <td>Bangalore/Bengaluru</td>\n",
       "      <td>Job description\\n  Skills\\nRequired Skills: Da...</td>\n",
       "    </tr>\n",
       "    <tr>\n",
       "      <th>4</th>\n",
       "      <td>Data Scientist (Python &amp; SQL)</td>\n",
       "      <td>AVE-Promagne</td>\n",
       "      <td>Hyderabad/Secunderabad, Chennai, Bangalore/Ben...</td>\n",
       "      <td>Job description\\nRequired Technical and Profes...</td>\n",
       "    </tr>\n",
       "    <tr>\n",
       "      <th>5</th>\n",
       "      <td>Sr Data Scientist</td>\n",
       "      <td>IBM India Pvt. Limited</td>\n",
       "      <td>Bengaluru/Bangalore</td>\n",
       "      <td>----</td>\n",
       "    </tr>\n",
       "    <tr>\n",
       "      <th>6</th>\n",
       "      <td>Sr Data Scientist</td>\n",
       "      <td>IBM India Pvt. Limited</td>\n",
       "      <td>Bangalore/Bengaluru</td>\n",
       "      <td>----</td>\n",
       "    </tr>\n",
       "    <tr>\n",
       "      <th>7</th>\n",
       "      <td>Freelance Data Scientist Project Based</td>\n",
       "      <td>Shikvix</td>\n",
       "      <td>Remote</td>\n",
       "      <td>Job description\\n\\nJob description:\\n\\nSeeking...</td>\n",
       "    </tr>\n",
       "    <tr>\n",
       "      <th>8</th>\n",
       "      <td>Data Scientist</td>\n",
       "      <td>VRIZE</td>\n",
       "      <td>Bangalore/Bengaluru</td>\n",
       "      <td>Job description\\nProfile Overview\\nWe are look...</td>\n",
       "    </tr>\n",
       "    <tr>\n",
       "      <th>9</th>\n",
       "      <td>Data Scientist</td>\n",
       "      <td>ELPIS IT SOLUTIONS PVT LTD</td>\n",
       "      <td>(WFH during Covid)</td>\n",
       "      <td>Job description\\nRoles and Responsibilities\\nJ...</td>\n",
       "    </tr>\n",
       "  </tbody>\n",
       "</table>\n",
       "</div>"
      ],
      "text/plain": [
       "                                Job Title  \\\n",
       "0                Lead Data Scientist BFSI   \n",
       "1                Associate Data Scientist   \n",
       "2      Data Scientist: Advanced Analytics   \n",
       "3                   SENIOR DATA SCIENTIST   \n",
       "4           Data Scientist (Python & SQL)   \n",
       "5                       Sr Data Scientist   \n",
       "6                       Sr Data Scientist   \n",
       "7  Freelance Data Scientist Project Based   \n",
       "8                          Data Scientist   \n",
       "9                          Data Scientist   \n",
       "\n",
       "                               Company  \\\n",
       "0               IBM India Pvt. Limited   \n",
       "1                Philips India Limited   \n",
       "2               IBM India Pvt. Limited   \n",
       "3  Happiest Minds Technologies Pvt.Ltd   \n",
       "4                         AVE-Promagne   \n",
       "5               IBM India Pvt. Limited   \n",
       "6               IBM India Pvt. Limited   \n",
       "7                              Shikvix   \n",
       "8                                VRIZE   \n",
       "9           ELPIS IT SOLUTIONS PVT LTD   \n",
       "\n",
       "                                        job Location  \\\n",
       "0                                Bengaluru/Bangalore   \n",
       "1                                Bangalore/Bengaluru   \n",
       "2                                Bengaluru/Bangalore   \n",
       "3                                Bangalore/Bengaluru   \n",
       "4  Hyderabad/Secunderabad, Chennai, Bangalore/Ben...   \n",
       "5                                Bengaluru/Bangalore   \n",
       "6                                Bangalore/Bengaluru   \n",
       "7                                             Remote   \n",
       "8                                Bangalore/Bengaluru   \n",
       "9                                 (WFH during Covid)   \n",
       "\n",
       "                                     job Description  \n",
       "0                                               ----  \n",
       "1  Job description\\nUse predictive modeling to in...  \n",
       "2                                               ----  \n",
       "3  Job description\\n  Skills\\nRequired Skills: Da...  \n",
       "4  Job description\\nRequired Technical and Profes...  \n",
       "5                                               ----  \n",
       "6                                               ----  \n",
       "7  Job description\\n\\nJob description:\\n\\nSeeking...  \n",
       "8  Job description\\nProfile Overview\\nWe are look...  \n",
       "9  Job description\\nRoles and Responsibilities\\nJ...  "
      ]
     },
     "execution_count": 172,
     "metadata": {},
     "output_type": "execute_result"
    }
   ],
   "source": [
    "Data_scientist_jobs = pd.DataFrame({})\n",
    "\n",
    "Data_scientist_jobs['Job Title'] = job_title[:10]\n",
    "Data_scientist_jobs['Company'] = Company[:10]\n",
    "Data_scientist_jobs['job Location'] = job_location[:10]\n",
    "Data_scientist_jobs['job Description'] = job_description[:10]\n",
    "\n",
    "Data_scientist_jobs"
   ]
  },
  {
   "cell_type": "code",
   "execution_count": null,
   "metadata": {},
   "outputs": [],
   "source": []
  },
  {
   "cell_type": "markdown",
   "metadata": {},
   "source": [
    "# Question-3"
   ]
  },
  {
   "cell_type": "markdown",
   "metadata": {},
   "source": [
    "Q3: In this question you have to scrape data using the filters available on the \n",
    "webpage."
   ]
  },
  {
   "cell_type": "code",
   "execution_count": 1,
   "metadata": {},
   "outputs": [],
   "source": [
    "import pandas as pd\n",
    "import selenium\n",
    "from selenium import webdriver"
   ]
  },
  {
   "cell_type": "code",
   "execution_count": 2,
   "metadata": {},
   "outputs": [
    {
     "data": {
      "text/plain": [
       "<selenium.webdriver.chrome.webdriver.WebDriver (session=\"477e4d94dbe5ee5d55b11479bfec9068\")>"
      ]
     },
     "execution_count": 2,
     "metadata": {},
     "output_type": "execute_result"
    }
   ],
   "source": [
    "driver = webdriver.Chrome('chromedriver.exe')\n",
    "driver"
   ]
  },
  {
   "cell_type": "code",
   "execution_count": 3,
   "metadata": {},
   "outputs": [],
   "source": [
    "url = 'https://www.naukri.com/'\n",
    "driver.get(url)"
   ]
  },
  {
   "cell_type": "code",
   "execution_count": 4,
   "metadata": {},
   "outputs": [],
   "source": [
    "job_search = driver.find_element_by_id('qsb-keyword-sugg')"
   ]
  },
  {
   "cell_type": "code",
   "execution_count": 5,
   "metadata": {},
   "outputs": [],
   "source": [
    "search_btn = driver.find_element_by_xpath('//button[@class =\"btn\"]')"
   ]
  },
  {
   "cell_type": "code",
   "execution_count": 6,
   "metadata": {},
   "outputs": [],
   "source": [
    "job_search.send_keys('Data Scientist')\n",
    "search_btn.click()"
   ]
  },
  {
   "cell_type": "code",
   "execution_count": 7,
   "metadata": {},
   "outputs": [
    {
     "data": {
      "text/plain": [
       "<selenium.webdriver.remote.webelement.WebElement (session=\"477e4d94dbe5ee5d55b11479bfec9068\", element=\"33bac469-e53b-4af4-86ac-6cd847e65d85\")>"
      ]
     },
     "execution_count": 7,
     "metadata": {},
     "output_type": "execute_result"
    }
   ],
   "source": [
    "filter_btn1 = driver.find_element_by_xpath('//span[@title =\"Delhi / NCR\"]')\n",
    "filter_btn1"
   ]
  },
  {
   "cell_type": "code",
   "execution_count": 8,
   "metadata": {},
   "outputs": [],
   "source": [
    "filter_btn1.click()"
   ]
  },
  {
   "cell_type": "code",
   "execution_count": 9,
   "metadata": {},
   "outputs": [
    {
     "data": {
      "text/plain": [
       "<selenium.webdriver.remote.webelement.WebElement (session=\"477e4d94dbe5ee5d55b11479bfec9068\", element=\"21f59fb6-181a-419f-b505-35c8372f39a2\")>"
      ]
     },
     "execution_count": 9,
     "metadata": {},
     "output_type": "execute_result"
    }
   ],
   "source": [
    "filter_btn2 = driver.find_element_by_xpath('//span[@title =\"3-6 Lakhs\"]')\n",
    "filter_btn2"
   ]
  },
  {
   "cell_type": "code",
   "execution_count": 10,
   "metadata": {},
   "outputs": [],
   "source": [
    "filter_btn2.click()"
   ]
  },
  {
   "cell_type": "code",
   "execution_count": 11,
   "metadata": {},
   "outputs": [],
   "source": [
    "title = driver.find_elements_by_xpath('//a[@class = \"title fw500 ellipsis\"]')\n",
    "location = driver.find_elements_by_xpath('//li[@class = \"fleft grey-text br2 placeHolderLi location\"]/span[1]')\n",
    "experience=driver.find_elements_by_xpath('//li[@class = \"fleft grey-text br2 placeHolderLi experience\"]/span[1]')\n",
    "company = driver.find_elements_by_xpath('//a[@class = \"subTitle ellipsis fleft\"]')"
   ]
  },
  {
   "cell_type": "code",
   "execution_count": 12,
   "metadata": {},
   "outputs": [],
   "source": [
    "Title = []\n",
    "Location=[]\n",
    "Company =[]\n",
    "Experience=[]\n",
    "\n",
    "for i in title:\n",
    "    Title.append(i.text)\n",
    "\n",
    "for i in location:\n",
    "    Location.append(i.text)\n",
    "    \n",
    "for i in company:\n",
    "    Company.append(i.text)\n",
    "    \n",
    "for i in experience:\n",
    "    Experience.append(i.text)"
   ]
  },
  {
   "cell_type": "code",
   "execution_count": 13,
   "metadata": {},
   "outputs": [
    {
     "data": {
      "text/plain": [
       "['Data Scientist / Data Analyst / Business Analytics - MNC Jobs Freshers',\n",
       " 'Only Fresher / Data Scientist / Data Analyst / Analytics - MNC Jobs',\n",
       " 'Data Scientist / Data Analyst / Business Analytics - MNC Jobs Freshers',\n",
       " 'Data Scientist',\n",
       " 'Data Scientist - Insurance',\n",
       " 'Data Scientist/ Machine Learning Engineer',\n",
       " 'Data Scientist / Data Analyst',\n",
       " 'Data Scientist-immediate Joiners',\n",
       " 'Data Scientist',\n",
       " 'Data Scientist - WFH - MIND Infotech',\n",
       " 'Junior Data Scientists & Engineers',\n",
       " 'Immediate Openings For Data Scientist For Wipro C2H',\n",
       " 'Data Scientist',\n",
       " 'Data Scientist - Machine Learning/ NLP',\n",
       " 'Data Analyst/Data Scientist',\n",
       " 'Data Scientist Internship',\n",
       " 'Associate Data Scientist',\n",
       " 'Data Scientist',\n",
       " 'Data Scientist',\n",
       " 'Senior Data Scientist']"
      ]
     },
     "execution_count": 13,
     "metadata": {},
     "output_type": "execute_result"
    }
   ],
   "source": [
    "Title"
   ]
  },
  {
   "cell_type": "code",
   "execution_count": 14,
   "metadata": {},
   "outputs": [
    {
     "data": {
      "text/plain": [
       "20"
      ]
     },
     "execution_count": 14,
     "metadata": {},
     "output_type": "execute_result"
    }
   ],
   "source": [
    "len(Title)"
   ]
  },
  {
   "cell_type": "code",
   "execution_count": 15,
   "metadata": {},
   "outputs": [
    {
     "data": {
      "text/plain": [
       "['GABA Consultancy services',\n",
       " 'GABA Consultancy services',\n",
       " 'GABA Consultancy services',\n",
       " 'R Systems International Ltd.',\n",
       " 'Huquo Consulting Pvt. Ltd',\n",
       " 'Creative Hands HR Consultancy',\n",
       " 'CARS24',\n",
       " 'Quikruit Consulting LLP',\n",
       " 'PROCESS NINE TECHNOLOGIES PVT.LTD.',\n",
       " 'MOTHERSONSUMI INFOTECH & DESIGNS LIMITED',\n",
       " 'PY Consultancy',\n",
       " 'IDESLABS PRIVATE LIMITED',\n",
       " 'Kusum Healthcare Pvt. Ltd.',\n",
       " 'TalPro',\n",
       " 'Skillenable Fintech Private Limited',\n",
       " 'iHackers Inc',\n",
       " 'Right Step Consulting',\n",
       " 'Fractal Analytics',\n",
       " 'Agreeya',\n",
       " 'inVentiv International Pharma Services Pvt. Ltd.']"
      ]
     },
     "execution_count": 15,
     "metadata": {},
     "output_type": "execute_result"
    }
   ],
   "source": [
    "Company"
   ]
  },
  {
   "cell_type": "code",
   "execution_count": 16,
   "metadata": {},
   "outputs": [
    {
     "data": {
      "text/plain": [
       "20"
      ]
     },
     "execution_count": 16,
     "metadata": {},
     "output_type": "execute_result"
    }
   ],
   "source": [
    "len(Company)"
   ]
  },
  {
   "cell_type": "code",
   "execution_count": 17,
   "metadata": {},
   "outputs": [
    {
     "data": {
      "text/plain": [
       "['Ghaziabad, Faridabad, Delhi / NCR',\n",
       " 'Noida, Gurgaon/Gurugram, Delhi / NCR',\n",
       " 'Noida, New Delhi, Gurgaon/Gurugram',\n",
       " 'Noida',\n",
       " 'Noida, Gurgaon/Gurugram',\n",
       " 'Hyderabad/Secunderabad, Pune, Ahmedabad, Gurgaon/Gurugram, Chennai, Bangalore/Bengaluru',\n",
       " 'Gurgaon/Gurugram',\n",
       " 'Noida',\n",
       " 'Gurgaon/Gurugram',\n",
       " 'Pune, Chennai, Bangalore/Bengaluru, Delhi / NCR, Mumbai (All Areas)',\n",
       " 'New Delhi, Delhi / NCR',\n",
       " 'Gurgaon/Gurugram',\n",
       " 'Delhi / NCR(Okhla)',\n",
       " 'Gurgaon/Gurugram',\n",
       " 'Bangalore/Bengaluru, Delhi / NCR, Mumbai (All Areas)',\n",
       " 'New Delhi',\n",
       " 'Noida',\n",
       " 'Mumbai, Gurgaon/Gurugram, Bangalore/Bengaluru',\n",
       " 'Noida, Gurgaon/Gurugram, Delhi / NCR',\n",
       " 'Hyderabad/Secunderabad, Gurgaon/Gurugram, Bangalore/Bengaluru']"
      ]
     },
     "execution_count": 17,
     "metadata": {},
     "output_type": "execute_result"
    }
   ],
   "source": [
    "Location"
   ]
  },
  {
   "cell_type": "code",
   "execution_count": 18,
   "metadata": {},
   "outputs": [
    {
     "data": {
      "text/plain": [
       "20"
      ]
     },
     "execution_count": 18,
     "metadata": {},
     "output_type": "execute_result"
    }
   ],
   "source": [
    "len(Location)"
   ]
  },
  {
   "cell_type": "code",
   "execution_count": 19,
   "metadata": {},
   "outputs": [
    {
     "data": {
      "text/plain": [
       "['0-0 Yrs',\n",
       " '0-0 Yrs',\n",
       " '0-0 Yrs',\n",
       " '3-6 Yrs',\n",
       " '2-7 Yrs',\n",
       " '0-0 Yrs',\n",
       " '1-5 Yrs',\n",
       " '2-5 Yrs',\n",
       " '1-3 Yrs',\n",
       " '3-7 Yrs',\n",
       " '0-3 Yrs',\n",
       " '5-10 Yrs',\n",
       " '4-6 Yrs',\n",
       " '2-6 Yrs',\n",
       " '2-5 Yrs',\n",
       " '0-1 Yrs',\n",
       " '3-6 Yrs',\n",
       " '3-7 Yrs',\n",
       " '3-6 Yrs',\n",
       " '3-6 Yrs']"
      ]
     },
     "execution_count": 19,
     "metadata": {},
     "output_type": "execute_result"
    }
   ],
   "source": [
    "Experience"
   ]
  },
  {
   "cell_type": "code",
   "execution_count": 20,
   "metadata": {},
   "outputs": [
    {
     "data": {
      "text/plain": [
       "20"
      ]
     },
     "execution_count": 20,
     "metadata": {},
     "output_type": "execute_result"
    }
   ],
   "source": [
    "len(Experience)"
   ]
  },
  {
   "cell_type": "code",
   "execution_count": 21,
   "metadata": {},
   "outputs": [
    {
     "data": {
      "text/html": [
       "<div>\n",
       "<style scoped>\n",
       "    .dataframe tbody tr th:only-of-type {\n",
       "        vertical-align: middle;\n",
       "    }\n",
       "\n",
       "    .dataframe tbody tr th {\n",
       "        vertical-align: top;\n",
       "    }\n",
       "\n",
       "    .dataframe thead th {\n",
       "        text-align: right;\n",
       "    }\n",
       "</style>\n",
       "<table border=\"1\" class=\"dataframe\">\n",
       "  <thead>\n",
       "    <tr style=\"text-align: right;\">\n",
       "      <th></th>\n",
       "      <th>Title</th>\n",
       "      <th>Company</th>\n",
       "      <th>Location</th>\n",
       "      <th>Experience</th>\n",
       "    </tr>\n",
       "  </thead>\n",
       "  <tbody>\n",
       "    <tr>\n",
       "      <th>0</th>\n",
       "      <td>Data Scientist / Data Analyst / Business Analy...</td>\n",
       "      <td>GABA Consultancy services</td>\n",
       "      <td>Ghaziabad, Faridabad, Delhi / NCR</td>\n",
       "      <td>0-0 Yrs</td>\n",
       "    </tr>\n",
       "    <tr>\n",
       "      <th>1</th>\n",
       "      <td>Only Fresher / Data Scientist / Data Analyst /...</td>\n",
       "      <td>GABA Consultancy services</td>\n",
       "      <td>Noida, Gurgaon/Gurugram, Delhi / NCR</td>\n",
       "      <td>0-0 Yrs</td>\n",
       "    </tr>\n",
       "    <tr>\n",
       "      <th>2</th>\n",
       "      <td>Data Scientist / Data Analyst / Business Analy...</td>\n",
       "      <td>GABA Consultancy services</td>\n",
       "      <td>Noida, New Delhi, Gurgaon/Gurugram</td>\n",
       "      <td>0-0 Yrs</td>\n",
       "    </tr>\n",
       "    <tr>\n",
       "      <th>3</th>\n",
       "      <td>Data Scientist</td>\n",
       "      <td>R Systems International Ltd.</td>\n",
       "      <td>Noida</td>\n",
       "      <td>3-6 Yrs</td>\n",
       "    </tr>\n",
       "    <tr>\n",
       "      <th>4</th>\n",
       "      <td>Data Scientist - Insurance</td>\n",
       "      <td>Huquo Consulting Pvt. Ltd</td>\n",
       "      <td>Noida, Gurgaon/Gurugram</td>\n",
       "      <td>2-7 Yrs</td>\n",
       "    </tr>\n",
       "    <tr>\n",
       "      <th>5</th>\n",
       "      <td>Data Scientist/ Machine Learning Engineer</td>\n",
       "      <td>Creative Hands HR Consultancy</td>\n",
       "      <td>Hyderabad/Secunderabad, Pune, Ahmedabad, Gurga...</td>\n",
       "      <td>0-0 Yrs</td>\n",
       "    </tr>\n",
       "    <tr>\n",
       "      <th>6</th>\n",
       "      <td>Data Scientist / Data Analyst</td>\n",
       "      <td>CARS24</td>\n",
       "      <td>Gurgaon/Gurugram</td>\n",
       "      <td>1-5 Yrs</td>\n",
       "    </tr>\n",
       "    <tr>\n",
       "      <th>7</th>\n",
       "      <td>Data Scientist-immediate Joiners</td>\n",
       "      <td>Quikruit Consulting LLP</td>\n",
       "      <td>Noida</td>\n",
       "      <td>2-5 Yrs</td>\n",
       "    </tr>\n",
       "    <tr>\n",
       "      <th>8</th>\n",
       "      <td>Data Scientist</td>\n",
       "      <td>PROCESS NINE TECHNOLOGIES PVT.LTD.</td>\n",
       "      <td>Gurgaon/Gurugram</td>\n",
       "      <td>1-3 Yrs</td>\n",
       "    </tr>\n",
       "    <tr>\n",
       "      <th>9</th>\n",
       "      <td>Data Scientist - WFH - MIND Infotech</td>\n",
       "      <td>MOTHERSONSUMI INFOTECH &amp; DESIGNS LIMITED</td>\n",
       "      <td>Pune, Chennai, Bangalore/Bengaluru, Delhi / NC...</td>\n",
       "      <td>3-7 Yrs</td>\n",
       "    </tr>\n",
       "  </tbody>\n",
       "</table>\n",
       "</div>"
      ],
      "text/plain": [
       "                                               Title  \\\n",
       "0  Data Scientist / Data Analyst / Business Analy...   \n",
       "1  Only Fresher / Data Scientist / Data Analyst /...   \n",
       "2  Data Scientist / Data Analyst / Business Analy...   \n",
       "3                                     Data Scientist   \n",
       "4                         Data Scientist - Insurance   \n",
       "5          Data Scientist/ Machine Learning Engineer   \n",
       "6                      Data Scientist / Data Analyst   \n",
       "7                   Data Scientist-immediate Joiners   \n",
       "8                                     Data Scientist   \n",
       "9               Data Scientist - WFH - MIND Infotech   \n",
       "\n",
       "                                    Company  \\\n",
       "0                 GABA Consultancy services   \n",
       "1                 GABA Consultancy services   \n",
       "2                 GABA Consultancy services   \n",
       "3              R Systems International Ltd.   \n",
       "4                 Huquo Consulting Pvt. Ltd   \n",
       "5             Creative Hands HR Consultancy   \n",
       "6                                    CARS24   \n",
       "7                   Quikruit Consulting LLP   \n",
       "8        PROCESS NINE TECHNOLOGIES PVT.LTD.   \n",
       "9  MOTHERSONSUMI INFOTECH & DESIGNS LIMITED   \n",
       "\n",
       "                                            Location Experience  \n",
       "0                  Ghaziabad, Faridabad, Delhi / NCR    0-0 Yrs  \n",
       "1               Noida, Gurgaon/Gurugram, Delhi / NCR    0-0 Yrs  \n",
       "2                 Noida, New Delhi, Gurgaon/Gurugram    0-0 Yrs  \n",
       "3                                              Noida    3-6 Yrs  \n",
       "4                            Noida, Gurgaon/Gurugram    2-7 Yrs  \n",
       "5  Hyderabad/Secunderabad, Pune, Ahmedabad, Gurga...    0-0 Yrs  \n",
       "6                                   Gurgaon/Gurugram    1-5 Yrs  \n",
       "7                                              Noida    2-5 Yrs  \n",
       "8                                   Gurgaon/Gurugram    1-3 Yrs  \n",
       "9  Pune, Chennai, Bangalore/Bengaluru, Delhi / NC...    3-7 Yrs  "
      ]
     },
     "execution_count": 21,
     "metadata": {},
     "output_type": "execute_result"
    }
   ],
   "source": [
    "Jobs_Delhi_NCR = pd.DataFrame({})\n",
    "\n",
    "Jobs_Delhi_NCR['Title'] = Title[:10]\n",
    "Jobs_Delhi_NCR['Company'] = Company[:10]\n",
    "Jobs_Delhi_NCR['Location'] = Location[:10]\n",
    "Jobs_Delhi_NCR['Experience'] = Experience[:10]\n",
    "\n",
    "Jobs_Delhi_NCR"
   ]
  },
  {
   "cell_type": "code",
   "execution_count": null,
   "metadata": {},
   "outputs": [],
   "source": []
  },
  {
   "cell_type": "markdown",
   "metadata": {},
   "source": [
    "# Ques.4"
   ]
  },
  {
   "cell_type": "markdown",
   "metadata": {},
   "source": [
    "Q4: Write a python program to scrape data for first 10 job results for Data scientist \n",
    "Designation in Noida location. You have to scrape company_name, No. of days \n",
    "ago when job was posted, Rating of the company."
   ]
  },
  {
   "cell_type": "code",
   "execution_count": 23,
   "metadata": {},
   "outputs": [],
   "source": [
    "import pandas as pd\n",
    "import selenium\n",
    "from selenium import webdriver\n",
    "import time"
   ]
  },
  {
   "cell_type": "code",
   "execution_count": 24,
   "metadata": {},
   "outputs": [],
   "source": [
    "driver = webdriver.Chrome('chromedriver.exe')\n",
    "\n",
    "url = 'https://www.glassdoor.co.in/index.htm'"
   ]
  },
  {
   "cell_type": "code",
   "execution_count": 25,
   "metadata": {},
   "outputs": [],
   "source": [
    "driver.get(url)"
   ]
  },
  {
   "cell_type": "code",
   "execution_count": 27,
   "metadata": {},
   "outputs": [],
   "source": [
    "search_job = driver.find_element_by_id('sc.keyword')"
   ]
  },
  {
   "cell_type": "code",
   "execution_count": 28,
   "metadata": {},
   "outputs": [],
   "source": [
    "search_job.send_keys('Data Scientist')"
   ]
  },
  {
   "cell_type": "code",
   "execution_count": 29,
   "metadata": {},
   "outputs": [],
   "source": [
    "search_loc = driver.find_element_by_id('sc.location')\n",
    "search_loc.send_keys('Noida')"
   ]
  },
  {
   "cell_type": "code",
   "execution_count": 30,
   "metadata": {},
   "outputs": [],
   "source": [
    "search_btn = driver.find_element_by_xpath('//span[@class = \"css-8zxfjs\"]')\n",
    "search_btn.click()"
   ]
  },
  {
   "cell_type": "code",
   "execution_count": 31,
   "metadata": {},
   "outputs": [],
   "source": [
    "Company = []\n",
    "Post_date = []\n",
    "\n",
    "\n",
    "company = driver.find_elements_by_xpath('//a[@class = \" job-search-key-l2wjgv e1n63ojh0 jobLink\"]')\n",
    "for i in company:\n",
    "    Company.append(i.text)\n",
    "    \n",
    "post = driver.find_elements_by_xpath('//div[@class = \"d-flex align-items-end pl-std css-17n8uzw\"]')\n",
    "for j in post:\n",
    "    Post_date.append(j.text)\n",
    "    \n"
   ]
  },
  {
   "cell_type": "code",
   "execution_count": 32,
   "metadata": {},
   "outputs": [
    {
     "data": {
      "text/plain": [
       "['Applied Materials Inc.',\n",
       " 'Indeed',\n",
       " 'Patient Bond India Private Limited',\n",
       " 'Lenskart',\n",
       " 'Elpis IT Solutions',\n",
       " 'Argoid',\n",
       " 'Top Mentor',\n",
       " 'Reach52, Inc.',\n",
       " 'Airtel India',\n",
       " 'IBM',\n",
       " 'limeroad.com',\n",
       " 'NielsenIQ',\n",
       " 'AlgoScale Technologies Private Limited',\n",
       " 'HDFC Bank',\n",
       " 'Maersk',\n",
       " 'GE Aviation',\n",
       " 'HP',\n",
       " 'Mercedes-Benz Research and Development India Private Limited',\n",
       " 'Zinier',\n",
       " 'Liberin Technologies Private Limited',\n",
       " 'Myian pharma',\n",
       " 'GLOBAL TECHNOLOGIES',\n",
       " 'NEC Opportunities',\n",
       " 'ING',\n",
       " 'Crypto Mize',\n",
       " 'Excelledia Ventures',\n",
       " 'Oracle',\n",
       " 'Yara',\n",
       " 'Research Infinite Solutions LLP',\n",
       " 'Ambee']"
      ]
     },
     "execution_count": 32,
     "metadata": {},
     "output_type": "execute_result"
    }
   ],
   "source": [
    "Company"
   ]
  },
  {
   "cell_type": "code",
   "execution_count": 33,
   "metadata": {},
   "outputs": [
    {
     "data": {
      "text/plain": [
       "30"
      ]
     },
     "execution_count": 33,
     "metadata": {},
     "output_type": "execute_result"
    }
   ],
   "source": [
    "len(Company)"
   ]
  },
  {
   "cell_type": "code",
   "execution_count": 34,
   "metadata": {},
   "outputs": [
    {
     "data": {
      "text/plain": [
       "30"
      ]
     },
     "execution_count": 34,
     "metadata": {},
     "output_type": "execute_result"
    }
   ],
   "source": [
    "len(Post_date)"
   ]
  },
  {
   "cell_type": "code",
   "execution_count": 35,
   "metadata": {},
   "outputs": [
    {
     "data": {
      "text/plain": [
       "['https://www.glassdoor.co.in/partner/jobListing.htm?pos=101&ao=1110586&s=58&guid=0000017bdf23ad978b2f6ec0259c6a22&src=GD_JOB_AD&t=SR&vt=w&uido=A5B0040077AD94B6FAE11ADE699BD563&ea=1&cs=1_560b4695&cb=1631536263086&jobListingId=1007003729341&cpc=334ABAF5D42DC775&jrtk=2-0-1fffi7bkju4ok801-1fffi7bl9u3et800-a2715fea88b64e31&jvt=aHR0cHM6Ly9pbi5pbmRlZWQuY29tL3JjL2dkL3BuZz9hPTJHbkRpY0hCWFdVMTFuQ3dKRDZlWUh3RlZEYUJyUWlpeldIM2VBR1ZHTUc0ZTJrcTROYk53WjhyVEJUVGoyclE4ZGhwd2tWbmR2ZE5sV3ZLT2pRTHFIZU5KTHpPLUhLeEFRSERmeE5CdHNRN29DdDF0TFZWMThkZFFTOWlqSE4zTFFzRXlKLXF4bkRnS1lKV0tsSFJJMkg1bG9UTDFCWnNmRnA5SGY3REdnejJpNkFua0hxbTVHMXhRcnVzWkFnWFpmNnJNdk1aaHZDYm00YU92RzktS2dqWEt0ODVqWV8yTlJyQVVCMHpYTVlsRFhQQWhvOEFjRl9oQUZkU2hmeXhfcTZTazBfMzJGMUlyalRKX1U2WVZDbHYyZkdGRlRmRl80d0UyU1hSYnZhek1QU0xkdjFJSGVnSU1HY1VjclJ4cG9KNkRKaDdWVGZlbHdzb3d6Y2wzXzhXX2ZFdWNyQmJmXzVsMWx2SjRtNzhJTjJHSThUM2I1LTlLYnFzZ2h6YUFTa3ZIel9GeUhGaTc4S2dhY0hWci1YZGp0RVNFZEhRaC1JbE9CakJuNlVneE8tYzZwdEJQRzMycnZiMXloaDRETjUyNUNSZWRJNHlfMVFuN24xMDQ1NG9UemtLWmpmRmNXM0QwcGVQeGFpSnlhMXdDMHVJcWlrZlFtY2ZfWkpWNU1xWnVZTGZsdFV5Rm1kbUdpYVNOcGk5Z21IcExEcnFDOTJWUms4Z3Q5a2ZoSnhyMFZwNEJUWldMVVFVTlE2T0VXMno4bWRhZHpsQXY2SlRMb25MaDRWd2pRYldCaFBZWloxbmRJc3U3T0M4bzV4UVpwU2xXR2ljQlYyYlVMcjVuR1pheU9BRXNwdVQwSUxUVjRIY1FzM2tHSk9HdnRXSEpWcjRCQ01zVHpfanpvTkNJeFBmcWhLRzlkLTN5bUZKLWJ5NHk5aEdFM1l1bS1yTXNISXFnamJKbzlIbEUwWGFLMmxUQVNpWVY5TWRtcFlFaXF5ZWF3Tzd3RWtOdkhfcQ',\n",
       " 'https://www.glassdoor.co.in/partner/jobListing.htm?pos=102&ao=1110586&s=58&guid=0000017bdf23ad978b2f6ec0259c6a22&src=GD_JOB_AD&t=SR&vt=w&uido=A5B0040077AD94B6FAE11ADE699BD563&ea=1&cs=1_41ce2208&cb=1631536263087&jobListingId=1006872897491&cpc=3BA4CE39D5B5DEF5&jrtk=2-0-1fffi7bkju4ok801-1fffi7bl9u3et800-a0c97e0ab4263b02&jvt=aHR0cHM6Ly9pbi5pbmRlZWQuY29tL3JjL2dkL3BuZz9hPWNmSVhKRGdFZlRBMTFuQ3dKRDZlWUh3RlZEYUJyUWlpeldIM2VBR1ZHTUVad29ERFZnWWVRRTQyRFA3QWMyYW1vQlYxN05GRUVPSk5sV3ZLT2pRTHFIZU5KTHpPLUhLeEFRSERmeE5CdHNRMmpsSzVmelFfeWFrY0N6SFloay0xTmZodU55aTgxRzRJcUlmY0VHTXg1LVRGSE5fbmRJTjB4V21WRDlyRFRaS2JEbVBpdGhoWkFoRkZCc0YxeHVKZ3IzUTQwV29UcGxHMWlSZmlIWUZkMmhVSGRFNUdlSldnZFE4REZ2Nm9WTkIxZk9menl1eHlCSzFZOGE1Y3hXZW82bnNJcms4RDZnUFZmMjFkZDF6OVhlcHV3WkVvcjlfNkZRV3RBaVN3bnA3LXRPeHlGbEJVSFpaNjZkMERQZGNCNDZsVXlqS04xZzNtTXBEdFNYblUxVDM2cFJtOGM3OVJsSU5mbWE1WFFiQnNuejdDdXc3MDF1OTJvV091enhmcXljZ2gzcGh6blVJRUt6dzhrS0Y4N25CZzkxclFBMG9uV1Bzc1FMYlJRejNKbFFjN3N0SXFSSGFqSnlNbE9FeURmUEhXeUhQa2hFX0Z0UWV6aTFYNDdqak55OFJOaFhQMnh1U09DZzhHaUNnR2NvdU5PLXNPV1cyTU8yU3dHSVJUTS0xbkhfQmVYYTh1VmZfWVRkUGlPRlFiWDlJZm1HdHNHT2VDVjJNc3N1dHNWM0tsMHN1RnAwWjBuTnhJbnowdG52cUNfNlhiUG5GX01Md1RING9LVUdVVUdNLS1HcDNNNDg2RFFpTVQzNm9TaHZYZnQ4cGhTWGZ5MW5KSGQzX1NZbEtndTJUckhJTFY4SlZ4SU1NOU1xaHltbFRlcl9jaWFTUjBhT0o0VTIzTjVCaVRocjdWaDBuV2Q0SmpMV1lsbFpNUHIxeDg3M0E',\n",
       " 'https://www.glassdoor.co.in/partner/jobListing.htm?pos=103&ao=1136043&s=58&guid=0000017bdf23ad978b2f6ec0259c6a22&src=GD_JOB_AD&t=SR&vt=w&uido=A5B0040077AD94B6FAE11ADE699BD563&ea=1&cs=1_7c266a34&cb=1631536263089&jobListingId=1007299185666&jrtk=2-0-1fffi7bkju4ok801-1fffi7bl9u3et800-8b99d75473d8a68d',\n",
       " 'https://www.glassdoor.co.in/partner/jobListing.htm?pos=104&ao=1136043&s=58&guid=0000017bdf23ad978b2f6ec0259c6a22&src=GD_JOB_AD&t=SR&vt=w&uido=A5B0040077AD94B6FAE11ADE699BD563&ea=1&cs=1_7552e338&cb=1631536263091&jobListingId=1007285294048&jrtk=2-0-1fffi7bkju4ok801-1fffi7bl9u3et800-13027c95012596b8',\n",
       " 'https://www.glassdoor.co.in/partner/jobListing.htm?pos=105&ao=1136043&s=58&guid=0000017bdf23ad978b2f6ec0259c6a22&src=GD_JOB_AD&t=SR&vt=w&uido=A5B0040077AD94B6FAE11ADE699BD563&cs=1_c87c6c26&cb=1631536263090&jobListingId=1007286569105&jrtk=2-0-1fffi7bkju4ok801-1fffi7bl9u3et800-edf1eed8df92ac75',\n",
       " 'https://www.glassdoor.co.in/partner/jobListing.htm?pos=106&ao=1136043&s=58&guid=0000017bdf23ad978b2f6ec0259c6a22&src=GD_JOB_AD&t=SR&vt=w&uido=A5B0040077AD94B6FAE11ADE699BD563&ea=1&cs=1_8edd09ab&cb=1631536263092&jobListingId=1007284108357&jrtk=2-0-1fffi7bkju4ok801-1fffi7bl9u3et800-0a7c4ab10b5b0987',\n",
       " 'https://www.glassdoor.co.in/partner/jobListing.htm?pos=107&ao=1136043&s=58&guid=0000017bdf23ad978b2f6ec0259c6a22&src=GD_JOB_AD&t=SR&vt=w&uido=A5B0040077AD94B6FAE11ADE699BD563&ea=1&cs=1_837dc719&cb=1631536263094&jobListingId=1007288853258&jrtk=2-0-1fffi7bkju4ok801-1fffi7bl9u3et800-15ebbff46011eba4',\n",
       " 'https://www.glassdoor.co.in/partner/jobListing.htm?pos=108&ao=1136043&s=58&guid=0000017bdf23ad978b2f6ec0259c6a22&src=GD_JOB_AD&t=SR&vt=w&uido=A5B0040077AD94B6FAE11ADE699BD563&ea=1&cs=1_50ab64d1&cb=1631536263095&jobListingId=1007279883255&jrtk=2-0-1fffi7bkju4ok801-1fffi7bl9u3et800-9c29da7a9f118b6b',\n",
       " 'https://www.glassdoor.co.in/partner/jobListing.htm?pos=109&ao=1136043&s=58&guid=0000017bdf23ad978b2f6ec0259c6a22&src=GD_JOB_AD&t=SR&vt=w&uido=A5B0040077AD94B6FAE11ADE699BD563&cs=1_5feff679&cb=1631536263094&jobListingId=1007248250199&jrtk=2-0-1fffi7bkju4ok801-1fffi7bl9u3et800-86be4fb99f638f8b',\n",
       " 'https://www.glassdoor.co.in/partner/jobListing.htm?pos=110&ao=1136043&s=58&guid=0000017bdf23ad978b2f6ec0259c6a22&src=GD_JOB_AD&t=SR&vt=w&uido=A5B0040077AD94B6FAE11ADE699BD563&cs=1_661aa19b&cb=1631536263095&jobListingId=1007296242943&jrtk=2-0-1fffi7bkju4ok801-1fffi7bl9u3et800-ffacc24eba7bd52e',\n",
       " 'https://www.glassdoor.co.in/partner/jobListing.htm?pos=111&ao=1136043&s=58&guid=0000017bdf23ad978b2f6ec0259c6a22&src=GD_JOB_AD&t=SR&vt=w&uido=A5B0040077AD94B6FAE11ADE699BD563&ea=1&cs=1_7cb63b2b&cb=1631536263096&jobListingId=1007258812550&jrtk=2-0-1fffi7bkju4ok801-1fffi7bl9u3et800-223dcefd7d2a9c1c',\n",
       " 'https://www.glassdoor.co.in/partner/jobListing.htm?pos=112&ao=1136043&s=58&guid=0000017bdf23ad978b2f6ec0259c6a22&src=GD_JOB_AD&t=SR&vt=w&uido=A5B0040077AD94B6FAE11ADE699BD563&cs=1_edc2bdf4&cb=1631536263096&jobListingId=1007296526038&jrtk=2-0-1fffi7bkju4ok801-1fffi7bl9u3et800-c761f4aabf8a66ec',\n",
       " 'https://www.glassdoor.co.in/partner/jobListing.htm?pos=113&ao=1136043&s=58&guid=0000017bdf23ad978b2f6ec0259c6a22&src=GD_JOB_AD&t=SR&vt=w&uido=A5B0040077AD94B6FAE11ADE699BD563&ea=1&cs=1_ed814df8&cb=1631536263097&jobListingId=1007258785216&jrtk=2-0-1fffi7bkju4ok801-1fffi7bl9u3et800-c33fbbcb496aaf48',\n",
       " 'https://www.glassdoor.co.in/partner/jobListing.htm?pos=114&ao=1136043&s=58&guid=0000017bdf23ad978b2f6ec0259c6a22&src=GD_JOB_AD&t=SR&vt=w&uido=A5B0040077AD94B6FAE11ADE699BD563&cs=1_30ba15d0&cb=1631536263096&jobListingId=1007263481581&jrtk=2-0-1fffi7bkju4ok801-1fffi7bl9u3et800-a562bedb832641de',\n",
       " 'https://www.glassdoor.co.in/partner/jobListing.htm?pos=115&ao=1136043&s=58&guid=0000017bdf23ad978b2f6ec0259c6a22&src=GD_JOB_AD&t=SR&vt=w&uido=A5B0040077AD94B6FAE11ADE699BD563&cs=1_9da45cf2&cb=1631536263097&jobListingId=1007250538663&jrtk=2-0-1fffi7bkju4ok801-1fffi7bl9u3et800-2f1efdb319519714',\n",
       " 'https://www.glassdoor.co.in/partner/jobListing.htm?pos=116&ao=1136043&s=58&guid=0000017bdf23ad978b2f6ec0259c6a22&src=GD_JOB_AD&t=SR&vt=w&uido=A5B0040077AD94B6FAE11ADE699BD563&cs=1_38b545ef&cb=1631536263097&jobListingId=1007272692281&jrtk=2-0-1fffi7bkju4ok801-1fffi7bl9u3et800-a01370f6156b7849',\n",
       " 'https://www.glassdoor.co.in/partner/jobListing.htm?pos=117&ao=1136043&s=58&guid=0000017bdf23ad978b2f6ec0259c6a22&src=GD_JOB_AD&t=SR&vt=w&uido=A5B0040077AD94B6FAE11ADE699BD563&cs=1_4d1e21d8&cb=1631536263098&jobListingId=1007274462392&jrtk=2-0-1fffi7bkju4ok801-1fffi7bl9u3et800-929c43580cb4c7f3',\n",
       " 'https://www.glassdoor.co.in/partner/jobListing.htm?pos=118&ao=1136043&s=58&guid=0000017bdf23ad978b2f6ec0259c6a22&src=GD_JOB_AD&t=SR&vt=w&uido=A5B0040077AD94B6FAE11ADE699BD563&cs=1_d39572e0&cb=1631536263098&jobListingId=1007254949501&jrtk=2-0-1fffi7bkju4ok801-1fffi7bl9u3et800-72c4d6e0e926854c',\n",
       " 'https://www.glassdoor.co.in/partner/jobListing.htm?pos=119&ao=1136043&s=58&guid=0000017bdf23ad978b2f6ec0259c6a22&src=GD_JOB_AD&t=SR&vt=w&uido=A5B0040077AD94B6FAE11ADE699BD563&ea=1&cs=1_384bd2b9&cb=1631536263098&jobListingId=1007288925159&jrtk=2-0-1fffi7bkju4ok801-1fffi7bl9u3et800-e6cc05cbdde64ede',\n",
       " 'https://www.glassdoor.co.in/partner/jobListing.htm?pos=120&ao=1136043&s=58&guid=0000017bdf23ad978b2f6ec0259c6a22&src=GD_JOB_AD&t=SR&vt=w&uido=A5B0040077AD94B6FAE11ADE699BD563&ea=1&cs=1_68e10c16&cb=1631536263098&jobListingId=1007200389479&jrtk=2-0-1fffi7bkju4ok801-1fffi7bl9u3et800-97d4c65035600d81',\n",
       " 'https://www.glassdoor.co.in/partner/jobListing.htm?pos=121&ao=1136043&s=58&guid=0000017bdf23ad978b2f6ec0259c6a22&src=GD_JOB_AD&t=SR&vt=w&uido=A5B0040077AD94B6FAE11ADE699BD563&ea=1&cs=1_af678ffd&cb=1631536263099&jobListingId=1007254040438&jrtk=2-0-1fffi7bkju4ok801-1fffi7bl9u3et800-33fccf4677aa6cb5',\n",
       " 'https://www.glassdoor.co.in/partner/jobListing.htm?pos=122&ao=1136043&s=58&guid=0000017bdf23ad978b2f6ec0259c6a22&src=GD_JOB_AD&t=SR&vt=w&uido=A5B0040077AD94B6FAE11ADE699BD563&ea=1&cs=1_0d3c6cc9&cb=1631536263100&jobListingId=1007279924569&jrtk=2-0-1fffi7bkju4ok801-1fffi7bl9u3et800-7219646f08620851',\n",
       " 'https://www.glassdoor.co.in/partner/jobListing.htm?pos=123&ao=1136043&s=58&guid=0000017bdf23ad978b2f6ec0259c6a22&src=GD_JOB_AD&t=SR&vt=w&uido=A5B0040077AD94B6FAE11ADE699BD563&cs=1_b104172d&cb=1631536263099&jobListingId=1007245257958&jrtk=2-0-1fffi7bkju4ok801-1fffi7bl9u3et800-d0893868ee842eed',\n",
       " 'https://www.glassdoor.co.in/partner/jobListing.htm?pos=124&ao=1136043&s=58&guid=0000017bdf23ad978b2f6ec0259c6a22&src=GD_JOB_AD&t=SR&vt=w&uido=A5B0040077AD94B6FAE11ADE699BD563&cs=1_c712f16a&cb=1631536263100&jobListingId=1007279789126&jrtk=2-0-1fffi7bkju4ok801-1fffi7bl9u3et800-696539a2bd423b28',\n",
       " 'https://www.glassdoor.co.in/partner/jobListing.htm?pos=125&ao=1136043&s=58&guid=0000017bdf23ad978b2f6ec0259c6a22&src=GD_JOB_AD&t=SR&vt=w&uido=A5B0040077AD94B6FAE11ADE699BD563&cs=1_abbac277&cb=1631536263100&jobListingId=1007242689151&jrtk=2-0-1fffi7bkju4ok801-1fffi7bl9u3et800-1312cf23d6d9b860',\n",
       " 'https://www.glassdoor.co.in/partner/jobListing.htm?pos=126&ao=1136043&s=58&guid=0000017bdf23ad978b2f6ec0259c6a22&src=GD_JOB_AD&t=SR&vt=w&uido=A5B0040077AD94B6FAE11ADE699BD563&ea=1&cs=1_8857b0d5&cb=1631536263101&jobListingId=1007298453584&jrtk=2-0-1fffi7bkju4ok801-1fffi7bl9u3et800-95aff61a48f60698',\n",
       " 'https://www.glassdoor.co.in/partner/jobListing.htm?pos=127&ao=1136043&s=58&guid=0000017bdf23ad978b2f6ec0259c6a22&src=GD_JOB_AD&t=SR&vt=w&uido=A5B0040077AD94B6FAE11ADE699BD563&cs=1_8b877ebe&cb=1631536263100&jobListingId=1007296960058&jrtk=2-0-1fffi7bkju4ok801-1fffi7bl9u3et800-ddee57d382af9316',\n",
       " 'https://www.glassdoor.co.in/partner/jobListing.htm?pos=128&ao=1136043&s=58&guid=0000017bdf23ad978b2f6ec0259c6a22&src=GD_JOB_AD&t=SR&vt=w&uido=A5B0040077AD94B6FAE11ADE699BD563&cs=1_7f0b454e&cb=1631536263101&jobListingId=1007280588094&jrtk=2-0-1fffi7bkju4ok801-1fffi7bl9u3et800-1902ff648f811b79',\n",
       " 'https://www.glassdoor.co.in/partner/jobListing.htm?pos=129&ao=1136043&s=58&guid=0000017bdf23ad978b2f6ec0259c6a22&src=GD_JOB_AD&t=SR&vt=w&uido=A5B0040077AD94B6FAE11ADE699BD563&ea=1&cs=1_ef139156&cb=1631536263102&jobListingId=1007270566717&jrtk=2-0-1fffi7bkju4ok801-1fffi7bl9u3et800-375f48bcd75d1fee',\n",
       " 'https://www.glassdoor.co.in/partner/jobListing.htm?pos=130&ao=1136043&s=58&guid=0000017bdf23ad978b2f6ec0259c6a22&src=GD_JOB_AD&t=SR&vt=w&uido=A5B0040077AD94B6FAE11ADE699BD563&ea=1&cs=1_cb53680f&cb=1631536263102&jobListingId=1007235877169&jrtk=2-0-1fffi7bkju4ok801-1fffi7bl9u3et800-9161e7bf83416e9b']"
      ]
     },
     "execution_count": 35,
     "metadata": {},
     "output_type": "execute_result"
    }
   ],
   "source": [
    "url = []\n",
    "\n",
    "for i in company:\n",
    "    url.append(i.get_attribute('href'))\n",
    "    \n",
    "url"
   ]
  },
  {
   "cell_type": "code",
   "execution_count": 36,
   "metadata": {},
   "outputs": [
    {
     "data": {
      "text/plain": [
       "['3.9★',\n",
       " '4.4★',\n",
       " '4.0★',\n",
       " '3.6★',\n",
       " '3.4★',\n",
       " '--',\n",
       " '--',\n",
       " '4.8★',\n",
       " '3.8★',\n",
       " '3.9★',\n",
       " '--',\n",
       " '3.9★',\n",
       " '3.9★',\n",
       " '3.6★',\n",
       " '4.1★',\n",
       " '3.6★',\n",
       " '4.2★',\n",
       " '3.9★',\n",
       " '3.6★',\n",
       " '--',\n",
       " '--',\n",
       " '3.8★',\n",
       " '--',\n",
       " '4.0★',\n",
       " '5.0★',\n",
       " '--',\n",
       " '3.8★',\n",
       " '4.1★',\n",
       " '--',\n",
       " '--']"
      ]
     },
     "execution_count": 36,
     "metadata": {},
     "output_type": "execute_result"
    }
   ],
   "source": [
    "Rating = []\n",
    "\n",
    "for i in url:\n",
    "    driver.get(i)\n",
    "    time.sleep(2)\n",
    "    try:\n",
    "        rating = driver.find_element_by_xpath('//span[@class = \"css-1pmc6te e11nt52q4\"]')\n",
    "        Rating.append(rating.text.replace('\\n',''))\n",
    "    except:\n",
    "        \n",
    "        Rating.append('--')\n",
    "        \n",
    "    \n",
    "        \n",
    "Rating\n",
    "        "
   ]
  },
  {
   "cell_type": "code",
   "execution_count": 37,
   "metadata": {},
   "outputs": [
    {
     "data": {
      "text/plain": [
       "30"
      ]
     },
     "execution_count": 37,
     "metadata": {},
     "output_type": "execute_result"
    }
   ],
   "source": [
    "len(Rating)"
   ]
  },
  {
   "cell_type": "code",
   "execution_count": 38,
   "metadata": {},
   "outputs": [
    {
     "data": {
      "text/html": [
       "<div>\n",
       "<style scoped>\n",
       "    .dataframe tbody tr th:only-of-type {\n",
       "        vertical-align: middle;\n",
       "    }\n",
       "\n",
       "    .dataframe tbody tr th {\n",
       "        vertical-align: top;\n",
       "    }\n",
       "\n",
       "    .dataframe thead th {\n",
       "        text-align: right;\n",
       "    }\n",
       "</style>\n",
       "<table border=\"1\" class=\"dataframe\">\n",
       "  <thead>\n",
       "    <tr style=\"text-align: right;\">\n",
       "      <th></th>\n",
       "      <th>Company</th>\n",
       "      <th>Post_day</th>\n",
       "      <th>Rating</th>\n",
       "    </tr>\n",
       "  </thead>\n",
       "  <tbody>\n",
       "    <tr>\n",
       "      <th>0</th>\n",
       "      <td>Applied Materials Inc.</td>\n",
       "      <td>30d+</td>\n",
       "      <td>3.9★</td>\n",
       "    </tr>\n",
       "    <tr>\n",
       "      <th>1</th>\n",
       "      <td>Indeed</td>\n",
       "      <td>30d+</td>\n",
       "      <td>4.4★</td>\n",
       "    </tr>\n",
       "    <tr>\n",
       "      <th>2</th>\n",
       "      <td>Patient Bond India Private Limited</td>\n",
       "      <td>24h</td>\n",
       "      <td>4.0★</td>\n",
       "    </tr>\n",
       "    <tr>\n",
       "      <th>3</th>\n",
       "      <td>Lenskart</td>\n",
       "      <td>6d</td>\n",
       "      <td>3.6★</td>\n",
       "    </tr>\n",
       "    <tr>\n",
       "      <th>4</th>\n",
       "      <td>Elpis IT Solutions</td>\n",
       "      <td>6d</td>\n",
       "      <td>3.4★</td>\n",
       "    </tr>\n",
       "    <tr>\n",
       "      <th>5</th>\n",
       "      <td>Argoid</td>\n",
       "      <td>7d</td>\n",
       "      <td>--</td>\n",
       "    </tr>\n",
       "    <tr>\n",
       "      <th>6</th>\n",
       "      <td>Top Mentor</td>\n",
       "      <td>5d</td>\n",
       "      <td>--</td>\n",
       "    </tr>\n",
       "    <tr>\n",
       "      <th>7</th>\n",
       "      <td>Reach52, Inc.</td>\n",
       "      <td>10d</td>\n",
       "      <td>4.8★</td>\n",
       "    </tr>\n",
       "    <tr>\n",
       "      <th>8</th>\n",
       "      <td>Airtel India</td>\n",
       "      <td>24d</td>\n",
       "      <td>3.8★</td>\n",
       "    </tr>\n",
       "    <tr>\n",
       "      <th>9</th>\n",
       "      <td>IBM</td>\n",
       "      <td>2d</td>\n",
       "      <td>3.9★</td>\n",
       "    </tr>\n",
       "  </tbody>\n",
       "</table>\n",
       "</div>"
      ],
      "text/plain": [
       "                              Company Post_day Rating\n",
       "0              Applied Materials Inc.     30d+   3.9★\n",
       "1                              Indeed     30d+   4.4★\n",
       "2  Patient Bond India Private Limited      24h   4.0★\n",
       "3                            Lenskart       6d   3.6★\n",
       "4                  Elpis IT Solutions       6d   3.4★\n",
       "5                              Argoid       7d     --\n",
       "6                          Top Mentor       5d     --\n",
       "7                       Reach52, Inc.      10d   4.8★\n",
       "8                        Airtel India      24d   3.8★\n",
       "9                                 IBM       2d   3.9★"
      ]
     },
     "execution_count": 38,
     "metadata": {},
     "output_type": "execute_result"
    }
   ],
   "source": [
    "Jobs_Noida = pd.DataFrame({})\n",
    "\n",
    "Jobs_Noida['Company'] =Company[:10]\n",
    "Jobs_Noida['Post_day'] = Post_date[:10]\n",
    "Jobs_Noida['Rating'] =Rating[:10]\n",
    "\n",
    "Jobs_Noida"
   ]
  },
  {
   "cell_type": "code",
   "execution_count": null,
   "metadata": {},
   "outputs": [],
   "source": []
  },
  {
   "cell_type": "markdown",
   "metadata": {},
   "source": [
    "# Ques.-5"
   ]
  },
  {
   "cell_type": "markdown",
   "metadata": {},
   "source": [
    "Q5: Write a python program to scrape the salary data for Data Scientist designation \n",
    "in Noida location.\n",
    "You have to scrape Company name, Number of salaries, Average salary, Min\n",
    "salary, Max Salary."
   ]
  },
  {
   "cell_type": "code",
   "execution_count": 39,
   "metadata": {},
   "outputs": [],
   "source": [
    "driver = webdriver.Chrome('chromedriver.exe')\n",
    "\n",
    "url = 'https://www.glassdoor.co.in/Salaries/index.htm'"
   ]
  },
  {
   "cell_type": "code",
   "execution_count": 40,
   "metadata": {},
   "outputs": [],
   "source": [
    "driver.get(url)"
   ]
  },
  {
   "cell_type": "code",
   "execution_count": 41,
   "metadata": {},
   "outputs": [],
   "source": [
    "search_job = driver.find_element_by_id('KeywordSearch')\n",
    "search_loc = driver.find_element_by_id('LocationSearch')"
   ]
  },
  {
   "cell_type": "code",
   "execution_count": 42,
   "metadata": {},
   "outputs": [],
   "source": [
    "search_job.send_keys('Data Scientist')\n",
    "search_loc.send_keys('Noida')"
   ]
  },
  {
   "cell_type": "code",
   "execution_count": 47,
   "metadata": {},
   "outputs": [],
   "source": [
    "search_btn = driver.find_element_by_xpath('//button[@class = \"gd-btn-mkt\"]')\n",
    "search_btn.click()"
   ]
  },
  {
   "cell_type": "code",
   "execution_count": 49,
   "metadata": {},
   "outputs": [
    {
     "data": {
      "text/plain": [
       "['Tata Consultancy Services',\n",
       " 'IBM',\n",
       " 'Accenture',\n",
       " 'Delhivery',\n",
       " 'Ericsson-Worldwide',\n",
       " 'UnitedHealth Group',\n",
       " 'Optum',\n",
       " 'Optum Global Solutions',\n",
       " 'Valiance Solutions',\n",
       " 'EXL Service',\n",
       " 'Cognizant Technology Solutions',\n",
       " 'ZS Associates',\n",
       " 'Nagarro',\n",
       " 'Innovaccer',\n",
       " 'OYO',\n",
       " 'dunnhumby',\n",
       " 'Amazon',\n",
       " 'Fresher',\n",
       " 'CARS24.com',\n",
       " 'Vidooly Media Tech']"
      ]
     },
     "execution_count": 49,
     "metadata": {},
     "output_type": "execute_result"
    }
   ],
   "source": [
    "Company =[]\n",
    " \n",
    "name = driver.find_elements_by_xpath('//a[@class =\"css-f3vw95 e1aj7ssy3\"]')\n",
    "for i in name:\n",
    "    Company.append(i.text)\n",
    "Company"
   ]
  },
  {
   "cell_type": "code",
   "execution_count": 50,
   "metadata": {},
   "outputs": [
    {
     "data": {
      "text/plain": [
       "20"
      ]
     },
     "execution_count": 50,
     "metadata": {},
     "output_type": "execute_result"
    }
   ],
   "source": [
    "len(Company)"
   ]
  },
  {
   "cell_type": "code",
   "execution_count": 51,
   "metadata": {},
   "outputs": [
    {
     "data": {
      "text/plain": [
       "['3.9',\n",
       " '3.9',\n",
       " '4.1',\n",
       " '3.7',\n",
       " '4',\n",
       " '3.7',\n",
       " '3.7',\n",
       " '3.9',\n",
       " '4.2',\n",
       " '3.6',\n",
       " '3.8',\n",
       " '4',\n",
       " '4',\n",
       " '3.8',\n",
       " '3.3',\n",
       " '4',\n",
       " '3.8',\n",
       " '4.1',\n",
       " '4.1',\n",
       " '3.8']"
      ]
     },
     "execution_count": 51,
     "metadata": {},
     "output_type": "execute_result"
    }
   ],
   "source": [
    "Rating =[]\n",
    "\n",
    "rating = driver.find_elements_by_xpath('//span[@class=\"m-0 css-kyx745\"]')\n",
    "for i in rating:\n",
    "    Rating.append(i.text)\n",
    "    \n",
    "Rating"
   ]
  },
  {
   "cell_type": "code",
   "execution_count": 52,
   "metadata": {},
   "outputs": [
    {
     "data": {
      "text/plain": [
       "20"
      ]
     },
     "execution_count": 52,
     "metadata": {},
     "output_type": "execute_result"
    }
   ],
   "source": [
    "len(Rating)"
   ]
  },
  {
   "cell_type": "code",
   "execution_count": 53,
   "metadata": {},
   "outputs": [],
   "source": [
    "Min_salary=[]\n",
    "Max_salary=[]\n",
    "\n",
    "min_salary = driver.find_elements_by_xpath('//div[@class=\"d-flex mt-xxsm css-79elbk epuxyqn0\"]/p[1]')\n",
    "for i in min_salary:\n",
    "    Min_salary.append(i.text)\n",
    "    \n",
    "max_salary = driver.find_elements_by_xpath('//div[@class=\"d-flex mt-xxsm css-79elbk epuxyqn0\"]/p[2]')\n",
    "for i in max_salary:\n",
    "    Max_salary.append(i.text)\n",
    "    \n"
   ]
  },
  {
   "cell_type": "code",
   "execution_count": 54,
   "metadata": {},
   "outputs": [
    {
     "data": {
      "text/plain": [
       "['₹4L',\n",
       " '₹1L',\n",
       " '₹6L',\n",
       " '₹5L',\n",
       " '₹4L',\n",
       " '₹8L',\n",
       " '₹8L',\n",
       " '₹10L',\n",
       " '₹5L',\n",
       " '₹6L',\n",
       " '₹4L',\n",
       " '₹2L',\n",
       " '₹4L',\n",
       " '₹6L',\n",
       " '₹10L',\n",
       " '₹8L',\n",
       " '₹10L',\n",
       " '₹25T',\n",
       " '₹9L',\n",
       " '₹12T']"
      ]
     },
     "execution_count": 54,
     "metadata": {},
     "output_type": "execute_result"
    }
   ],
   "source": [
    "Min_salary"
   ]
  },
  {
   "cell_type": "code",
   "execution_count": 55,
   "metadata": {},
   "outputs": [
    {
     "data": {
      "text/plain": [
       "20"
      ]
     },
     "execution_count": 55,
     "metadata": {},
     "output_type": "execute_result"
    }
   ],
   "source": [
    "len(Min_salary)"
   ]
  },
  {
   "cell_type": "code",
   "execution_count": 56,
   "metadata": {},
   "outputs": [
    {
     "data": {
      "text/plain": [
       "['₹13L',\n",
       " '₹28L',\n",
       " '₹23L',\n",
       " '₹1Cr',\n",
       " '₹17L',\n",
       " '₹16L',\n",
       " '₹20L',\n",
       " '₹18L',\n",
       " '₹15L',\n",
       " '₹16L',\n",
       " '₹13L',\n",
       " '₹19L',\n",
       " '₹21L',\n",
       " '₹17L',\n",
       " '₹21L',\n",
       " '₹21L',\n",
       " '₹30L',\n",
       " '₹1L',\n",
       " '₹15L',\n",
       " '₹64T']"
      ]
     },
     "execution_count": 56,
     "metadata": {},
     "output_type": "execute_result"
    }
   ],
   "source": [
    "Max_salary"
   ]
  },
  {
   "cell_type": "code",
   "execution_count": 57,
   "metadata": {},
   "outputs": [
    {
     "data": {
      "text/plain": [
       "20"
      ]
     },
     "execution_count": 57,
     "metadata": {},
     "output_type": "execute_result"
    }
   ],
   "source": [
    "len(Max_salary)"
   ]
  },
  {
   "cell_type": "code",
   "execution_count": 58,
   "metadata": {},
   "outputs": [
    {
     "data": {
      "text/plain": [
       "['₹6,28,021',\n",
       " '₹9,08,246',\n",
       " '₹11,93,390',\n",
       " '₹12,49,716',\n",
       " '₹7,58,335',\n",
       " '₹12,80,000',\n",
       " '₹12,70,000',\n",
       " '₹14,55,430',\n",
       " '₹8,86,064',\n",
       " '₹11,10,000',\n",
       " '₹9,62,227',\n",
       " '₹11,71,868',\n",
       " '₹11,01,815',\n",
       " '₹12,40,275',\n",
       " '₹14,51,902',\n",
       " '₹11,30,374',\n",
       " '₹20,63,782',\n",
       " '₹61,566',\n",
       " '₹10,80,727',\n",
       " '₹35,040']"
      ]
     },
     "execution_count": 58,
     "metadata": {},
     "output_type": "execute_result"
    }
   ],
   "source": [
    "Avg_salary =[]\n",
    "\n",
    "avg_salary = driver.find_elements_by_xpath('//div[@class =\"col-12 col-lg-4 px-lg-0 d-flex align-items-baseline\"]/h3')\n",
    "for i in avg_salary:\n",
    "    Avg_salary.append(i.text)\n",
    "    \n",
    "Avg_salary"
   ]
  },
  {
   "cell_type": "code",
   "execution_count": 59,
   "metadata": {},
   "outputs": [
    {
     "data": {
      "text/plain": [
       "20"
      ]
     },
     "execution_count": 59,
     "metadata": {},
     "output_type": "execute_result"
    }
   ],
   "source": [
    "len(Avg_salary)"
   ]
  },
  {
   "cell_type": "code",
   "execution_count": 60,
   "metadata": {},
   "outputs": [
    {
     "data": {
      "text/html": [
       "<div>\n",
       "<style scoped>\n",
       "    .dataframe tbody tr th:only-of-type {\n",
       "        vertical-align: middle;\n",
       "    }\n",
       "\n",
       "    .dataframe tbody tr th {\n",
       "        vertical-align: top;\n",
       "    }\n",
       "\n",
       "    .dataframe thead th {\n",
       "        text-align: right;\n",
       "    }\n",
       "</style>\n",
       "<table border=\"1\" class=\"dataframe\">\n",
       "  <thead>\n",
       "    <tr style=\"text-align: right;\">\n",
       "      <th></th>\n",
       "      <th>Company</th>\n",
       "      <th>Avg_Salary</th>\n",
       "      <th>Min_salary</th>\n",
       "      <th>Max_salary</th>\n",
       "      <th>Rating</th>\n",
       "    </tr>\n",
       "  </thead>\n",
       "  <tbody>\n",
       "    <tr>\n",
       "      <th>0</th>\n",
       "      <td>Tata Consultancy Services</td>\n",
       "      <td>₹6,28,021</td>\n",
       "      <td>₹4L</td>\n",
       "      <td>₹13L</td>\n",
       "      <td>3.9</td>\n",
       "    </tr>\n",
       "    <tr>\n",
       "      <th>1</th>\n",
       "      <td>IBM</td>\n",
       "      <td>₹9,08,246</td>\n",
       "      <td>₹1L</td>\n",
       "      <td>₹28L</td>\n",
       "      <td>3.9</td>\n",
       "    </tr>\n",
       "    <tr>\n",
       "      <th>2</th>\n",
       "      <td>Accenture</td>\n",
       "      <td>₹11,93,390</td>\n",
       "      <td>₹6L</td>\n",
       "      <td>₹23L</td>\n",
       "      <td>4.1</td>\n",
       "    </tr>\n",
       "    <tr>\n",
       "      <th>3</th>\n",
       "      <td>Delhivery</td>\n",
       "      <td>₹12,49,716</td>\n",
       "      <td>₹5L</td>\n",
       "      <td>₹1Cr</td>\n",
       "      <td>3.7</td>\n",
       "    </tr>\n",
       "    <tr>\n",
       "      <th>4</th>\n",
       "      <td>Ericsson-Worldwide</td>\n",
       "      <td>₹7,58,335</td>\n",
       "      <td>₹4L</td>\n",
       "      <td>₹17L</td>\n",
       "      <td>4</td>\n",
       "    </tr>\n",
       "    <tr>\n",
       "      <th>5</th>\n",
       "      <td>UnitedHealth Group</td>\n",
       "      <td>₹12,80,000</td>\n",
       "      <td>₹8L</td>\n",
       "      <td>₹16L</td>\n",
       "      <td>3.7</td>\n",
       "    </tr>\n",
       "    <tr>\n",
       "      <th>6</th>\n",
       "      <td>Optum</td>\n",
       "      <td>₹12,70,000</td>\n",
       "      <td>₹8L</td>\n",
       "      <td>₹20L</td>\n",
       "      <td>3.7</td>\n",
       "    </tr>\n",
       "    <tr>\n",
       "      <th>7</th>\n",
       "      <td>Optum Global Solutions</td>\n",
       "      <td>₹14,55,430</td>\n",
       "      <td>₹10L</td>\n",
       "      <td>₹18L</td>\n",
       "      <td>3.9</td>\n",
       "    </tr>\n",
       "    <tr>\n",
       "      <th>8</th>\n",
       "      <td>Valiance Solutions</td>\n",
       "      <td>₹8,86,064</td>\n",
       "      <td>₹5L</td>\n",
       "      <td>₹15L</td>\n",
       "      <td>4.2</td>\n",
       "    </tr>\n",
       "    <tr>\n",
       "      <th>9</th>\n",
       "      <td>EXL Service</td>\n",
       "      <td>₹11,10,000</td>\n",
       "      <td>₹6L</td>\n",
       "      <td>₹16L</td>\n",
       "      <td>3.6</td>\n",
       "    </tr>\n",
       "  </tbody>\n",
       "</table>\n",
       "</div>"
      ],
      "text/plain": [
       "                     Company  Avg_Salary Min_salary Max_salary Rating\n",
       "0  Tata Consultancy Services   ₹6,28,021        ₹4L       ₹13L    3.9\n",
       "1                        IBM   ₹9,08,246        ₹1L       ₹28L    3.9\n",
       "2                  Accenture  ₹11,93,390        ₹6L       ₹23L    4.1\n",
       "3                  Delhivery  ₹12,49,716        ₹5L       ₹1Cr    3.7\n",
       "4         Ericsson-Worldwide   ₹7,58,335        ₹4L       ₹17L      4\n",
       "5         UnitedHealth Group  ₹12,80,000        ₹8L       ₹16L    3.7\n",
       "6                      Optum  ₹12,70,000        ₹8L       ₹20L    3.7\n",
       "7     Optum Global Solutions  ₹14,55,430       ₹10L       ₹18L    3.9\n",
       "8         Valiance Solutions   ₹8,86,064        ₹5L       ₹15L    4.2\n",
       "9                EXL Service  ₹11,10,000        ₹6L       ₹16L    3.6"
      ]
     },
     "execution_count": 60,
     "metadata": {},
     "output_type": "execute_result"
    }
   ],
   "source": [
    "Data_Scientist_salary = pd.DataFrame({})\n",
    "\n",
    "Data_Scientist_salary[\"Company\"] = Company[:10]\n",
    "Data_Scientist_salary['Avg_Salary']=Avg_salary[:10]\n",
    "Data_Scientist_salary['Min_salary']=Min_salary[:10]\n",
    "Data_Scientist_salary['Max_salary']=Max_salary[:10]\n",
    "Data_Scientist_salary['Rating'] = Rating[:10]\n",
    "\n",
    "Data_Scientist_salary"
   ]
  },
  {
   "cell_type": "code",
   "execution_count": null,
   "metadata": {},
   "outputs": [],
   "source": []
  },
  {
   "cell_type": "code",
   "execution_count": null,
   "metadata": {},
   "outputs": [],
   "source": []
  },
  {
   "cell_type": "markdown",
   "metadata": {},
   "source": [
    "Q6 : Scrape data of first 100 sunglasses listings on flipkart.com. You have to \n",
    "scrape four attributes:\n",
    "1. Brand\n",
    "2. Product Description\n",
    "3. Price\n",
    "4. Discount %"
   ]
  },
  {
   "cell_type": "code",
   "execution_count": 72,
   "metadata": {},
   "outputs": [],
   "source": [
    "driver = webdriver.Chrome('chromedriver.exe')"
   ]
  },
  {
   "cell_type": "code",
   "execution_count": 73,
   "metadata": {},
   "outputs": [],
   "source": [
    "url = 'https://www.flipkart.com/'\n",
    "driver.get(url)"
   ]
  },
  {
   "cell_type": "code",
   "execution_count": 74,
   "metadata": {},
   "outputs": [],
   "source": [
    "product_search = driver.find_element_by_xpath('//input[@class = \"_3704LK\"]')"
   ]
  },
  {
   "cell_type": "code",
   "execution_count": 75,
   "metadata": {},
   "outputs": [],
   "source": [
    "click_btn = driver.find_element_by_xpath('//button[@class = \"L0Z3Pu\"]')"
   ]
  },
  {
   "cell_type": "code",
   "execution_count": 76,
   "metadata": {},
   "outputs": [],
   "source": [
    "product_search.send_keys('sunglasses')\n",
    "click_btn.click()"
   ]
  },
  {
   "cell_type": "code",
   "execution_count": 77,
   "metadata": {},
   "outputs": [],
   "source": [
    "nxt_pg = driver.find_element_by_xpath('//a[@class=\"_1LKTO3\"]')"
   ]
  },
  {
   "cell_type": "code",
   "execution_count": 83,
   "metadata": {},
   "outputs": [],
   "source": [
    "page1=driver.find_elements_by_xpath('//a[@class=\"ge-49M _2Kfbh8\"]')\n",
    "\n",
    "URl= driver.find_elements_by_xpath('//a[@class=\"ge-49M\"]')"
   ]
  },
  {
   "cell_type": "code",
   "execution_count": 105,
   "metadata": {},
   "outputs": [],
   "source": [
    "urls=[]\n",
    "for i in page1:\n",
    "    urls.append(i.get_attribute('href'))\n",
    "urls\n",
    "\n",
    "for i in URl[0:2]:\n",
    "    urls.append(i.get_attribute('href'))"
   ]
  },
  {
   "cell_type": "code",
   "execution_count": 121,
   "metadata": {},
   "outputs": [],
   "source": [
    "Brand_name=[]\n",
    "Price=[]\n",
    "Discount=[]\n",
    "\n",
    "for i in urls:\n",
    "    try:\n",
    "        Brand=driver.find_elements_by_xpath('//div[@class=\"_2WkVRV\"]')\n",
    "        for i in Brand:\n",
    "            Brand_name.append(i.text)\n",
    "    except:\n",
    "        Brand_name.append('--')\n",
    "    \n",
    "    \n",
    "            \n",
    "    try:\n",
    "        price=driver.find_elements_by_xpath('//div[@class=\"_30jeq3\"]')\n",
    "        for i in price:\n",
    "            Price.append(i.text)\n",
    "    \n",
    "    except:\n",
    "        Price.append('--')\n",
    "   \n",
    "    try:\n",
    "        \n",
    "        discount=driver.find_elements_by_xpath('//div[@class=\"_3Ay6Sb\"]')\n",
    "        for i in discount:\n",
    "            Discount.append(i.text)\n",
    "    except:\n",
    "        Discount.append('--')\n",
    "        "
   ]
  },
  {
   "cell_type": "code",
   "execution_count": 122,
   "metadata": {},
   "outputs": [
    {
     "data": {
      "text/plain": [
       "120"
      ]
     },
     "execution_count": 122,
     "metadata": {},
     "output_type": "execute_result"
    }
   ],
   "source": [
    "len(Brand_name)"
   ]
  },
  {
   "cell_type": "code",
   "execution_count": 123,
   "metadata": {},
   "outputs": [
    {
     "data": {
      "text/plain": [
       "120"
      ]
     },
     "execution_count": 123,
     "metadata": {},
     "output_type": "execute_result"
    }
   ],
   "source": [
    "len(Price)"
   ]
  },
  {
   "cell_type": "code",
   "execution_count": 124,
   "metadata": {},
   "outputs": [
    {
     "data": {
      "text/plain": [
       "120"
      ]
     },
     "execution_count": 124,
     "metadata": {},
     "output_type": "execute_result"
    }
   ],
   "source": [
    "len(Discount)"
   ]
  },
  {
   "cell_type": "code",
   "execution_count": null,
   "metadata": {},
   "outputs": [],
   "source": []
  },
  {
   "cell_type": "code",
   "execution_count": 125,
   "metadata": {},
   "outputs": [],
   "source": [
    "Product_Description = []\n",
    "\n",
    "for i in url:\n",
    "    \n",
    "    try:\n",
    "        Product_Desc=driver.find_elements_by_xpath('//a[@class=\"IRpwTa\"]')\n",
    "        for i in Product_Desc:\n",
    "            Product_Description.append(i.text)\n",
    "        \n",
    "    except:\n",
    "        Product_Description.append('--')\n",
    "\n",
    "\n",
    "        \n"
   ]
  },
  {
   "cell_type": "code",
   "execution_count": 126,
   "metadata": {
    "scrolled": true
   },
   "outputs": [
    {
     "data": {
      "text/html": [
       "<div>\n",
       "<style scoped>\n",
       "    .dataframe tbody tr th:only-of-type {\n",
       "        vertical-align: middle;\n",
       "    }\n",
       "\n",
       "    .dataframe tbody tr th {\n",
       "        vertical-align: top;\n",
       "    }\n",
       "\n",
       "    .dataframe thead th {\n",
       "        text-align: right;\n",
       "    }\n",
       "</style>\n",
       "<table border=\"1\" class=\"dataframe\">\n",
       "  <thead>\n",
       "    <tr style=\"text-align: right;\">\n",
       "      <th></th>\n",
       "      <th>Brand_name</th>\n",
       "      <th>Product_Description</th>\n",
       "      <th>Price</th>\n",
       "      <th>Discount</th>\n",
       "    </tr>\n",
       "  </thead>\n",
       "  <tbody>\n",
       "    <tr>\n",
       "      <th>0</th>\n",
       "      <td>I Flash</td>\n",
       "      <td>UV Protection, Polarized, Mirrored Rectangular...</td>\n",
       "      <td>₹137</td>\n",
       "      <td>86% off</td>\n",
       "    </tr>\n",
       "    <tr>\n",
       "      <th>1</th>\n",
       "      <td>I Flash</td>\n",
       "      <td>UV Protection Round Sunglasses (54)</td>\n",
       "      <td>₹132</td>\n",
       "      <td>86% off</td>\n",
       "    </tr>\n",
       "    <tr>\n",
       "      <th>2</th>\n",
       "      <td>SHAAH COLLECTIONS</td>\n",
       "      <td>Mirrored, UV Protection Wayfarer Sunglasses (F...</td>\n",
       "      <td>₹198</td>\n",
       "      <td>88% off</td>\n",
       "    </tr>\n",
       "    <tr>\n",
       "      <th>3</th>\n",
       "      <td>Elligator</td>\n",
       "      <td>UV Protection, Gradient Rectangular Sunglasses...</td>\n",
       "      <td>₹295</td>\n",
       "      <td>88% off</td>\n",
       "    </tr>\n",
       "    <tr>\n",
       "      <th>4</th>\n",
       "      <td>kingsunglasses</td>\n",
       "      <td>UV Protection Aviator Sunglasses (54)</td>\n",
       "      <td>₹284</td>\n",
       "      <td>89% off</td>\n",
       "    </tr>\n",
       "    <tr>\n",
       "      <th>...</th>\n",
       "      <td>...</td>\n",
       "      <td>...</td>\n",
       "      <td>...</td>\n",
       "      <td>...</td>\n",
       "    </tr>\n",
       "    <tr>\n",
       "      <th>95</th>\n",
       "      <td>I Flash</td>\n",
       "      <td>Mirrored, UV Protection Wayfarer Sunglasses (F...</td>\n",
       "      <td>₹198</td>\n",
       "      <td>83% off</td>\n",
       "    </tr>\n",
       "    <tr>\n",
       "      <th>96</th>\n",
       "      <td>PIRASO</td>\n",
       "      <td>UV Protection, Gradient Rectangular Sunglasses...</td>\n",
       "      <td>₹237</td>\n",
       "      <td>85% off</td>\n",
       "    </tr>\n",
       "    <tr>\n",
       "      <th>97</th>\n",
       "      <td>Fastrack</td>\n",
       "      <td>UV Protection Aviator Sunglasses (54)</td>\n",
       "      <td>₹520</td>\n",
       "      <td>34% off</td>\n",
       "    </tr>\n",
       "    <tr>\n",
       "      <th>98</th>\n",
       "      <td>SUNBEE</td>\n",
       "      <td>UV Protection Round Sunglasses (54)</td>\n",
       "      <td>₹265</td>\n",
       "      <td>73% off</td>\n",
       "    </tr>\n",
       "    <tr>\n",
       "      <th>99</th>\n",
       "      <td>ARICKS</td>\n",
       "      <td>Gradient, UV Protection Wayfarer Sunglasses (F...</td>\n",
       "      <td>₹332</td>\n",
       "      <td>83% off</td>\n",
       "    </tr>\n",
       "  </tbody>\n",
       "</table>\n",
       "<p>100 rows × 4 columns</p>\n",
       "</div>"
      ],
      "text/plain": [
       "           Brand_name                                Product_Description  \\\n",
       "0             I Flash  UV Protection, Polarized, Mirrored Rectangular...   \n",
       "1             I Flash                UV Protection Round Sunglasses (54)   \n",
       "2   SHAAH COLLECTIONS  Mirrored, UV Protection Wayfarer Sunglasses (F...   \n",
       "3           Elligator  UV Protection, Gradient Rectangular Sunglasses...   \n",
       "4      kingsunglasses              UV Protection Aviator Sunglasses (54)   \n",
       "..                ...                                                ...   \n",
       "95            I Flash  Mirrored, UV Protection Wayfarer Sunglasses (F...   \n",
       "96             PIRASO  UV Protection, Gradient Rectangular Sunglasses...   \n",
       "97           Fastrack              UV Protection Aviator Sunglasses (54)   \n",
       "98             SUNBEE                UV Protection Round Sunglasses (54)   \n",
       "99             ARICKS  Gradient, UV Protection Wayfarer Sunglasses (F...   \n",
       "\n",
       "   Price Discount  \n",
       "0   ₹137  86% off  \n",
       "1   ₹132  86% off  \n",
       "2   ₹198  88% off  \n",
       "3   ₹295  88% off  \n",
       "4   ₹284  89% off  \n",
       "..   ...      ...  \n",
       "95  ₹198  83% off  \n",
       "96  ₹237  85% off  \n",
       "97  ₹520  34% off  \n",
       "98  ₹265  73% off  \n",
       "99  ₹332  83% off  \n",
       "\n",
       "[100 rows x 4 columns]"
      ]
     },
     "execution_count": 126,
     "metadata": {},
     "output_type": "execute_result"
    }
   ],
   "source": [
    "SunGlass=pd.DataFrame({})\n",
    "SunGlass['Brand_name']=Brand_name[0:100]\n",
    "SunGlass['Product_Description']=Product_Description[0:100]\n",
    "SunGlass['Price']= Price[0:100]\n",
    "SunGlass['Discount']=Discount[0:100]\n",
    "SunGlass"
   ]
  },
  {
   "cell_type": "code",
   "execution_count": null,
   "metadata": {},
   "outputs": [],
   "source": []
  },
  {
   "cell_type": "markdown",
   "metadata": {},
   "source": [
    "# Question-7"
   ]
  },
  {
   "cell_type": "markdown",
   "metadata": {},
   "source": [
    "Q7: Scrape 100 reviews data from flipkart.com for iphone11 phone. You have to go the link: https://www.flipkart.com/apple-iphone-11-black-64-gb-includes-earpods-power-adapter/p/itm0f37c2240b217?pid=MOBFKCTSVZAXUHGR&lid=LSTMOBFKCTSVZAXUHGREPBFGI&marketplace."
   ]
  },
  {
   "cell_type": "code",
   "execution_count": 178,
   "metadata": {},
   "outputs": [],
   "source": [
    "driver = webdriver.Chrome('chromedriver.exe')\n",
    "url= \"https://www.flipkart.com/apple-iphone-11-black-64-gb-includes-earpods-power-adapter/p/itm0f37c2240b217?pid=MOBFKCTSVZAXUHGR&lid=LSTMOBFKCTSVZAXUHGREPBFGI&marketplace\"\n",
    "driver.get(url)"
   ]
  },
  {
   "cell_type": "code",
   "execution_count": 180,
   "metadata": {},
   "outputs": [],
   "source": [
    "all_reviews = driver.find_element_by_xpath('//div[@class=\"_3UAT2v _16PBlm\"]/span')\n",
    "all_reviews.click()"
   ]
  },
  {
   "cell_type": "code",
   "execution_count": 186,
   "metadata": {},
   "outputs": [],
   "source": [
    "page1=driver.find_elements_by_xpath('//a[@class=\"ge-49M _2Kfbh8\"]')\n",
    "\n",
    "URl= driver.find_elements_by_xpath('//a[@class=\"ge-49M\"]')"
   ]
  },
  {
   "cell_type": "code",
   "execution_count": 187,
   "metadata": {},
   "outputs": [],
   "source": [
    "urls=[]\n",
    "for i in page1:\n",
    "    urls.append(i.get_attribute('href'))\n",
    "urls\n",
    "\n",
    "for i in URl:\n",
    "    urls.append(i.get_attribute('href'))"
   ]
  },
  {
   "cell_type": "code",
   "execution_count": 188,
   "metadata": {},
   "outputs": [
    {
     "data": {
      "text/plain": [
       "['https://www.flipkart.com/apple-iphone-11-black-64-gb-includes-earpods-power-adapter/product-reviews/itm0f37c2240b217?pid=MOBFKCTSVZAXUHGR&lid=LSTMOBFKCTSVZAXUHGREPBFGI&marketplace=FLIPKART&page=1',\n",
       " 'https://www.flipkart.com/apple-iphone-11-black-64-gb-includes-earpods-power-adapter/product-reviews/itm0f37c2240b217?pid=MOBFKCTSVZAXUHGR&lid=LSTMOBFKCTSVZAXUHGREPBFGI&marketplace=FLIPKART&page=2',\n",
       " 'https://www.flipkart.com/apple-iphone-11-black-64-gb-includes-earpods-power-adapter/product-reviews/itm0f37c2240b217?pid=MOBFKCTSVZAXUHGR&lid=LSTMOBFKCTSVZAXUHGREPBFGI&marketplace=FLIPKART&page=3',\n",
       " 'https://www.flipkart.com/apple-iphone-11-black-64-gb-includes-earpods-power-adapter/product-reviews/itm0f37c2240b217?pid=MOBFKCTSVZAXUHGR&lid=LSTMOBFKCTSVZAXUHGREPBFGI&marketplace=FLIPKART&page=4',\n",
       " 'https://www.flipkart.com/apple-iphone-11-black-64-gb-includes-earpods-power-adapter/product-reviews/itm0f37c2240b217?pid=MOBFKCTSVZAXUHGR&lid=LSTMOBFKCTSVZAXUHGREPBFGI&marketplace=FLIPKART&page=5',\n",
       " 'https://www.flipkart.com/apple-iphone-11-black-64-gb-includes-earpods-power-adapter/product-reviews/itm0f37c2240b217?pid=MOBFKCTSVZAXUHGR&lid=LSTMOBFKCTSVZAXUHGREPBFGI&marketplace=FLIPKART&page=6',\n",
       " 'https://www.flipkart.com/apple-iphone-11-black-64-gb-includes-earpods-power-adapter/product-reviews/itm0f37c2240b217?pid=MOBFKCTSVZAXUHGR&lid=LSTMOBFKCTSVZAXUHGREPBFGI&marketplace=FLIPKART&page=7',\n",
       " 'https://www.flipkart.com/apple-iphone-11-black-64-gb-includes-earpods-power-adapter/product-reviews/itm0f37c2240b217?pid=MOBFKCTSVZAXUHGR&lid=LSTMOBFKCTSVZAXUHGREPBFGI&marketplace=FLIPKART&page=8',\n",
       " 'https://www.flipkart.com/apple-iphone-11-black-64-gb-includes-earpods-power-adapter/product-reviews/itm0f37c2240b217?pid=MOBFKCTSVZAXUHGR&lid=LSTMOBFKCTSVZAXUHGREPBFGI&marketplace=FLIPKART&page=9',\n",
       " 'https://www.flipkart.com/apple-iphone-11-black-64-gb-includes-earpods-power-adapter/product-reviews/itm0f37c2240b217?pid=MOBFKCTSVZAXUHGR&lid=LSTMOBFKCTSVZAXUHGREPBFGI&marketplace=FLIPKART&page=10']"
      ]
     },
     "execution_count": 188,
     "metadata": {},
     "output_type": "execute_result"
    }
   ],
   "source": [
    "urls"
   ]
  },
  {
   "cell_type": "code",
   "execution_count": null,
   "metadata": {},
   "outputs": [],
   "source": []
  },
  {
   "cell_type": "code",
   "execution_count": 189,
   "metadata": {},
   "outputs": [],
   "source": [
    "Rating=[]\n",
    "Review_summary=[]\n",
    "Full_review=[]\n",
    "\n",
    "for i in urls:\n",
    "    \n",
    "    Ratings=driver.find_elements_by_xpath('//div[@class=\"_3LWZlK _1BLPMq\"]')\n",
    "    \n",
    "    for i in Ratings:\n",
    "        Rating.append(i.text)\n",
    "        \n",
    "    review_summary=driver.find_elements_by_xpath('//p[@class=\"_2-N8zT\"]')\n",
    "    \n",
    "    for i in review_summary:\n",
    "        Review_summary.append(i.text)\n",
    "        \n",
    "    full_review=driver.find_elements_by_xpath('//div[@class=\"t-ZTKy\"]')\n",
    "    \n",
    "    for i in full_review:\n",
    "        Full_review.append(i.text)"
   ]
  },
  {
   "cell_type": "code",
   "execution_count": 190,
   "metadata": {},
   "outputs": [
    {
     "data": {
      "text/html": [
       "<div>\n",
       "<style scoped>\n",
       "    .dataframe tbody tr th:only-of-type {\n",
       "        vertical-align: middle;\n",
       "    }\n",
       "\n",
       "    .dataframe tbody tr th {\n",
       "        vertical-align: top;\n",
       "    }\n",
       "\n",
       "    .dataframe thead th {\n",
       "        text-align: right;\n",
       "    }\n",
       "</style>\n",
       "<table border=\"1\" class=\"dataframe\">\n",
       "  <thead>\n",
       "    <tr style=\"text-align: right;\">\n",
       "      <th></th>\n",
       "      <th>Rating</th>\n",
       "      <th>Review_summary</th>\n",
       "      <th>Full_review</th>\n",
       "    </tr>\n",
       "  </thead>\n",
       "  <tbody>\n",
       "    <tr>\n",
       "      <th>0</th>\n",
       "      <td>5</td>\n",
       "      <td>Brilliant</td>\n",
       "      <td>The Best Phone for the Money\\n\\nThe iPhone 11 ...</td>\n",
       "    </tr>\n",
       "    <tr>\n",
       "      <th>1</th>\n",
       "      <td>5</td>\n",
       "      <td>Simply awesome</td>\n",
       "      <td>Really satisfied with the Product I received.....</td>\n",
       "    </tr>\n",
       "    <tr>\n",
       "      <th>2</th>\n",
       "      <td>5</td>\n",
       "      <td>Best in the market!</td>\n",
       "      <td>Great iPhone very snappy experience as apple k...</td>\n",
       "    </tr>\n",
       "    <tr>\n",
       "      <th>3</th>\n",
       "      <td>5</td>\n",
       "      <td>Perfect product!</td>\n",
       "      <td>Amazing phone with great cameras and better ba...</td>\n",
       "    </tr>\n",
       "    <tr>\n",
       "      <th>4</th>\n",
       "      <td>5</td>\n",
       "      <td>Fabulous!</td>\n",
       "      <td>This is my first iOS phone. I am very happy wi...</td>\n",
       "    </tr>\n",
       "    <tr>\n",
       "      <th>...</th>\n",
       "      <td>...</td>\n",
       "      <td>...</td>\n",
       "      <td>...</td>\n",
       "    </tr>\n",
       "    <tr>\n",
       "      <th>95</th>\n",
       "      <td>5</td>\n",
       "      <td>Worth every penny</td>\n",
       "      <td>Previously I was using one plus 3t it was a gr...</td>\n",
       "    </tr>\n",
       "    <tr>\n",
       "      <th>96</th>\n",
       "      <td>5</td>\n",
       "      <td>Great product</td>\n",
       "      <td>Amazing Powerful and Durable Gadget.\\n\\nI’m am...</td>\n",
       "    </tr>\n",
       "    <tr>\n",
       "      <th>97</th>\n",
       "      <td>4</td>\n",
       "      <td>Good choice</td>\n",
       "      <td>So far it’s been an AMAZING experience coming ...</td>\n",
       "    </tr>\n",
       "    <tr>\n",
       "      <th>98</th>\n",
       "      <td>5</td>\n",
       "      <td>Worth every penny</td>\n",
       "      <td>i11 is worthy to buy, too much happy with the ...</td>\n",
       "    </tr>\n",
       "    <tr>\n",
       "      <th>99</th>\n",
       "      <td>5</td>\n",
       "      <td>Highly recommended</td>\n",
       "      <td>iphone 11 is a very good phone to buy only if ...</td>\n",
       "    </tr>\n",
       "  </tbody>\n",
       "</table>\n",
       "<p>100 rows × 3 columns</p>\n",
       "</div>"
      ],
      "text/plain": [
       "   Rating       Review_summary  \\\n",
       "0       5            Brilliant   \n",
       "1       5       Simply awesome   \n",
       "2       5  Best in the market!   \n",
       "3       5     Perfect product!   \n",
       "4       5            Fabulous!   \n",
       "..    ...                  ...   \n",
       "95      5    Worth every penny   \n",
       "96      5        Great product   \n",
       "97      4          Good choice   \n",
       "98      5    Worth every penny   \n",
       "99      5   Highly recommended   \n",
       "\n",
       "                                          Full_review  \n",
       "0   The Best Phone for the Money\\n\\nThe iPhone 11 ...  \n",
       "1   Really satisfied with the Product I received.....  \n",
       "2   Great iPhone very snappy experience as apple k...  \n",
       "3   Amazing phone with great cameras and better ba...  \n",
       "4   This is my first iOS phone. I am very happy wi...  \n",
       "..                                                ...  \n",
       "95  Previously I was using one plus 3t it was a gr...  \n",
       "96  Amazing Powerful and Durable Gadget.\\n\\nI’m am...  \n",
       "97  So far it’s been an AMAZING experience coming ...  \n",
       "98  i11 is worthy to buy, too much happy with the ...  \n",
       "99  iphone 11 is a very good phone to buy only if ...  \n",
       "\n",
       "[100 rows x 3 columns]"
      ]
     },
     "execution_count": 190,
     "metadata": {},
     "output_type": "execute_result"
    }
   ],
   "source": [
    "Phone_rating=pd.DataFrame({})\n",
    "Phone_rating['Rating']=Rating\n",
    "Phone_rating['Review_summary']=Review_summary\n",
    "Phone_rating['Full_review']= Full_review\n",
    "Phone_rating"
   ]
  },
  {
   "cell_type": "code",
   "execution_count": null,
   "metadata": {},
   "outputs": [],
   "source": []
  },
  {
   "cell_type": "code",
   "execution_count": null,
   "metadata": {},
   "outputs": [],
   "source": []
  },
  {
   "cell_type": "markdown",
   "metadata": {},
   "source": [
    "# Question-8"
   ]
  },
  {
   "cell_type": "markdown",
   "metadata": {},
   "source": [
    "Q8: Scrape data for first 100 sneakers you find when you visit flipkart.com and search for “sneakers” in the search field. You have to scrape 4 attributes of each sneaker :\n",
    "\n",
    "1.Brand\n",
    "\n",
    "2.Product Description\n",
    "\n",
    "3.Price\n",
    "\n",
    "4.discount %"
   ]
  },
  {
   "cell_type": "code",
   "execution_count": 206,
   "metadata": {},
   "outputs": [],
   "source": [
    "Driver=webdriver.Chrome(\"chromedriver.exe\")\n",
    "url=\"https://www.flipkart.com/\" \n",
    "Driver.get(url)"
   ]
  },
  {
   "cell_type": "code",
   "execution_count": 208,
   "metadata": {},
   "outputs": [],
   "source": [
    "search_product= Driver.find_element_by_xpath('//input[@class=\"_3704LK\"]')\n",
    "search_product.send_keys(\"sneakers\")\n",
    "\n",
    "search_btn=Driver.find_element_by_xpath('//button[@class=\"L0Z3Pu\"]')\n",
    "search_btn.click()"
   ]
  },
  {
   "cell_type": "code",
   "execution_count": 209,
   "metadata": {},
   "outputs": [],
   "source": [
    "page1=Driver.find_elements_by_xpath('//a[@class=\"ge-49M _2Kfbh8\"]')\n",
    "\n",
    "URl= Driver.find_elements_by_xpath('//a[@class=\"ge-49M\"]')"
   ]
  },
  {
   "cell_type": "code",
   "execution_count": 210,
   "metadata": {},
   "outputs": [],
   "source": [
    "urls=[]\n",
    "for i in page1:\n",
    "    urls.append(i.get_attribute('href'))\n",
    "urls\n",
    "\n",
    "for i in URl[0:2]:\n",
    "    urls.append(i.get_attribute('href'))"
   ]
  },
  {
   "cell_type": "code",
   "execution_count": 213,
   "metadata": {},
   "outputs": [],
   "source": [
    "Brand_name=[]\n",
    "Product_Description=[]\n",
    "Price=[]\n",
    "Discount=[]\n",
    "\n",
    "for i in urls:\n",
    "    \n",
    "    \n",
    "    Brand=Driver.find_elements_by_xpath('//div[@class=\"_2WkVRV\"]')\n",
    "    for i in Brand:\n",
    "        Brand_name.append(i.text)      \n",
    "    \n",
    "        \n",
    "    Product_Desc=Driver.find_elements_by_xpath('//a[@class=\"IRpwTa\"]')\n",
    "    for i in Product_Desc:\n",
    "        Product_Description.append(i.text)\n",
    "    \n",
    "    price=Driver.find_elements_by_xpath('//div[@class=\"_30jeq3\"]')   \n",
    "    for i in price:\n",
    "        Price.append(i.text)\n",
    "            \n",
    "    \n",
    "    discount=Driver.find_elements_by_xpath('//div[@class=\"_3Ay6Sb\"]')\n",
    "    for i in discount:\n",
    "        Discount.append(i.text)"
   ]
  },
  {
   "cell_type": "code",
   "execution_count": 199,
   "metadata": {},
   "outputs": [
    {
     "data": {
      "text/html": [
       "<div>\n",
       "<style scoped>\n",
       "    .dataframe tbody tr th:only-of-type {\n",
       "        vertical-align: middle;\n",
       "    }\n",
       "\n",
       "    .dataframe tbody tr th {\n",
       "        vertical-align: top;\n",
       "    }\n",
       "\n",
       "    .dataframe thead th {\n",
       "        text-align: right;\n",
       "    }\n",
       "</style>\n",
       "<table border=\"1\" class=\"dataframe\">\n",
       "  <thead>\n",
       "    <tr style=\"text-align: right;\">\n",
       "      <th></th>\n",
       "      <th>Brand_name</th>\n",
       "      <th>Product_Description</th>\n",
       "      <th>Price</th>\n",
       "      <th>Discount</th>\n",
       "    </tr>\n",
       "  </thead>\n",
       "  <tbody>\n",
       "    <tr>\n",
       "      <th>0</th>\n",
       "      <td>Magnolia</td>\n",
       "      <td>Sneakers For Men</td>\n",
       "      <td>₹356</td>\n",
       "      <td>64% off</td>\n",
       "    </tr>\n",
       "    <tr>\n",
       "      <th>1</th>\n",
       "      <td>BRUTON</td>\n",
       "      <td>Combo Pack Of 4 Casual Shoes Loafer Shoes Snea...</td>\n",
       "      <td>₹474</td>\n",
       "      <td>86% off</td>\n",
       "    </tr>\n",
       "    <tr>\n",
       "      <th>2</th>\n",
       "      <td>Longwalk</td>\n",
       "      <td>Men Boxer Sneakers For Men</td>\n",
       "      <td>₹236</td>\n",
       "      <td>52% off</td>\n",
       "    </tr>\n",
       "    <tr>\n",
       "      <th>3</th>\n",
       "      <td>DUCATI</td>\n",
       "      <td>Sneakers For Men</td>\n",
       "      <td>₹1,499</td>\n",
       "      <td>59% off</td>\n",
       "    </tr>\n",
       "    <tr>\n",
       "      <th>4</th>\n",
       "      <td>ASTEROID</td>\n",
       "      <td>Original Luxury Branded Fashionable Men's Casu...</td>\n",
       "      <td>₹499</td>\n",
       "      <td>75% off</td>\n",
       "    </tr>\n",
       "    <tr>\n",
       "      <th>...</th>\n",
       "      <td>...</td>\n",
       "      <td>...</td>\n",
       "      <td>...</td>\n",
       "      <td>...</td>\n",
       "    </tr>\n",
       "    <tr>\n",
       "      <th>95</th>\n",
       "      <td>India hub</td>\n",
       "      <td>Luxury Fashionable Breathable Casual Sneakers ...</td>\n",
       "      <td>₹399</td>\n",
       "      <td>80% off</td>\n",
       "    </tr>\n",
       "    <tr>\n",
       "      <th>96</th>\n",
       "      <td>Shoes Bank</td>\n",
       "      <td>Raptor Sneakers For Men</td>\n",
       "      <td>₹349</td>\n",
       "      <td>65% off</td>\n",
       "    </tr>\n",
       "    <tr>\n",
       "      <th>97</th>\n",
       "      <td>Numenzo</td>\n",
       "      <td>Casual shoes,Sneakers for men's,shoes for men'...</td>\n",
       "      <td>₹449</td>\n",
       "      <td>65% off</td>\n",
       "    </tr>\n",
       "    <tr>\n",
       "      <th>98</th>\n",
       "      <td>World Wear Footwear</td>\n",
       "      <td>Sneakers For Men</td>\n",
       "      <td>₹240</td>\n",
       "      <td>51% off</td>\n",
       "    </tr>\n",
       "    <tr>\n",
       "      <th>99</th>\n",
       "      <td>ALICON</td>\n",
       "      <td>Fashion Outdoor Canvas Casual Light Weight Lac...</td>\n",
       "      <td>₹472</td>\n",
       "      <td>68% off</td>\n",
       "    </tr>\n",
       "  </tbody>\n",
       "</table>\n",
       "<p>100 rows × 4 columns</p>\n",
       "</div>"
      ],
      "text/plain": [
       "             Brand_name                                Product_Description  \\\n",
       "0              Magnolia                                   Sneakers For Men   \n",
       "1                BRUTON  Combo Pack Of 4 Casual Shoes Loafer Shoes Snea...   \n",
       "2              Longwalk                         Men Boxer Sneakers For Men   \n",
       "3                DUCATI                                   Sneakers For Men   \n",
       "4              ASTEROID  Original Luxury Branded Fashionable Men's Casu...   \n",
       "..                  ...                                                ...   \n",
       "95            India hub  Luxury Fashionable Breathable Casual Sneakers ...   \n",
       "96           Shoes Bank                            Raptor Sneakers For Men   \n",
       "97              Numenzo  Casual shoes,Sneakers for men's,shoes for men'...   \n",
       "98  World Wear Footwear                                   Sneakers For Men   \n",
       "99               ALICON  Fashion Outdoor Canvas Casual Light Weight Lac...   \n",
       "\n",
       "     Price Discount  \n",
       "0     ₹356  64% off  \n",
       "1     ₹474  86% off  \n",
       "2     ₹236  52% off  \n",
       "3   ₹1,499  59% off  \n",
       "4     ₹499  75% off  \n",
       "..     ...      ...  \n",
       "95    ₹399  80% off  \n",
       "96    ₹349  65% off  \n",
       "97    ₹449  65% off  \n",
       "98    ₹240  51% off  \n",
       "99    ₹472  68% off  \n",
       "\n",
       "[100 rows x 4 columns]"
      ]
     },
     "execution_count": 199,
     "metadata": {},
     "output_type": "execute_result"
    }
   ],
   "source": [
    "Shoes=pd.DataFrame({})\n",
    "Shoes['Brand_name']=Brand_name[0:100]\n",
    "Shoes['Product_Description']=Product_Description[0:100]\n",
    "Shoes['Price']= Price[0:100]\n",
    "Shoes['Discount']=Discount[0:100]\n",
    "Shoes"
   ]
  },
  {
   "cell_type": "code",
   "execution_count": null,
   "metadata": {},
   "outputs": [],
   "source": []
  },
  {
   "cell_type": "markdown",
   "metadata": {},
   "source": [
    "# Question-9"
   ]
  },
  {
   "cell_type": "markdown",
   "metadata": {},
   "source": [
    "Q9: Go to the link - https://www.myntra.com/shoes Set Price filter to “Rs. 6649 to Rs. 13099” , Color filter to “Black”, as shown in the below image . And then scrape First 100 shoes data you get. The data should include “Brand” of the shoes , Short Shoe description, price of the shoe as shown in the below image. Please"
   ]
  },
  {
   "cell_type": "code",
   "execution_count": 200,
   "metadata": {},
   "outputs": [],
   "source": [
    "driver= webdriver.Chrome(\"chromedriver.exe\")\n",
    "url=\"https://www.myntra.com/shoes\" \n",
    "driver.get(url)"
   ]
  },
  {
   "cell_type": "code",
   "execution_count": 201,
   "metadata": {},
   "outputs": [
    {
     "data": {
      "text/plain": [
       "<selenium.webdriver.remote.webelement.WebElement (session=\"5bd19e95d3890b2fcaabd6e69a518178\", element=\"c1d9bad1-39b5-4d09-a3ba-952135410b8b\")>"
      ]
     },
     "execution_count": 201,
     "metadata": {},
     "output_type": "execute_result"
    }
   ],
   "source": [
    "Price_range=driver.find_element_by_xpath('//input[@class=\"price-input\" and @value=\"6897.0 TO 13595.0\"]')\n",
    "Price_range"
   ]
  },
  {
   "cell_type": "markdown",
   "metadata": {},
   "source": [
    "I manually filter the price as it was  not working "
   ]
  },
  {
   "cell_type": "code",
   "execution_count": 202,
   "metadata": {},
   "outputs": [],
   "source": [
    "color_range=driver.find_element_by_xpath('//span[@data-colorhex=\"black\"]')\n",
    "color_range.click()"
   ]
  },
  {
   "cell_type": "code",
   "execution_count": 203,
   "metadata": {},
   "outputs": [],
   "source": [
    "Next_btn= driver.find_element_by_xpath('//li[@class=\"pagination-next\"]')"
   ]
  },
  {
   "cell_type": "code",
   "execution_count": 204,
   "metadata": {},
   "outputs": [],
   "source": [
    "Brand=[]\n",
    "Short_summary=[]\n",
    "Price=[]\n",
    "\n",
    "for i in range(1,3):\n",
    "    brand=driver.find_elements_by_xpath('//h3[@class=\"product-brand\"]')\n",
    "    for i in brand:\n",
    "        Brand.append(i.text)\n",
    "        \n",
    "    short_summary=driver.find_elements_by_xpath('//h4[@class=\"product-product\"]')\n",
    "    \n",
    "    for i in short_summary:\n",
    "        Short_summary.append(i.text)\n",
    "        \n",
    "    price=driver.find_elements_by_xpath('//div[@class=\"product-price\"]')\n",
    "    \n",
    "    for i in price:\n",
    "        Price.append(i.text)\n",
    "    \n",
    "Next_btn.click()\n",
    "    "
   ]
  },
  {
   "cell_type": "code",
   "execution_count": 205,
   "metadata": {},
   "outputs": [
    {
     "data": {
      "text/html": [
       "<div>\n",
       "<style scoped>\n",
       "    .dataframe tbody tr th:only-of-type {\n",
       "        vertical-align: middle;\n",
       "    }\n",
       "\n",
       "    .dataframe tbody tr th {\n",
       "        vertical-align: top;\n",
       "    }\n",
       "\n",
       "    .dataframe thead th {\n",
       "        text-align: right;\n",
       "    }\n",
       "</style>\n",
       "<table border=\"1\" class=\"dataframe\">\n",
       "  <thead>\n",
       "    <tr style=\"text-align: right;\">\n",
       "      <th></th>\n",
       "      <th>Brand</th>\n",
       "      <th>Short_summary</th>\n",
       "      <th>Price</th>\n",
       "    </tr>\n",
       "  </thead>\n",
       "  <tbody>\n",
       "    <tr>\n",
       "      <th>0</th>\n",
       "      <td>Puma</td>\n",
       "      <td>Men BlackTraining or Gym Shoes</td>\n",
       "      <td>Rs. 6999</td>\n",
       "    </tr>\n",
       "    <tr>\n",
       "      <th>1</th>\n",
       "      <td>Puma</td>\n",
       "      <td>Men Cell Fraction Fade Running</td>\n",
       "      <td>Rs. 6999</td>\n",
       "    </tr>\n",
       "    <tr>\n",
       "      <th>2</th>\n",
       "      <td>Hush Puppies</td>\n",
       "      <td>Men Solid Leather Formal Slip-Ons</td>\n",
       "      <td>Rs. 8099Rs. 8999(10% OFF)</td>\n",
       "    </tr>\n",
       "    <tr>\n",
       "      <th>3</th>\n",
       "      <td>Hush Puppies</td>\n",
       "      <td>Men Solid Leather Formal Slip-Ons</td>\n",
       "      <td>Rs. 8999Rs. 9999(10% OFF)</td>\n",
       "    </tr>\n",
       "    <tr>\n",
       "      <th>4</th>\n",
       "      <td>Geox</td>\n",
       "      <td>Men Printed Slip-On Sneakers</td>\n",
       "      <td>Rs. 10999</td>\n",
       "    </tr>\n",
       "    <tr>\n",
       "      <th>...</th>\n",
       "      <td>...</td>\n",
       "      <td>...</td>\n",
       "      <td>...</td>\n",
       "    </tr>\n",
       "    <tr>\n",
       "      <th>95</th>\n",
       "      <td>Puma</td>\n",
       "      <td>Unisex Colourblocked Sneakers</td>\n",
       "      <td>Rs. 6999</td>\n",
       "    </tr>\n",
       "    <tr>\n",
       "      <th>96</th>\n",
       "      <td>PUMA Motorsport</td>\n",
       "      <td>Mercedes F1 Drift Cat Shoes</td>\n",
       "      <td>Rs. 7999</td>\n",
       "    </tr>\n",
       "    <tr>\n",
       "      <th>97</th>\n",
       "      <td>Saint G</td>\n",
       "      <td>Leather Block Sandals</td>\n",
       "      <td>Rs. 10355Rs. 10900(5% OFF)</td>\n",
       "    </tr>\n",
       "    <tr>\n",
       "      <th>98</th>\n",
       "      <td>ASICS</td>\n",
       "      <td>Women GlideRide Running Shoes</td>\n",
       "      <td>Rs. 11199Rs. 13999(20% OFF)</td>\n",
       "    </tr>\n",
       "    <tr>\n",
       "      <th>99</th>\n",
       "      <td>J.FONTINI</td>\n",
       "      <td>Men Solid Leather Formal Derbys</td>\n",
       "      <td>Rs. 6990</td>\n",
       "    </tr>\n",
       "  </tbody>\n",
       "</table>\n",
       "<p>100 rows × 3 columns</p>\n",
       "</div>"
      ],
      "text/plain": [
       "              Brand                      Short_summary  \\\n",
       "0              Puma     Men BlackTraining or Gym Shoes   \n",
       "1              Puma     Men Cell Fraction Fade Running   \n",
       "2      Hush Puppies  Men Solid Leather Formal Slip-Ons   \n",
       "3      Hush Puppies  Men Solid Leather Formal Slip-Ons   \n",
       "4              Geox       Men Printed Slip-On Sneakers   \n",
       "..              ...                                ...   \n",
       "95             Puma      Unisex Colourblocked Sneakers   \n",
       "96  PUMA Motorsport        Mercedes F1 Drift Cat Shoes   \n",
       "97          Saint G              Leather Block Sandals   \n",
       "98            ASICS      Women GlideRide Running Shoes   \n",
       "99        J.FONTINI    Men Solid Leather Formal Derbys   \n",
       "\n",
       "                          Price  \n",
       "0                      Rs. 6999  \n",
       "1                      Rs. 6999  \n",
       "2     Rs. 8099Rs. 8999(10% OFF)  \n",
       "3     Rs. 8999Rs. 9999(10% OFF)  \n",
       "4                     Rs. 10999  \n",
       "..                          ...  \n",
       "95                     Rs. 6999  \n",
       "96                     Rs. 7999  \n",
       "97   Rs. 10355Rs. 10900(5% OFF)  \n",
       "98  Rs. 11199Rs. 13999(20% OFF)  \n",
       "99                     Rs. 6990  \n",
       "\n",
       "[100 rows x 3 columns]"
      ]
     },
     "execution_count": 205,
     "metadata": {},
     "output_type": "execute_result"
    }
   ],
   "source": [
    "Shoes_Data= pd.DataFrame({})\n",
    "Shoes_Data['Brand']=Brand\n",
    "Shoes_Data['Short_summary']= Short_summary\n",
    "Shoes_Data['Price']=Price\n",
    "Shoes_Data"
   ]
  },
  {
   "cell_type": "code",
   "execution_count": null,
   "metadata": {},
   "outputs": [],
   "source": []
  },
  {
   "cell_type": "markdown",
   "metadata": {},
   "source": [
    "# Question-10"
   ]
  },
  {
   "cell_type": "code",
   "execution_count": null,
   "metadata": {},
   "outputs": [],
   "source": []
  },
  {
   "cell_type": "code",
   "execution_count": 161,
   "metadata": {},
   "outputs": [],
   "source": [
    "driver = webdriver.Chrome('chromedriver.exe')"
   ]
  },
  {
   "cell_type": "code",
   "execution_count": 162,
   "metadata": {},
   "outputs": [],
   "source": [
    "url = 'https://www.amazon.in/'\n",
    "driver.get(url)"
   ]
  },
  {
   "cell_type": "code",
   "execution_count": 163,
   "metadata": {},
   "outputs": [],
   "source": [
    "search_product = driver.find_element_by_id('twotabsearchtextbox')\n",
    "search_btn = driver.find_element_by_id('nav-search-submit-button')"
   ]
  },
  {
   "cell_type": "code",
   "execution_count": 164,
   "metadata": {},
   "outputs": [],
   "source": [
    "search_product.send_keys('Laptop')\n",
    "search_btn.click()"
   ]
  },
  {
   "cell_type": "code",
   "execution_count": 165,
   "metadata": {},
   "outputs": [],
   "source": [
    "# lets use the filter for “Intel Core i7” and “Intel Core i9”\n",
    "\n",
    "core_i7 = driver.find_element_by_xpath('//li[@id = \"p_n_feature_thirteen_browse-bin/12598163031\"]/span')\n"
   ]
  },
  {
   "cell_type": "code",
   "execution_count": 166,
   "metadata": {},
   "outputs": [],
   "source": [
    "core_i7.click()"
   ]
  },
  {
   "cell_type": "code",
   "execution_count": 167,
   "metadata": {},
   "outputs": [
    {
     "data": {
      "text/plain": [
       "<selenium.webdriver.remote.webelement.WebElement (session=\"85e84cf11681130a648b59a5e51aca1e\", element=\"e682a964-bf29-4dd8-9da9-4e93d83db64b\")>"
      ]
     },
     "execution_count": 167,
     "metadata": {},
     "output_type": "execute_result"
    }
   ],
   "source": [
    "core_i9 = driver.find_element_by_xpath('//li[@id = \"p_n_feature_thirteen_browse-bin/16757432031\"]/span')\n",
    "core_i9"
   ]
  },
  {
   "cell_type": "code",
   "execution_count": 168,
   "metadata": {},
   "outputs": [],
   "source": [
    "core_i9.click()"
   ]
  },
  {
   "cell_type": "markdown",
   "metadata": {},
   "source": [
    "Now scrap the data from portal"
   ]
  },
  {
   "cell_type": "code",
   "execution_count": 169,
   "metadata": {},
   "outputs": [],
   "source": [
    "title = driver.find_elements_by_xpath('//span[@class = \"a-size-medium a-color-base a-text-normal\"]')"
   ]
  },
  {
   "cell_type": "code",
   "execution_count": 170,
   "metadata": {},
   "outputs": [
    {
     "data": {
      "text/plain": [
       "['HP Envy 11th Gen Core i7 Processor 13.3-inch (33.78 cms) FHD Touchscreen Laptop (16GB/1TB SSD/Win 10/NVIDIA MX450 2GB/Natural Silver/1.3 kg), 13-ba1018TX',\n",
       " 'Mi Notebook Horizon Edition 14 Intel Core i7-10510U 10th Gen Thin and Light Laptop(8GB/512GB SSD/Windows 10/Nvidia MX350 2GB Graphics/Grey/1.35Kg)(Without Webcam) XMA1904-AF',\n",
       " 'Lenovo IdeaPad S540 11th Gen Intel Core i7 13.3\" QHD IPS Thin & Light Laptop (16GB/512GB SSD/Windows 10/MS Office 2019/Intel Iris Xe Graphics/Iron Grey/1.28Kg), 82H1002CIN',\n",
       " 'ASUS ROG G703GI-E5148T 17.3\" (43.94 cms) FHD 144Hz/3ms Gaming Laptop (8th Gen Intel Core i9-8950HK/64GB/2TB SSHD + 1.5TB NVMe SSD/Windows 10/GTX 1080 8GB Graphics/4.70 Kg), Aluminum',\n",
       " 'ASUS TUF Dash F15 (2021), 15.6-inch (39.62 cms) FHD 144Hz, Intel Core i7-11370H 11th Gen, RTX 3050 4GB Graphics Gaming Laptop (16GB RAM/512GB SSD/Windows 10/White/2 kg), FX516PC-HN062T',\n",
       " 'ASUS TUF Dash F15 (2021), 15.6-inch (39.62 cms) FHD 144Hz, Intel Core i7-11370H 11th Gen, RTX 3050 4GB Graphics Gaming Laptop (16GB RAM/512GB SSD/Windows 10/Gray/2 kg), FX516PC-HN063T',\n",
       " 'Fujitsu UH-X 11th Gen Intel Core i7 13.3” (33.78cm) FHD IPS 400Nits 2-in1 Touch Convertible Laptop (16GB/1TB SSD/Win10/Office/Iris Xe Graphics/Backlit Kb/Black/997gms), 4ZR1D71993',\n",
       " 'HP Pavilion Gaming 11th Gen Intel Core i7 15.6-inch(39.6 cm) FHD Gaming Laptop (16GB RAM/512GB SSD/144Hz/GTX 1650 4GB Graphics/Win 10/MS Office/Shadow Black/2.28 Kg), 15-dk2075tx',\n",
       " 'ASUS TUF Dash F15 (2021) 15.6\" (39.62 cm) FHD 240Hz/3ms, Intel Core i7-11370H, GeForce RTX 3060 6GB Graphics, Gaming Laptop (16GB RAM/1TB SSD/Office 2019/Windows 10 Home/Gray/2 Kg) FX516PM-AZ153TS',\n",
       " 'HP Pavilion 13(2021) 11th Gen Intel Core i7 Laptop, 16GB RAM, 1TB SSD, 13.3-inch(33.8 cm) FHD Screen, Win 10, MS Office, Ceramic White, 1.24 Kg (13-bb0078TU)',\n",
       " 'Fujitsu UH-X 11th Gen Intel i7 Core 13.3” (33.78cm) FHD IPS 400Nits Thin and Light Laptop (16GB/512GB SSD/Win10/Office/Iris Xe Graphics/Backlit Kb/ Fingerprint Reader/Black/878gms), 4ZR1D67596',\n",
       " 'Lenovo IdeaPad Flex 5 11th Gen Intel Core i7 14\"(35.56cm) FHD IPS 2-in-1 Touchscreen Laptop(16GB/512GB SSD/Windows 10/MS Office/Lenovo Digital Pen/Fingerprint Reader/Graphite Grey/1.5Kg), 82HS0092IN',\n",
       " 'ASUS TUF Gaming F17 (2021), 17.3-inch (43.94 cms) FHD 144Hz, Intel Core i7-11800H 11th Gen, GeForce RTX 3050 Ti 4GB Graphics, Gaming Laptop (16GB/1TB SSD/Windows 10/Eclipse Gray/2.6 Kg) FX766HE-HX022T',\n",
       " 'Acer Swift 5 14\" (35.56cms) Full HD IPS Display with Touchscreen Ultra Thin and Light Notebook (Intel i7 - 11th Gen/16GB RAM/1TB SSD/Win10/Intel Iris Xe Graphics/1.05 Kg/Mist Green), SF514-55TA',\n",
       " 'MSI GF75 Thin, Intel i7-10750H, 17.3\" (43.9 cm) FHD IPS-Level 144Hz Panel Laptop (8GB/512GB NVMe SSD/Windows 10 Home/Nvidia GTX1650 4GB GDDR6/Black/2.2Kg), 10SCXR-654IN',\n",
       " 'Lenovo Yoga 7 11th Gen Intel Core i7 14\" Full HD IPS 2-in-1 Touchscreen Laptop (16GB/512GB SSD/Windows 10/MS Office 2019/Lenovo Digital Pen/Slate Grey/Aluminium Surface/1.43Kg), 82BH00E0IN',\n",
       " 'Lenovo IdeaPad Gaming 3 11th Gen Intel Core i7-11370H 15.6\" (39.63cm) FHD IPS Gaming Laptop (8GB/512GB SSD/Windows 10/NVIDIA RTX 3050 4GB/120Hz Refresh Display/Shadow Black/2.25Kg), 82K1004EIN',\n",
       " 'Lenovo IdeaPad Gaming 3 Intel Core i7 10th Gen 15.6\" FHD IPS 250Nits Gaming Laptop (8GB/512GB SSD/Win10/NVIDIA GTX 1650 4GB GDDR6 Graphics/120Hz/Onyx Black/2.2Kg), 81Y4019EIN',\n",
       " 'Lenovo Yoga Slim 7 11th gen Intel Core i7 14\" FHD IPS Touchscreen Fabric Surface Thin & Light Laptop (16GB/1TB SSD/Win10/Office/Intel Iris Graphics/Fingerprint Reader/Slate Grey/1.33Kg), 82A300BEIN',\n",
       " 'Lenovo Legion 7 10th Gen Intel Core i9 15.6 inch Full HD Gaming Laptop (16GB/1TB SSD/Windows 10/MS Office 2019/144 Hz/NVIDIA RTX 2080 8GB GDDR6 Graphics/Slate Grey/2.25Kg), 81YU006HIN',\n",
       " 'ASUS TUF Gaming F15 (2021), 15.6-inch (39.62 cms) FHD 144Hz, Intel Core i7-11800H 11th Gen, RTX 3050 4GB Graphics Gaming Laptop (8GB RAM/1TB SSD/Windows 10/Black/2.3 kg), FX506HC-HN095T',\n",
       " 'ASUS TUF Gaming F15 (2021), 15.6-inch (39.62 cms) FHD 144Hz, Intel Core i7-11800H 11th Gen, GeForce RTX 3050 4GB Graphics, Gaming Laptop (8GB/512GB SSD/Windows 10/Eclipse Gray/2.3 Kg), FX566HC-HN093T',\n",
       " 'Lenovo Legion Y540 9th Gen Intel Core i7-9750HF 15.6\" (39.63cm) FHD IPS Gaming Laptop (8GB/1TB + 256GB SSD/Windows 10/NVIDIA GTX 1650 4GB/60Hz Refresh Display/Raven Black/2.3Kg), 81SY00U7IN',\n",
       " 'ASUS VivoBook S S14 Intel Core i7-1165G7 11th Gen, 14-inch FHD Thin and Light Laptop (8GB RAM/512GB SSD + 32GB Optane Memory/Windows 10/Office 2019/Iris X Graphics- Indie Black/1.4 Kg), S433EA-AM701TS',\n",
       " 'Acer Nitro 5 Intel Core i7-11th Gen 15.6-inch (39.62 cms) 144 Hz Refresh Rate Gaming Laptop (8GB RAM/RTX 3050 Graphics/1TB HDD + 256GB SSD/Windows 10 HS/Black/2.4 Kgs), AN515-57',\n",
       " 'HP Pavilion Gaming 10th Gen Intel Core i7 Processor 15.6-inch FHD Gaming Laptop (16GB/512GB SSD + 32GB Intel Optane/Windows 10/NVIDIA 1650Ti 4GB/Shadow Black), 15-dk1509TX']"
      ]
     },
     "execution_count": 170,
     "metadata": {},
     "output_type": "execute_result"
    }
   ],
   "source": [
    "Title = []\n",
    "\n",
    "for i in title:\n",
    "    Title.append(i.text)\n",
    "Title"
   ]
  },
  {
   "cell_type": "code",
   "execution_count": 171,
   "metadata": {},
   "outputs": [
    {
     "data": {
      "text/plain": [
       "26"
      ]
     },
     "execution_count": 171,
     "metadata": {},
     "output_type": "execute_result"
    }
   ],
   "source": [
    "len(Title)"
   ]
  },
  {
   "cell_type": "code",
   "execution_count": 172,
   "metadata": {},
   "outputs": [],
   "source": [
    "title_url = driver.find_elements_by_xpath('//a[@class = \"a-link-normal a-text-normal\"]')"
   ]
  },
  {
   "cell_type": "code",
   "execution_count": 173,
   "metadata": {},
   "outputs": [
    {
     "data": {
      "text/plain": [
       "['https://www.amazon.in/gp/slredirect/picassoRedirect.html/ref=pa_sp_atf_computers_sr_pg1_1?ie=UTF8&adId=A10081262K6KZOZ37JXYV&url=%2FHP-Processor-13-3-inch-Touchscreen-13-ba1018TX%2Fdp%2FB091FJ13Q5%2Fref%3Dsr_1_1_sspa%3Fdchild%3D1%26keywords%3DLaptop%26qid%3D1631552684%26refinements%3Dp_n_feature_thirteen_browse-bin%253A12598163031%257C16757432031%26rnid%3D12598141031%26s%3Dcomputers%26sr%3D1-1-spons%26psc%3D1&qualifier=1631552684&id=1843246966218228&widgetName=sp_atf',\n",
       " 'https://www.amazon.in/Notebook-Horizon-i7-10510U-Graphics-XMA1904-AF/dp/B089DFJHZ8/ref=sr_1_2?dchild=1&keywords=Laptop&qid=1631552684&refinements=p_n_feature_thirteen_browse-bin%3A12598163031%7C16757432031&rnid=12598141031&s=computers&sr=1-2',\n",
       " 'https://www.amazon.in/Lenovo-IdeaPad-Windows-Graphics-82H1002CIN/dp/B094XJPQ6N/ref=sr_1_3?dchild=1&keywords=Laptop&qid=1631552684&refinements=p_n_feature_thirteen_browse-bin%3A12598163031%7C16757432031&rnid=12598141031&s=computers&sr=1-3',\n",
       " 'https://www.amazon.in/Asus-G703GI-E5148T-17-3-inch-i9-8950HK-Processor/dp/B07GRCW51K/ref=sr_1_4?dchild=1&keywords=Laptop&qid=1631552684&refinements=p_n_feature_thirteen_browse-bin%3A12598163031%7C16757432031&rnid=12598141031&s=computers&sr=1-4',\n",
       " 'https://www.amazon.in/ASUS-Dash-F15-15-6-inch-i7-11370H-FX516PC-HN062T/dp/B096KZ11KK/ref=sr_1_5?dchild=1&keywords=Laptop&qid=1631552684&refinements=p_n_feature_thirteen_browse-bin%3A12598163031%7C16757432031&rnid=12598141031&s=computers&sr=1-5',\n",
       " 'https://www.amazon.in/ASUS-Dash-F15-15-6-inch-i7-11370H-FX516PC-HN063T/dp/B096KVJ5PC/ref=sr_1_6?dchild=1&keywords=Laptop&qid=1631552684&refinements=p_n_feature_thirteen_browse-bin%3A12598163031%7C16757432031&rnid=12598141031&s=computers&sr=1-6',\n",
       " 'https://www.amazon.in/Fujitsu-33-78cm-Convertible-Graphics-4ZR1D71993/dp/B098P4M233/ref=sr_1_7?dchild=1&keywords=Laptop&qid=1631552684&refinements=p_n_feature_thirteen_browse-bin%3A12598163031%7C16757432031&rnid=12598141031&s=computers&sr=1-7',\n",
       " 'https://www.amazon.in/HP-Pavilion-15-6-inch-Graphics-15-dk2075tx/dp/B09BDBCRNZ/ref=sr_1_8?dchild=1&keywords=Laptop&qid=1631552684&refinements=p_n_feature_thirteen_browse-bin%3A12598163031%7C16757432031&rnid=12598141031&s=computers&sr=1-8',\n",
       " 'https://www.amazon.in/ASUS-i7-11370H-GeForce-Graphics-FX516PM-AZ153TS/dp/B08CKRKTSY/ref=sr_1_9?dchild=1&keywords=Laptop&qid=1631552684&refinements=p_n_feature_thirteen_browse-bin%3A12598163031%7C16757432031&rnid=12598141031&s=computers&sr=1-9',\n",
       " 'https://www.amazon.in/HP-Pavilion-13-3-inch-Ceramic-13-bb0078TU/dp/B09839P9XB/ref=sr_1_10?dchild=1&keywords=Laptop&qid=1631552684&refinements=p_n_feature_thirteen_browse-bin%3A12598163031%7C16757432031&rnid=12598141031&s=computers&sr=1-10',\n",
       " 'https://www.amazon.in/Fujitsu-33-78cm-Graphics-Fingerprint-4ZR1D67596/dp/B098P34QRL/ref=sr_1_11?dchild=1&keywords=Laptop&qid=1631552684&refinements=p_n_feature_thirteen_browse-bin%3A12598163031%7C16757432031&rnid=12598141031&s=computers&sr=1-11',\n",
       " 'https://www.amazon.in/Lenovo-Touchscreen-Fingerprint-Graphite-82HS0092IN/dp/B08WRZQBQ6/ref=sr_1_12?dchild=1&keywords=Laptop&qid=1631552684&refinements=p_n_feature_thirteen_browse-bin%3A12598163031%7C16757432031&rnid=12598141031&s=computers&sr=1-12',\n",
       " 'https://www.amazon.in/ASUS-17-3-inch-i7-11800H-GeForce-RTX-3050-Ti-FX766HE-HX022T/dp/B0987S6PG1/ref=sr_1_13?dchild=1&keywords=Laptop&qid=1631552684&refinements=p_n_feature_thirteen_browse-bin%3A12598163031%7C16757432031&rnid=12598141031&s=computers&sr=1-13',\n",
       " 'https://www.amazon.in/gp/slredirect/picassoRedirect.html/ref=pa_sp_mtf_computers_sr_pg1_1?ie=UTF8&adId=A00766773MSMG2AO2CGIQ&url=%2FAcer-Swift-Display-Touchscreen-Notebook%2Fdp%2FB08M41DHTV%2Fref%3Dsr_1_14_sspa%3Fdchild%3D1%26keywords%3DLaptop%26qid%3D1631552684%26refinements%3Dp_n_feature_thirteen_browse-bin%253A12598163031%257C16757432031%26rnid%3D12598141031%26s%3Dcomputers%26sr%3D1-14-spons%26psc%3D1&qualifier=1631552684&id=1843246966218228&widgetName=sp_mtf',\n",
       " 'https://www.amazon.in/MSI-i7-10750H-IPS-Level-Windows-10SCXR-654IN/dp/B093L8QGL7/ref=sr_1_15?dchild=1&keywords=Laptop&qid=1631552684&refinements=p_n_feature_thirteen_browse-bin%3A12598163031%7C16757432031&rnid=12598141031&s=computers&sr=1-15',\n",
       " 'https://www.amazon.in/Lenovo-Touchscreen-Windows-Aluminium-82BH00E0IN/dp/B0999929LG/ref=sr_1_16?dchild=1&keywords=Laptop&qid=1631552684&refinements=p_n_feature_thirteen_browse-bin%3A12598163031%7C16757432031&rnid=12598141031&s=computers&sr=1-16',\n",
       " 'https://www.amazon.in/Lenovo-IdeaPad-i7-11370H-39-63cm-82K1004EIN/dp/B09BJ7GD7B/ref=sr_1_17?dchild=1&keywords=Laptop&qid=1631552684&refinements=p_n_feature_thirteen_browse-bin%3A12598163031%7C16757432031&rnid=12598141031&s=computers&sr=1-17',\n",
       " 'https://www.amazon.in/Lenovo-IdeaPad-250Nits-Graphics-81Y4019EIN/dp/B097TZMG7R/ref=sr_1_18?dchild=1&keywords=Laptop&qid=1631552684&refinements=p_n_feature_thirteen_browse-bin%3A12598163031%7C16757432031&rnid=12598141031&s=computers&sr=1-18',\n",
       " 'https://www.amazon.in/Lenovo-Touchscreen-Graphics-Fingerprint-82A300BEIN/dp/B094XHDWWF/ref=sr_1_19?dchild=1&keywords=Laptop&qid=1631552684&refinements=p_n_feature_thirteen_browse-bin%3A12598163031%7C16757432031&rnid=12598141031&s=computers&sr=1-19',\n",
       " 'https://www.amazon.in/Lenovo-Legion-Windows-Graphics-81YU006HIN/dp/B08GG9RZJC/ref=sr_1_20?dchild=1&keywords=Laptop&qid=1631552684&refinements=p_n_feature_thirteen_browse-bin%3A12598163031%7C16757432031&rnid=12598141031&s=computers&sr=1-20',\n",
       " 'https://www.amazon.in/ASUS-15-6-inch-i7-11800H-RTX-3050-FX506HC-HN095T/dp/B096KX5YXL/ref=sr_1_21?dchild=1&keywords=Laptop&qid=1631552684&refinements=p_n_feature_thirteen_browse-bin%3A12598163031%7C16757432031&rnid=12598141031&s=computers&sr=1-21',\n",
       " 'https://www.amazon.in/ASUS-15-6-inch-i7-11800H-GeForce-RTX-3050-FX566HC-HN093T/dp/B0987SKPZ3/ref=sr_1_22?dchild=1&keywords=Laptop&qid=1631552684&refinements=p_n_feature_thirteen_browse-bin%3A12598163031%7C16757432031&rnid=12598141031&s=computers&sr=1-22',\n",
       " 'https://www.amazon.in/Lenovo-i7-9750HF-39-63cm-Windows-81SY00U7IN/dp/B092MRQCJ6/ref=sr_1_23?dchild=1&keywords=Laptop&qid=1631552684&refinements=p_n_feature_thirteen_browse-bin%3A12598163031%7C16757432031&rnid=12598141031&s=computers&sr=1-23',\n",
       " 'https://www.amazon.in/ASUS-VivoBook-i7-1165G7-Graphics-S433EA-AM701TS/dp/B08PQTZB3Z/ref=sr_1_24?dchild=1&keywords=Laptop&qid=1631552684&refinements=p_n_feature_thirteen_browse-bin%3A12598163031%7C16757432031&rnid=12598141031&s=computers&sr=1-24',\n",
       " 'https://www.amazon.in/Acer-i7-11th-15-6-inch-Graphics-AN515-57/dp/B09B2DH1PD/ref=sr_1_25?dchild=1&keywords=Laptop&qid=1631552684&refinements=p_n_feature_thirteen_browse-bin%3A12598163031%7C16757432031&rnid=12598141031&s=computers&sr=1-25',\n",
       " 'https://www.amazon.in/HP-Pavilion-Processor-15-6-inch-15-dk1509TX/dp/B08ZN7GBQ5/ref=sr_1_26?dchild=1&keywords=Laptop&qid=1631552684&refinements=p_n_feature_thirteen_browse-bin%3A12598163031%7C16757432031&rnid=12598141031&s=computers&sr=1-26']"
      ]
     },
     "execution_count": 173,
     "metadata": {},
     "output_type": "execute_result"
    }
   ],
   "source": [
    "url = []\n",
    "\n",
    "for i in title_url:\n",
    "    url.append(i.get_attribute('href'))\n",
    "url"
   ]
  },
  {
   "cell_type": "code",
   "execution_count": 174,
   "metadata": {},
   "outputs": [
    {
     "data": {
      "text/plain": [
       "['4.1 out of 5',\n",
       " '4.2 out of 5',\n",
       " '4.3 out of 5',\n",
       " '3.7 out of 5',\n",
       " '--',\n",
       " '3 out of 5',\n",
       " '4.1 out of 5',\n",
       " '3.7 out of 5',\n",
       " '3.7 out of 5',\n",
       " '5 out of 5']"
      ]
     },
     "execution_count": 174,
     "metadata": {},
     "output_type": "execute_result"
    }
   ],
   "source": [
    "import time\n",
    "\n",
    "Rating = []\n",
    "\n",
    "for i in url[:10]:\n",
    "    driver.get(i)\n",
    "    time.sleep(5)\n",
    "    try:\n",
    "        rating = driver.find_element_by_xpath('//span[@class = \"a-size-base a-nowrap\"]')\n",
    "        Rating.append(rating.text)\n",
    "    except:\n",
    "        Rating.append('--')\n",
    "        \n",
    "Rating"
   ]
  },
  {
   "cell_type": "code",
   "execution_count": 175,
   "metadata": {},
   "outputs": [
    {
     "data": {
      "text/plain": [
       "['1,23,350',\n",
       " '57,990',\n",
       " '77,990',\n",
       " '5,56,524',\n",
       " '85,990',\n",
       " '84,990',\n",
       " '1,07,990',\n",
       " '89,990',\n",
       " '1,09,990',\n",
       " '92,990',\n",
       " '92,990',\n",
       " '98,500',\n",
       " '1,13,990',\n",
       " '94,999',\n",
       " '74,990',\n",
       " '97,989',\n",
       " '84,990',\n",
       " '73,990',\n",
       " '97,889',\n",
       " '1,99,990',\n",
       " '1,09,990',\n",
       " '96,990',\n",
       " '72,990',\n",
       " '81,290',\n",
       " '89,999',\n",
       " '98,200']"
      ]
     },
     "execution_count": 175,
     "metadata": {},
     "output_type": "execute_result"
    }
   ],
   "source": [
    "Price = []\n",
    "\n",
    "price = driver.find_elements_by_xpath('//span[@class = \"a-price-whole\"]')\n",
    "for i in price:\n",
    "    Price.append(i.text)\n",
    "    \n",
    "Price"
   ]
  },
  {
   "cell_type": "code",
   "execution_count": 176,
   "metadata": {},
   "outputs": [
    {
     "data": {
      "text/plain": [
       "26"
      ]
     },
     "execution_count": 176,
     "metadata": {},
     "output_type": "execute_result"
    }
   ],
   "source": [
    "len(Price)"
   ]
  },
  {
   "cell_type": "code",
   "execution_count": 177,
   "metadata": {},
   "outputs": [
    {
     "data": {
      "text/html": [
       "<div>\n",
       "<style scoped>\n",
       "    .dataframe tbody tr th:only-of-type {\n",
       "        vertical-align: middle;\n",
       "    }\n",
       "\n",
       "    .dataframe tbody tr th {\n",
       "        vertical-align: top;\n",
       "    }\n",
       "\n",
       "    .dataframe thead th {\n",
       "        text-align: right;\n",
       "    }\n",
       "</style>\n",
       "<table border=\"1\" class=\"dataframe\">\n",
       "  <thead>\n",
       "    <tr style=\"text-align: right;\">\n",
       "      <th></th>\n",
       "      <th>Title</th>\n",
       "      <th>Price</th>\n",
       "      <th>Rating</th>\n",
       "    </tr>\n",
       "  </thead>\n",
       "  <tbody>\n",
       "    <tr>\n",
       "      <th>0</th>\n",
       "      <td>HP Envy 11th Gen Core i7 Processor 13.3-inch (...</td>\n",
       "      <td>1,23,350</td>\n",
       "      <td>4.1 out of 5</td>\n",
       "    </tr>\n",
       "    <tr>\n",
       "      <th>1</th>\n",
       "      <td>Mi Notebook Horizon Edition 14 Intel Core i7-1...</td>\n",
       "      <td>57,990</td>\n",
       "      <td>4.2 out of 5</td>\n",
       "    </tr>\n",
       "    <tr>\n",
       "      <th>2</th>\n",
       "      <td>Lenovo IdeaPad S540 11th Gen Intel Core i7 13....</td>\n",
       "      <td>77,990</td>\n",
       "      <td>4.3 out of 5</td>\n",
       "    </tr>\n",
       "    <tr>\n",
       "      <th>3</th>\n",
       "      <td>ASUS ROG G703GI-E5148T 17.3\" (43.94 cms) FHD 1...</td>\n",
       "      <td>5,56,524</td>\n",
       "      <td>3.7 out of 5</td>\n",
       "    </tr>\n",
       "    <tr>\n",
       "      <th>4</th>\n",
       "      <td>ASUS TUF Dash F15 (2021), 15.6-inch (39.62 cms...</td>\n",
       "      <td>85,990</td>\n",
       "      <td>--</td>\n",
       "    </tr>\n",
       "    <tr>\n",
       "      <th>5</th>\n",
       "      <td>ASUS TUF Dash F15 (2021), 15.6-inch (39.62 cms...</td>\n",
       "      <td>84,990</td>\n",
       "      <td>3 out of 5</td>\n",
       "    </tr>\n",
       "    <tr>\n",
       "      <th>6</th>\n",
       "      <td>Fujitsu UH-X 11th Gen Intel Core i7 13.3” (33....</td>\n",
       "      <td>1,07,990</td>\n",
       "      <td>4.1 out of 5</td>\n",
       "    </tr>\n",
       "    <tr>\n",
       "      <th>7</th>\n",
       "      <td>HP Pavilion Gaming 11th Gen Intel Core i7 15.6...</td>\n",
       "      <td>89,990</td>\n",
       "      <td>3.7 out of 5</td>\n",
       "    </tr>\n",
       "    <tr>\n",
       "      <th>8</th>\n",
       "      <td>ASUS TUF Dash F15 (2021) 15.6\" (39.62 cm) FHD ...</td>\n",
       "      <td>1,09,990</td>\n",
       "      <td>3.7 out of 5</td>\n",
       "    </tr>\n",
       "    <tr>\n",
       "      <th>9</th>\n",
       "      <td>HP Pavilion 13(2021) 11th Gen Intel Core i7 La...</td>\n",
       "      <td>92,990</td>\n",
       "      <td>5 out of 5</td>\n",
       "    </tr>\n",
       "  </tbody>\n",
       "</table>\n",
       "</div>"
      ],
      "text/plain": [
       "                                               Title     Price        Rating\n",
       "0  HP Envy 11th Gen Core i7 Processor 13.3-inch (...  1,23,350  4.1 out of 5\n",
       "1  Mi Notebook Horizon Edition 14 Intel Core i7-1...    57,990  4.2 out of 5\n",
       "2  Lenovo IdeaPad S540 11th Gen Intel Core i7 13....    77,990  4.3 out of 5\n",
       "3  ASUS ROG G703GI-E5148T 17.3\" (43.94 cms) FHD 1...  5,56,524  3.7 out of 5\n",
       "4  ASUS TUF Dash F15 (2021), 15.6-inch (39.62 cms...    85,990            --\n",
       "5  ASUS TUF Dash F15 (2021), 15.6-inch (39.62 cms...    84,990    3 out of 5\n",
       "6  Fujitsu UH-X 11th Gen Intel Core i7 13.3” (33....  1,07,990  4.1 out of 5\n",
       "7  HP Pavilion Gaming 11th Gen Intel Core i7 15.6...    89,990  3.7 out of 5\n",
       "8  ASUS TUF Dash F15 (2021) 15.6\" (39.62 cm) FHD ...  1,09,990  3.7 out of 5\n",
       "9  HP Pavilion 13(2021) 11th Gen Intel Core i7 La...    92,990    5 out of 5"
      ]
     },
     "execution_count": 177,
     "metadata": {},
     "output_type": "execute_result"
    }
   ],
   "source": [
    "Laptops = pd.DataFrame({})\n",
    "\n",
    "Laptops[\"Title\"] = Title[:10]\n",
    "Laptops['Price'] = Price[:10]\n",
    "Laptops['Rating'] = Rating\n",
    "\n",
    "Laptops"
   ]
  },
  {
   "cell_type": "code",
   "execution_count": null,
   "metadata": {},
   "outputs": [],
   "source": []
  },
  {
   "cell_type": "code",
   "execution_count": null,
   "metadata": {},
   "outputs": [],
   "source": []
  },
  {
   "cell_type": "code",
   "execution_count": null,
   "metadata": {},
   "outputs": [],
   "source": []
  },
  {
   "cell_type": "code",
   "execution_count": null,
   "metadata": {},
   "outputs": [],
   "source": []
  }
 ],
 "metadata": {
  "kernelspec": {
   "display_name": "Python 3",
   "language": "python",
   "name": "python3"
  },
  "language_info": {
   "codemirror_mode": {
    "name": "ipython",
    "version": 3
   },
   "file_extension": ".py",
   "mimetype": "text/x-python",
   "name": "python",
   "nbconvert_exporter": "python",
   "pygments_lexer": "ipython3",
   "version": "3.8.5"
  }
 },
 "nbformat": 4,
 "nbformat_minor": 4
}
